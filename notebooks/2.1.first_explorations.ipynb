{
 "cells": [
  {
   "cell_type": "code",
   "execution_count": 1,
   "metadata": {
    "vscode": {
     "languageId": "python"
    }
   },
   "outputs": [],
   "source": [
    "# Reload all modules every time before executing the Python code typed\n",
    "%load_ext autoreload\n",
    "%autoreload 2"
   ]
  },
  {
   "cell_type": "code",
   "execution_count": 2,
   "metadata": {
    "vscode": {
     "languageId": "python"
    }
   },
   "outputs": [],
   "source": [
    "import os\n",
    "import datetime\n",
    "import io\n",
    "import pickle\n",
    "import re\n",
    "import json\n",
    "import gzip\n",
    "import cProfile\n",
    "import lxml.etree\n",
    "from tqdm import tqdm\n",
    "from pathlib import Path\n",
    "import matplotlib.pyplot as plt\n",
    "# import ray\n",
    "import numpy as np\n",
    "from shapely.geometry import Point, Polygon, MultiPolygon, box\n",
    "import geopandas as geopd\n",
    "import pandas as pd\n",
    "import querier as qr\n",
    "from dotenv import load_dotenv\n",
    "load_dotenv()\n",
    "\n",
    "import ses_ling.data.access as data_access\n",
    "import ses_ling.utils.paths as path_utils\n",
    "import ses_ling.utils.geometry as geo_utils\n",
    "import ses_ling.utils.spatial_agg as spatial_agg\n",
    "import ses_ling.utils.text_process as text_process\n",
    "from ses_ling.language import Region, Language"
   ]
  },
  {
   "cell_type": "code",
   "execution_count": 3,
   "metadata": {
    "vscode": {
     "languageId": "python"
    }
   },
   "outputs": [],
   "source": [
    "paths = path_utils.ProjectPaths()\n",
    "all_cntr_shapes = geopd.read_file(paths.countries_shapefile)"
   ]
  },
  {
   "cell_type": "code",
   "execution_count": 4,
   "metadata": {
    "vscode": {
     "languageId": "python"
    }
   },
   "outputs": [],
   "source": [
    "with open(paths.ext_data / 'countries.json') as f:\n",
    "    countries_dict = json.load(f)\n",
    "cc = 'GB'\n",
    "cc_dict = countries_dict[cc]\n",
    "year_from = 2015\n",
    "year_to = 2021\n",
    "assign_kwargs = dict(\n",
    "    nighttime_acty_th = 0.5,\n",
    "    all_acty_th = 0.1,\n",
    "    count_th = 3,\n",
    ")"
   ]
  },
  {
   "cell_type": "code",
   "execution_count": 6,
   "metadata": {
    "vscode": {
     "languageId": "python"
    }
   },
   "outputs": [],
   "source": [
    "_cc_init_params = {cc: {'cell_size': 'MSOA_BGC', 'ses_idx': \"IMD\"}}\n",
    "lang = Language(\n",
    "    'en', 'English', _cc_init_params, all_cntr_shapes, countries_dict,\n",
    "    year_from=year_from, year_to=year_to,\n",
    "    latlon_proj=cc_dict['xy_proj'], # TOCHANGE when several countries\n",
    "    **assign_kwargs\n",
    ")"
   ]
  },
  {
   "cell_type": "code",
   "execution_count": null,
   "metadata": {
    "vscode": {
     "languageId": "python"
    }
   },
   "outputs": [
    {
     "data": {
      "text/html": [
       "<div>\n",
       "<style scoped>\n",
       "    .dataframe tbody tr th:only-of-type {\n",
       "        vertical-align: middle;\n",
       "    }\n",
       "\n",
       "    .dataframe tbody tr th {\n",
       "        vertical-align: top;\n",
       "    }\n",
       "\n",
       "    .dataframe thead th {\n",
       "        text-align: right;\n",
       "    }\n",
       "</style>\n",
       "<table border=\"1\" class=\"dataframe\">\n",
       "  <thead>\n",
       "    <tr style=\"text-align: right;\">\n",
       "      <th></th>\n",
       "      <th>objectid</th>\n",
       "      <th>msoa11nm</th>\n",
       "      <th>msoa11nmw</th>\n",
       "      <th>bng_e</th>\n",
       "      <th>bng_n</th>\n",
       "      <th>long</th>\n",
       "      <th>lat</th>\n",
       "      <th>shape__are</th>\n",
       "      <th>shape__len</th>\n",
       "      <th>geometry</th>\n",
       "      <th>wavg</th>\n",
       "      <th>wvar</th>\n",
       "      <th>avg</th>\n",
       "      <th>var</th>\n",
       "      <th>min</th>\n",
       "      <th>max</th>\n",
       "      <th>weight</th>\n",
       "      <th>nr_units</th>\n",
       "      <th>wstd</th>\n",
       "    </tr>\n",
       "    <tr>\n",
       "      <th>msoa11cd</th>\n",
       "      <th></th>\n",
       "      <th></th>\n",
       "      <th></th>\n",
       "      <th></th>\n",
       "      <th></th>\n",
       "      <th></th>\n",
       "      <th></th>\n",
       "      <th></th>\n",
       "      <th></th>\n",
       "      <th></th>\n",
       "      <th></th>\n",
       "      <th></th>\n",
       "      <th></th>\n",
       "      <th></th>\n",
       "      <th></th>\n",
       "      <th></th>\n",
       "      <th></th>\n",
       "      <th></th>\n",
       "      <th></th>\n",
       "    </tr>\n",
       "  </thead>\n",
       "  <tbody>\n",
       "    <tr>\n",
       "      <th>E02000001</th>\n",
       "      <td>1</td>\n",
       "      <td>City of London 001</td>\n",
       "      <td>City of London 001</td>\n",
       "      <td>532378</td>\n",
       "      <td>181354</td>\n",
       "      <td>-0.093570</td>\n",
       "      <td>51.51560</td>\n",
       "      <td>2.906361e+06</td>\n",
       "      <td>8936.818478</td>\n",
       "      <td>POLYGON ((-0.09676 51.52325, -0.09644 51.52282...</td>\n",
       "      <td>5.456302</td>\n",
       "      <td>10.202581</td>\n",
       "      <td>5.36350</td>\n",
       "      <td>72.967058</td>\n",
       "      <td>0.024</td>\n",
       "      <td>22.260</td>\n",
       "      <td>6687.0</td>\n",
       "      <td>6.0</td>\n",
       "      <td>3.194148</td>\n",
       "    </tr>\n",
       "    <tr>\n",
       "      <th>E02000002</th>\n",
       "      <td>2</td>\n",
       "      <td>Barking and Dagenham 001</td>\n",
       "      <td>Barking and Dagenham 001</td>\n",
       "      <td>548267</td>\n",
       "      <td>189693</td>\n",
       "      <td>0.138759</td>\n",
       "      <td>51.58659</td>\n",
       "      <td>2.166163e+06</td>\n",
       "      <td>8150.405928</td>\n",
       "      <td>POLYGON ((0.14811 51.59678, 0.14809 51.59640, ...</td>\n",
       "      <td>31.115365</td>\n",
       "      <td>19.246909</td>\n",
       "      <td>30.48075</td>\n",
       "      <td>102.333271</td>\n",
       "      <td>17.349</td>\n",
       "      <td>38.753</td>\n",
       "      <td>7379.0</td>\n",
       "      <td>4.0</td>\n",
       "      <td>4.387130</td>\n",
       "    </tr>\n",
       "    <tr>\n",
       "      <th>E02000003</th>\n",
       "      <td>3</td>\n",
       "      <td>Barking and Dagenham 002</td>\n",
       "      <td>Barking and Dagenham 002</td>\n",
       "      <td>548259</td>\n",
       "      <td>188522</td>\n",
       "      <td>0.138150</td>\n",
       "      <td>51.57607</td>\n",
       "      <td>2.143568e+06</td>\n",
       "      <td>9118.196243</td>\n",
       "      <td>POLYGON ((0.15065 51.58306, 0.14841 51.58075, ...</td>\n",
       "      <td>17.860425</td>\n",
       "      <td>2.308306</td>\n",
       "      <td>17.61100</td>\n",
       "      <td>17.342949</td>\n",
       "      <td>12.848</td>\n",
       "      <td>23.035</td>\n",
       "      <td>10720.0</td>\n",
       "      <td>6.0</td>\n",
       "      <td>1.519311</td>\n",
       "    </tr>\n",
       "    <tr>\n",
       "      <th>E02000004</th>\n",
       "      <td>4</td>\n",
       "      <td>Barking and Dagenham 003</td>\n",
       "      <td>Barking and Dagenham 003</td>\n",
       "      <td>551004</td>\n",
       "      <td>186418</td>\n",
       "      <td>0.176830</td>\n",
       "      <td>51.55644</td>\n",
       "      <td>2.491467e+06</td>\n",
       "      <td>8206.551627</td>\n",
       "      <td>POLYGON ((0.18511 51.56480, 0.18403 51.56391, ...</td>\n",
       "      <td>22.919929</td>\n",
       "      <td>9.018080</td>\n",
       "      <td>23.15025</td>\n",
       "      <td>51.392207</td>\n",
       "      <td>18.702</td>\n",
       "      <td>33.858</td>\n",
       "      <td>6536.0</td>\n",
       "      <td>4.0</td>\n",
       "      <td>3.003012</td>\n",
       "    </tr>\n",
       "    <tr>\n",
       "      <th>E02000005</th>\n",
       "      <td>5</td>\n",
       "      <td>Barking and Dagenham 004</td>\n",
       "      <td>Barking and Dagenham 004</td>\n",
       "      <td>548733</td>\n",
       "      <td>186827</td>\n",
       "      <td>0.144269</td>\n",
       "      <td>51.56071</td>\n",
       "      <td>1.186053e+06</td>\n",
       "      <td>6949.688798</td>\n",
       "      <td>POLYGON ((0.14990 51.56807, 0.15078 51.56778, ...</td>\n",
       "      <td>27.022661</td>\n",
       "      <td>8.729057</td>\n",
       "      <td>27.56860</td>\n",
       "      <td>51.124119</td>\n",
       "      <td>19.124</td>\n",
       "      <td>37.624</td>\n",
       "      <td>9243.0</td>\n",
       "      <td>5.0</td>\n",
       "      <td>2.954498</td>\n",
       "    </tr>\n",
       "  </tbody>\n",
       "</table>\n",
       "</div>"
      ],
      "text/plain": [
       "           objectid                  msoa11nm                 msoa11nmw  \\\n",
       "msoa11cd                                                                  \n",
       "E02000001         1        City of London 001        City of London 001   \n",
       "E02000002         2  Barking and Dagenham 001  Barking and Dagenham 001   \n",
       "E02000003         3  Barking and Dagenham 002  Barking and Dagenham 002   \n",
       "E02000004         4  Barking and Dagenham 003  Barking and Dagenham 003   \n",
       "E02000005         5  Barking and Dagenham 004  Barking and Dagenham 004   \n",
       "\n",
       "            bng_e   bng_n      long       lat    shape__are   shape__len  \\\n",
       "msoa11cd                                                                   \n",
       "E02000001  532378  181354 -0.093570  51.51560  2.906361e+06  8936.818478   \n",
       "E02000002  548267  189693  0.138759  51.58659  2.166163e+06  8150.405928   \n",
       "E02000003  548259  188522  0.138150  51.57607  2.143568e+06  9118.196243   \n",
       "E02000004  551004  186418  0.176830  51.55644  2.491467e+06  8206.551627   \n",
       "E02000005  548733  186827  0.144269  51.56071  1.186053e+06  6949.688798   \n",
       "\n",
       "                                                    geometry       wavg  \\\n",
       "msoa11cd                                                                  \n",
       "E02000001  POLYGON ((-0.09676 51.52325, -0.09644 51.52282...   5.456302   \n",
       "E02000002  POLYGON ((0.14811 51.59678, 0.14809 51.59640, ...  31.115365   \n",
       "E02000003  POLYGON ((0.15065 51.58306, 0.14841 51.58075, ...  17.860425   \n",
       "E02000004  POLYGON ((0.18511 51.56480, 0.18403 51.56391, ...  22.919929   \n",
       "E02000005  POLYGON ((0.14990 51.56807, 0.15078 51.56778, ...  27.022661   \n",
       "\n",
       "                wvar       avg         var     min     max   weight  nr_units  \\\n",
       "msoa11cd                                                                        \n",
       "E02000001  10.202581   5.36350   72.967058   0.024  22.260   6687.0       6.0   \n",
       "E02000002  19.246909  30.48075  102.333271  17.349  38.753   7379.0       4.0   \n",
       "E02000003   2.308306  17.61100   17.342949  12.848  23.035  10720.0       6.0   \n",
       "E02000004   9.018080  23.15025   51.392207  18.702  33.858   6536.0       4.0   \n",
       "E02000005   8.729057  27.56860   51.124119  19.124  37.624   9243.0       5.0   \n",
       "\n",
       "               wstd  \n",
       "msoa11cd             \n",
       "E02000001  3.194148  \n",
       "E02000002  4.387130  \n",
       "E02000003  1.519311  \n",
       "E02000004  3.003012  \n",
       "E02000005  2.954498  "
      ]
     },
     "execution_count": 311,
     "metadata": {},
     "output_type": "execute_result"
    }
   ],
   "source": [
    "metric_col = 'eduscore'\n",
    "lang.read_metric(metric_col)\n",
    "lang.cells_geodf.head()"
   ]
  },
  {
   "cell_type": "markdown",
   "metadata": {},
   "source": [
    "# User mistakes"
   ]
  },
  {
   "cell_type": "markdown",
   "metadata": {},
   "source": [
    "## Quick stats and checks"
   ]
  },
  {
   "cell_type": "code",
   "execution_count": null,
   "metadata": {
    "vscode": {
     "languageId": "python"
    }
   },
   "outputs": [
    {
     "data": {
      "text/html": [
       "<div>\n",
       "<style scoped>\n",
       "    .dataframe tbody tr th:only-of-type {\n",
       "        vertical-align: middle;\n",
       "    }\n",
       "\n",
       "    .dataframe tbody tr th {\n",
       "        vertical-align: top;\n",
       "    }\n",
       "\n",
       "    .dataframe thead th {\n",
       "        text-align: right;\n",
       "    }\n",
       "</style>\n",
       "<table border=\"1\" class=\"dataframe\">\n",
       "  <thead>\n",
       "    <tr style=\"text-align: right;\">\n",
       "      <th></th>\n",
       "      <th>nr_tweets</th>\n",
       "      <th>nr_words</th>\n",
       "      <th>nr_unique_words</th>\n",
       "    </tr>\n",
       "    <tr>\n",
       "      <th>user_id</th>\n",
       "      <th></th>\n",
       "      <th></th>\n",
       "      <th></th>\n",
       "    </tr>\n",
       "  </thead>\n",
       "  <tbody>\n",
       "    <tr>\n",
       "      <th>00030426231cf2773a81f9897ecbeb951cd2ee7bf2d0118694cf5292edee1720902aed6e5a30783b25d75b7171b376cb81750aef025074226c6d0211a6fb6a9f</th>\n",
       "      <td>64.0</td>\n",
       "      <td>2507</td>\n",
       "      <td>731</td>\n",
       "    </tr>\n",
       "    <tr>\n",
       "      <th>0007831e4682dde226017fbf5d97c58c537a05fd1b55bf0ca4382c3866bdecc18591c37aba8f0b40ccf4899473deb37da34e85ac3cc41e2875fa6660d0fbb955</th>\n",
       "      <td>124.0</td>\n",
       "      <td>1683</td>\n",
       "      <td>715</td>\n",
       "    </tr>\n",
       "    <tr>\n",
       "      <th>000faaaa6e11d566321800c3187781f6651521366dc43312f992b2a145a9e86447232fbb1e3c4f0e76e5ddc3f3f9000715ce6ae3f3c5e2a221c676faa28a85ec</th>\n",
       "      <td>37.0</td>\n",
       "      <td>445</td>\n",
       "      <td>258</td>\n",
       "    </tr>\n",
       "    <tr>\n",
       "      <th>001b4e7bcb4f4980e67d738ef38fe5b63f759e8cdb9938c4ac06354bb37d5f1dfe0e31e522a026e6ba70c2e4a5806b6d4cba9292d472cc6d792c68d9bf72a43c</th>\n",
       "      <td>100.0</td>\n",
       "      <td>1001</td>\n",
       "      <td>453</td>\n",
       "    </tr>\n",
       "    <tr>\n",
       "      <th>001e74edd2ca43f22a6a936eb5315f06bc62a3fcaa1ebd40a06fe05edc6f6687081134f00ba779a51c05e8379cd51c8e802d7bbd53cbaf3b864f9a16a50dc5ae</th>\n",
       "      <td>43.0</td>\n",
       "      <td>400</td>\n",
       "      <td>233</td>\n",
       "    </tr>\n",
       "  </tbody>\n",
       "</table>\n",
       "</div>"
      ],
      "text/plain": [
       "                                                    nr_tweets  nr_words  \\\n",
       "user_id                                                                   \n",
       "00030426231cf2773a81f9897ecbeb951cd2ee7bf2d0118...       64.0      2507   \n",
       "0007831e4682dde226017fbf5d97c58c537a05fd1b55bf0...      124.0      1683   \n",
       "000faaaa6e11d566321800c3187781f6651521366dc4331...       37.0       445   \n",
       "001b4e7bcb4f4980e67d738ef38fe5b63f759e8cdb9938c...      100.0      1001   \n",
       "001e74edd2ca43f22a6a936eb5315f06bc62a3fcaa1ebd4...       43.0       400   \n",
       "\n",
       "                                                    nr_unique_words  \n",
       "user_id                                                              \n",
       "00030426231cf2773a81f9897ecbeb951cd2ee7bf2d0118...              731  \n",
       "0007831e4682dde226017fbf5d97c58c537a05fd1b55bf0...              715  \n",
       "000faaaa6e11d566321800c3187781f6651521366dc4331...              258  \n",
       "001b4e7bcb4f4980e67d738ef38fe5b63f759e8cdb9938c...              453  \n",
       "001e74edd2ca43f22a6a936eb5315f06bc62a3fcaa1ebd4...              233  "
      ]
     },
     "metadata": {},
     "output_type": "display_data"
    }
   ],
   "source": [
    "lang.user_corpora.head()"
   ]
  },
  {
   "cell_type": "code",
   "execution_count": null,
   "metadata": {
    "vscode": {
     "languageId": "python"
    }
   },
   "outputs": [
    {
     "data": {
      "text/plain": [
       "(358334, 3)"
      ]
     },
     "metadata": {},
     "output_type": "display_data"
    }
   ],
   "source": [
    "lang.user_corpora.shape"
   ]
  },
  {
   "cell_type": "code",
   "execution_count": 346,
   "metadata": {
    "vscode": {
     "languageId": "python"
    }
   },
   "outputs": [
    {
     "data": {
      "text/html": [
       "<div>\n",
       "<style scoped>\n",
       "    .dataframe tbody tr th:only-of-type {\n",
       "        vertical-align: middle;\n",
       "    }\n",
       "\n",
       "    .dataframe tbody tr th {\n",
       "        vertical-align: top;\n",
       "    }\n",
       "\n",
       "    .dataframe thead th {\n",
       "        text-align: right;\n",
       "    }\n",
       "</style>\n",
       "<table border=\"1\" class=\"dataframe\">\n",
       "  <thead>\n",
       "    <tr style=\"text-align: right;\">\n",
       "      <th></th>\n",
       "      <th></th>\n",
       "      <th></th>\n",
       "      <th>count</th>\n",
       "      <th>freq_per_tweet</th>\n",
       "      <th>freq_per_word</th>\n",
       "      <th>nr_tweets</th>\n",
       "      <th>nr_words</th>\n",
       "      <th>nr_unique_words</th>\n",
       "    </tr>\n",
       "    <tr>\n",
       "      <th>user_id</th>\n",
       "      <th>cat_id</th>\n",
       "      <th>rule_id</th>\n",
       "      <th></th>\n",
       "      <th></th>\n",
       "      <th></th>\n",
       "      <th></th>\n",
       "      <th></th>\n",
       "      <th></th>\n",
       "    </tr>\n",
       "  </thead>\n",
       "  <tbody>\n",
       "    <tr>\n",
       "      <th rowspan=\"5\" valign=\"top\">000003962867f2d312d942838cdb2535b950589f2e85f318e7565dcb45b7418fd3c9530e875ab83a28425f0748e1e0fc92959642cc470b8e0b1cbd4ddef1a8cb</th>\n",
       "      <th rowspan=\"4\" valign=\"top\">CASING</th>\n",
       "      <th>CAPITALIZATION</th>\n",
       "      <td>2</td>\n",
       "      <td>0.023256</td>\n",
       "      <td>0.003106</td>\n",
       "      <td>86.0</td>\n",
       "      <td>644</td>\n",
       "      <td>123</td>\n",
       "    </tr>\n",
       "    <tr>\n",
       "      <th>COMMA_PARENTHESIS_WHITESPACE</th>\n",
       "      <td>1</td>\n",
       "      <td>0.011628</td>\n",
       "      <td>0.001553</td>\n",
       "      <td>86.0</td>\n",
       "      <td>644</td>\n",
       "      <td>123</td>\n",
       "    </tr>\n",
       "    <tr>\n",
       "      <th>EN_DIACRITICS_REPLACE</th>\n",
       "      <td>3</td>\n",
       "      <td>0.034884</td>\n",
       "      <td>0.004658</td>\n",
       "      <td>86.0</td>\n",
       "      <td>644</td>\n",
       "      <td>123</td>\n",
       "    </tr>\n",
       "    <tr>\n",
       "      <th>WHITESPACE_RULE</th>\n",
       "      <td>37</td>\n",
       "      <td>0.430233</td>\n",
       "      <td>0.057453</td>\n",
       "      <td>86.0</td>\n",
       "      <td>644</td>\n",
       "      <td>123</td>\n",
       "    </tr>\n",
       "    <tr>\n",
       "      <th>GRAMMAR</th>\n",
       "      <th>DEPEND_ON</th>\n",
       "      <td>1</td>\n",
       "      <td>0.011628</td>\n",
       "      <td>0.001553</td>\n",
       "      <td>86.0</td>\n",
       "      <td>644</td>\n",
       "      <td>123</td>\n",
       "    </tr>\n",
       "  </tbody>\n",
       "</table>\n",
       "</div>"
      ],
      "text/plain": [
       "                                                                                         count  \\\n",
       "user_id                                            cat_id  rule_id                               \n",
       "000003962867f2d312d942838cdb2535b950589f2e85f31... CASING  CAPITALIZATION                    2   \n",
       "                                                           COMMA_PARENTHESIS_WHITESPACE      1   \n",
       "                                                           EN_DIACRITICS_REPLACE             3   \n",
       "                                                           WHITESPACE_RULE                  37   \n",
       "                                                   GRAMMAR DEPEND_ON                         1   \n",
       "\n",
       "                                                                                         freq_per_tweet  \\\n",
       "user_id                                            cat_id  rule_id                                        \n",
       "000003962867f2d312d942838cdb2535b950589f2e85f31... CASING  CAPITALIZATION                      0.023256   \n",
       "                                                           COMMA_PARENTHESIS_WHITESPACE        0.011628   \n",
       "                                                           EN_DIACRITICS_REPLACE               0.034884   \n",
       "                                                           WHITESPACE_RULE                     0.430233   \n",
       "                                                   GRAMMAR DEPEND_ON                           0.011628   \n",
       "\n",
       "                                                                                         freq_per_word  \\\n",
       "user_id                                            cat_id  rule_id                                       \n",
       "000003962867f2d312d942838cdb2535b950589f2e85f31... CASING  CAPITALIZATION                     0.003106   \n",
       "                                                           COMMA_PARENTHESIS_WHITESPACE       0.001553   \n",
       "                                                           EN_DIACRITICS_REPLACE              0.004658   \n",
       "                                                           WHITESPACE_RULE                    0.057453   \n",
       "                                                   GRAMMAR DEPEND_ON                          0.001553   \n",
       "\n",
       "                                                                                         nr_tweets  \\\n",
       "user_id                                            cat_id  rule_id                                   \n",
       "000003962867f2d312d942838cdb2535b950589f2e85f31... CASING  CAPITALIZATION                     86.0   \n",
       "                                                           COMMA_PARENTHESIS_WHITESPACE       86.0   \n",
       "                                                           EN_DIACRITICS_REPLACE              86.0   \n",
       "                                                           WHITESPACE_RULE                    86.0   \n",
       "                                                   GRAMMAR DEPEND_ON                          86.0   \n",
       "\n",
       "                                                                                         nr_words  \\\n",
       "user_id                                            cat_id  rule_id                                  \n",
       "000003962867f2d312d942838cdb2535b950589f2e85f31... CASING  CAPITALIZATION                     644   \n",
       "                                                           COMMA_PARENTHESIS_WHITESPACE       644   \n",
       "                                                           EN_DIACRITICS_REPLACE              644   \n",
       "                                                           WHITESPACE_RULE                    644   \n",
       "                                                   GRAMMAR DEPEND_ON                          644   \n",
       "\n",
       "                                                                                         nr_unique_words  \n",
       "user_id                                            cat_id  rule_id                                        \n",
       "000003962867f2d312d942838cdb2535b950589f2e85f31... CASING  CAPITALIZATION                            123  \n",
       "                                                           COMMA_PARENTHESIS_WHITESPACE              123  \n",
       "                                                           EN_DIACRITICS_REPLACE                     123  \n",
       "                                                           WHITESPACE_RULE                           123  \n",
       "                                                   GRAMMAR DEPEND_ON                                 123  "
      ]
     },
     "execution_count": 346,
     "metadata": {},
     "output_type": "execute_result"
    }
   ],
   "source": [
    "user_mistakes = lang.user_mistakes\n",
    "user_mistakes.head()"
   ]
  },
  {
   "cell_type": "code",
   "execution_count": 356,
   "metadata": {
    "vscode": {
     "languageId": "python"
    }
   },
   "outputs": [
    {
     "data": {
      "text/plain": [
       "array([], dtype=object)"
      ]
     },
     "execution_count": 356,
     "metadata": {},
     "output_type": "execute_result"
    }
   ],
   "source": [
    "cat_idx[pd.isnull(cat_idx)]"
   ]
  },
  {
   "cell_type": "code",
   "execution_count": 361,
   "metadata": {
    "vscode": {
     "languageId": "python"
    }
   },
   "outputs": [],
   "source": [
    "a = pd.concat([r.user_mistakes for r in lang.regions]).join(lang.lt_rules[[]])"
   ]
  },
  {
   "cell_type": "code",
   "execution_count": 363,
   "metadata": {
    "vscode": {
     "languageId": "python"
    }
   },
   "outputs": [
    {
     "data": {
      "text/html": [
       "<div>\n",
       "<style scoped>\n",
       "    .dataframe tbody tr th:only-of-type {\n",
       "        vertical-align: middle;\n",
       "    }\n",
       "\n",
       "    .dataframe tbody tr th {\n",
       "        vertical-align: top;\n",
       "    }\n",
       "\n",
       "    .dataframe thead th {\n",
       "        text-align: right;\n",
       "    }\n",
       "</style>\n",
       "<table border=\"1\" class=\"dataframe\">\n",
       "  <thead>\n",
       "    <tr style=\"text-align: right;\">\n",
       "      <th></th>\n",
       "      <th></th>\n",
       "      <th></th>\n",
       "      <th>count</th>\n",
       "    </tr>\n",
       "    <tr>\n",
       "      <th>rule_id</th>\n",
       "      <th>user_id</th>\n",
       "      <th>cat_id</th>\n",
       "      <th></th>\n",
       "    </tr>\n",
       "  </thead>\n",
       "  <tbody>\n",
       "    <tr>\n",
       "      <th rowspan=\"11\" valign=\"top\">WHITESPACE_RULE</th>\n",
       "      <th>00030426231cf2773a81f9897ecbeb951cd2ee7bf2d0118694cf5292edee1720902aed6e5a30783b25d75b7171b376cb81750aef025074226c6d0211a6fb6a9f</th>\n",
       "      <th>NaN</th>\n",
       "      <td>7</td>\n",
       "    </tr>\n",
       "    <tr>\n",
       "      <th>0007831e4682dde226017fbf5d97c58c537a05fd1b55bf0ca4382c3866bdecc18591c37aba8f0b40ccf4899473deb37da34e85ac3cc41e2875fa6660d0fbb955</th>\n",
       "      <th>NaN</th>\n",
       "      <td>1</td>\n",
       "    </tr>\n",
       "    <tr>\n",
       "      <th>000faaaa6e11d566321800c3187781f6651521366dc43312f992b2a145a9e86447232fbb1e3c4f0e76e5ddc3f3f9000715ce6ae3f3c5e2a221c676faa28a85ec</th>\n",
       "      <th>NaN</th>\n",
       "      <td>1</td>\n",
       "    </tr>\n",
       "    <tr>\n",
       "      <th>001b4e7bcb4f4980e67d738ef38fe5b63f759e8cdb9938c4ac06354bb37d5f1dfe0e31e522a026e6ba70c2e4a5806b6d4cba9292d472cc6d792c68d9bf72a43c</th>\n",
       "      <th>NaN</th>\n",
       "      <td>21</td>\n",
       "    </tr>\n",
       "    <tr>\n",
       "      <th>001e74edd2ca43f22a6a936eb5315f06bc62a3fcaa1ebd40a06fe05edc6f6687081134f00ba779a51c05e8379cd51c8e802d7bbd53cbaf3b864f9a16a50dc5ae</th>\n",
       "      <th>NaN</th>\n",
       "      <td>5</td>\n",
       "    </tr>\n",
       "    <tr>\n",
       "      <th>...</th>\n",
       "      <th>...</th>\n",
       "      <td>...</td>\n",
       "    </tr>\n",
       "    <tr>\n",
       "      <th>ffe6199fe44c2965329624f9f5cbdfe2cc610ac40ae726e94f38a294076117f96e482a5a706e594e4e1fa0a7fb89754e49475d8594407f7b5f5a2941f052b237</th>\n",
       "      <th>NaN</th>\n",
       "      <td>261</td>\n",
       "    </tr>\n",
       "    <tr>\n",
       "      <th>ffe722f61fb277a9d093e4d3dbb4a693a8ae00fecd53527731d7d2394014876ba1e502071758a84444d85ced53aefd469188d6059d06eaac886975cacba11eb9</th>\n",
       "      <th>NaN</th>\n",
       "      <td>4</td>\n",
       "    </tr>\n",
       "    <tr>\n",
       "      <th>ffe7d66852963f810b6bc8c4734daaaecf104f44b7356fdeac46725cc69f384a4cb1ab06c3e42e32969f2cf934ba7889a8a0afde81c5fce198ce85aeeb87b3c0</th>\n",
       "      <th>NaN</th>\n",
       "      <td>1</td>\n",
       "    </tr>\n",
       "    <tr>\n",
       "      <th>fffba2d3bc65269d5ab57798e3f0b40aa069dd031ad50204af41d5d80ae36110906e7269ba60d19b2a23227bd381e394688a071c8ed7c4388f33e7af1100a2cf</th>\n",
       "      <th>NaN</th>\n",
       "      <td>117</td>\n",
       "    </tr>\n",
       "    <tr>\n",
       "      <th>fffca8d6535d456b6ef84d48234cebb26ab093977bb080cb514cc6575db4c3bbcb84a2167253f53259ee235d6d7ab9620c24ca8ea72fc4bdb33473902e1cb32f</th>\n",
       "      <th>NaN</th>\n",
       "      <td>159</td>\n",
       "    </tr>\n",
       "  </tbody>\n",
       "</table>\n",
       "<p>317457 rows × 1 columns</p>\n",
       "</div>"
      ],
      "text/plain": [
       "                                                                           count\n",
       "rule_id         user_id                                            cat_id       \n",
       "WHITESPACE_RULE 00030426231cf2773a81f9897ecbeb951cd2ee7bf2d0118... NaN         7\n",
       "                0007831e4682dde226017fbf5d97c58c537a05fd1b55bf0... NaN         1\n",
       "                000faaaa6e11d566321800c3187781f6651521366dc4331... NaN         1\n",
       "                001b4e7bcb4f4980e67d738ef38fe5b63f759e8cdb9938c... NaN        21\n",
       "                001e74edd2ca43f22a6a936eb5315f06bc62a3fcaa1ebd4... NaN         5\n",
       "...                                                                          ...\n",
       "                ffe6199fe44c2965329624f9f5cbdfe2cc610ac40ae726e... NaN       261\n",
       "                ffe722f61fb277a9d093e4d3dbb4a693a8ae00fecd53527... NaN         4\n",
       "                ffe7d66852963f810b6bc8c4734daaaecf104f44b7356fd... NaN         1\n",
       "                fffba2d3bc65269d5ab57798e3f0b40aa069dd031ad5020... NaN       117\n",
       "                fffca8d6535d456b6ef84d48234cebb26ab093977bb080c... NaN       159\n",
       "\n",
       "[317457 rows x 1 columns]"
      ]
     },
     "execution_count": 363,
     "metadata": {},
     "output_type": "execute_result"
    }
   ],
   "source": [
    "a.loc[('WHITESPACE_RULE', slice(None), slice(None), ), :]"
   ]
  },
  {
   "cell_type": "code",
   "execution_count": null,
   "metadata": {
    "vscode": {
     "languageId": "python"
    }
   },
   "outputs": [],
   "source": []
  },
  {
   "cell_type": "code",
   "execution_count": null,
   "metadata": {
    "vscode": {
     "languageId": "python"
    }
   },
   "outputs": [],
   "source": [
    "user_mistakes.index?"
   ]
  },
  {
   "cell_type": "code",
   "execution_count": null,
   "metadata": {
    "vscode": {
     "languageId": "python"
    }
   },
   "outputs": [],
   "source": [
    "user_mistakes.reset_index('cat_id').fillna({'cat_id': })"
   ]
  },
  {
   "cell_type": "code",
   "execution_count": 367,
   "metadata": {
    "vscode": {
     "languageId": "python"
    }
   },
   "outputs": [],
   "source": [
    "x = a.index.get_level_values('cat_id').values\n",
    "x[pd.isnull(x)] = a.index.get_level_values('rule_id')[pd.isnull(x)]\n",
    "a.index.set_levels(x, level='cat_id')"
   ]
  },
  {
   "cell_type": "code",
   "execution_count": null,
   "metadata": {
    "vscode": {
     "languageId": "python"
    }
   },
   "outputs": [],
   "source": [
    "a.index.set_levels(x, level='cat_id')"
   ]
  },
  {
   "cell_type": "code",
   "execution_count": 353,
   "metadata": {
    "vscode": {
     "languageId": "python"
    }
   },
   "outputs": [
    {
     "ename": "AttributeError",
     "evalue": "'numpy.ndarray' object has no attribute 'isnull'",
     "output_type": "error",
     "traceback": [
      "\u001b[0;31m---------------------------------------------------------------------------\u001b[0m",
      "\u001b[0;31mAttributeError\u001b[0m                            Traceback (most recent call last)",
      "\u001b[1;32m/home/thomas/Documents/PhD/code/ses-ling/notebooks/2.1.first_explorations.ipynb Cell 13\u001b[0m in \u001b[0;36m<cell line: 2>\u001b[0;34m()\u001b[0m\n\u001b[1;32m      <a href='vscode-notebook-cell:/home/thomas/Documents/PhD/code/ses-ling/notebooks/2.1.first_explorations.ipynb#ch0000041?line=0'>1</a>\u001b[0m cat_idx \u001b[39m=\u001b[39m user_mistakes\u001b[39m.\u001b[39mindex\u001b[39m.\u001b[39mget_level_values(\u001b[39m'\u001b[39m\u001b[39mcat_id\u001b[39m\u001b[39m'\u001b[39m)\u001b[39m.\u001b[39mvalues\n\u001b[0;32m----> <a href='vscode-notebook-cell:/home/thomas/Documents/PhD/code/ses-ling/notebooks/2.1.first_explorations.ipynb#ch0000041?line=1'>2</a>\u001b[0m cat_idx[cat_idx\u001b[39m.\u001b[39misnull()] \u001b[39m=\u001b[39m user_mistakes\u001b[39m.\u001b[39mindex\u001b[39m.\u001b[39mget_level_values(\u001b[39m'\u001b[39m\u001b[39mrule_id\u001b[39m\u001b[39m'\u001b[39m)[cat_idx\u001b[39m.\u001b[39;49misnull()]\n\u001b[1;32m      <a href='vscode-notebook-cell:/home/thomas/Documents/PhD/code/ses-ling/notebooks/2.1.first_explorations.ipynb#ch0000041?line=2'>3</a>\u001b[0m user_mistakes\u001b[39m.\u001b[39mindex\u001b[39m.\u001b[39mset_levels(cat_idx, level\u001b[39m=\u001b[39m\u001b[39m'\u001b[39m\u001b[39mcat_id\u001b[39m\u001b[39m'\u001b[39m)\n",
      "\u001b[0;31mAttributeError\u001b[0m: 'numpy.ndarray' object has no attribute 'isnull'"
     ]
    }
   ],
   "source": [
    "cat_idx = user_mistakes.index.get_level_values('cat_id').values\n",
    "cat_idx[pd.isnull(cat_idx)] = user_mistakes.index.get_level_values('rule_id')[cat_idx.isnull()]\n",
    "user_mistakes.index.set_levels(cat_idx, level='cat_id')"
   ]
  },
  {
   "cell_type": "code",
   "execution_count": 162,
   "metadata": {
    "vscode": {
     "languageId": "python"
    }
   },
   "outputs": [
    {
     "data": {
      "text/plain": [
       "Index(['COMMA_PARENTHESIS_WHITESPACE', 'DOUBLE_PUNCTUATION',\n",
       "       'ENGLISH_WORD_REPEAT_BEGINNING_RULE', 'ENGLISH_WORD_REPEAT_RULE',\n",
       "       'ENGLISH_WRONG_WORD_IN_CONTEXT', 'EN_A_VS_AN', 'EN_COMPOUNDS',\n",
       "       'EN_CONTRACTION_SPELLING', 'EN_DIACRITICS_REPLACE', 'EN_SIMPLE_REPLACE',\n",
       "       'EN_SPECIFIC_CASE', 'EN_UNPAIRED_BRACKETS', 'EN_WORD_COHERENCY',\n",
       "       'SENTENCE_WHITESPACE', 'UPPERCASE_SENTENCE_START', 'WHITESPACE_RULE'],\n",
       "      dtype='object', name='rule_id')"
      ]
     },
     "execution_count": 162,
     "metadata": {},
     "output_type": "execute_result"
    }
   ],
   "source": [
    "# OK fine, only java rules, which for the most part don't have a category\n",
    "user_mistakes.loc[user_mistakes['name'].isnull()].index.get_level_values(0).unique()"
   ]
  },
  {
   "cell_type": "code",
   "execution_count": 179,
   "metadata": {
    "vscode": {
     "languageId": "python"
    }
   },
   "outputs": [],
   "source": [
    "user_mistakes_cat = user_mistakes['mistake_freq_per_word'].groupby(['user_id', 'cat_id']).sum().rename('cat_freq_per_word').to_frame()\n",
    "user_mistakes_cat['cat_freq_per_tweet'] = user_mistakes['mistake_freq_per_tweet'].groupby(['user_id', 'cat_id']).sum()"
   ]
  },
  {
   "cell_type": "code",
   "execution_count": 181,
   "metadata": {
    "vscode": {
     "languageId": "python"
    }
   },
   "outputs": [
    {
     "data": {
      "text/html": [
       "<div>\n",
       "<style scoped>\n",
       "    .dataframe tbody tr th:only-of-type {\n",
       "        vertical-align: middle;\n",
       "    }\n",
       "\n",
       "    .dataframe tbody tr th {\n",
       "        vertical-align: top;\n",
       "    }\n",
       "\n",
       "    .dataframe thead th {\n",
       "        text-align: right;\n",
       "    }\n",
       "</style>\n",
       "<table border=\"1\" class=\"dataframe\">\n",
       "  <thead>\n",
       "    <tr style=\"text-align: right;\">\n",
       "      <th></th>\n",
       "      <th></th>\n",
       "      <th>cat_freq_per_word</th>\n",
       "      <th>cat_freq_per_tweet</th>\n",
       "    </tr>\n",
       "    <tr>\n",
       "      <th>user_id</th>\n",
       "      <th>cat_id</th>\n",
       "      <th></th>\n",
       "      <th></th>\n",
       "    </tr>\n",
       "  </thead>\n",
       "  <tbody>\n",
       "    <tr>\n",
       "      <th rowspan=\"2\" valign=\"top\">000003962867f2d312d942838cdb2535b950589f2e85f318e7565dcb45b7418fd3c9530e875ab83a28425f0748e1e0fc92959642cc470b8e0b1cbd4ddef1a8cb</th>\n",
       "      <th>CASING</th>\n",
       "      <td>0.06677</td>\n",
       "      <td>0.500000</td>\n",
       "    </tr>\n",
       "    <tr>\n",
       "      <th>GRAMMAR</th>\n",
       "      <td>0.003106</td>\n",
       "      <td>0.023256</td>\n",
       "    </tr>\n",
       "    <tr>\n",
       "      <th rowspan=\"3\" valign=\"top\">00001a1b91726d1cd5d01471c6166c9fb93fdba2872ca96bbd75b4be81b9622a20913e24631ef03f358d0b015916fdc2643b1b3914b1e505a471b8e59d6ad74c</th>\n",
       "      <th>CASING</th>\n",
       "      <td>0.053628</td>\n",
       "      <td>0.573034</td>\n",
       "    </tr>\n",
       "    <tr>\n",
       "      <th>CONFUSED_WORDS</th>\n",
       "      <td>0.002103</td>\n",
       "      <td>0.022472</td>\n",
       "    </tr>\n",
       "    <tr>\n",
       "      <th>GRAMMAR</th>\n",
       "      <td>0.003155</td>\n",
       "      <td>0.033708</td>\n",
       "    </tr>\n",
       "  </tbody>\n",
       "</table>\n",
       "</div>"
      ],
      "text/plain": [
       "                                                                   cat_freq_per_word  \\\n",
       "user_id                                            cat_id                              \n",
       "000003962867f2d312d942838cdb2535b950589f2e85f31... CASING                    0.06677   \n",
       "                                                   GRAMMAR                  0.003106   \n",
       "00001a1b91726d1cd5d01471c6166c9fb93fdba2872ca96... CASING                   0.053628   \n",
       "                                                   CONFUSED_WORDS           0.002103   \n",
       "                                                   GRAMMAR                  0.003155   \n",
       "\n",
       "                                                                   cat_freq_per_tweet  \n",
       "user_id                                            cat_id                              \n",
       "000003962867f2d312d942838cdb2535b950589f2e85f31... CASING                    0.500000  \n",
       "                                                   GRAMMAR                   0.023256  \n",
       "00001a1b91726d1cd5d01471c6166c9fb93fdba2872ca96... CASING                    0.573034  \n",
       "                                                   CONFUSED_WORDS            0.022472  \n",
       "                                                   GRAMMAR                   0.033708  "
      ]
     },
     "execution_count": 181,
     "metadata": {},
     "output_type": "execute_result"
    }
   ],
   "source": [
    "user_mistakes_cat.head()"
   ]
  },
  {
   "cell_type": "code",
   "execution_count": 344,
   "metadata": {
    "vscode": {
     "languageId": "python"
    }
   },
   "outputs": [
    {
     "data": {
      "text/html": [
       "<div>\n",
       "<style scoped>\n",
       "    .dataframe tbody tr th:only-of-type {\n",
       "        vertical-align: middle;\n",
       "    }\n",
       "\n",
       "    .dataframe tbody tr th {\n",
       "        vertical-align: top;\n",
       "    }\n",
       "\n",
       "    .dataframe thead th {\n",
       "        text-align: right;\n",
       "    }\n",
       "</style>\n",
       "<table border=\"1\" class=\"dataframe\">\n",
       "  <thead>\n",
       "    <tr style=\"text-align: right;\">\n",
       "      <th></th>\n",
       "      <th>cat_freq_per_word</th>\n",
       "      <th>cat_freq_per_tweet</th>\n",
       "    </tr>\n",
       "    <tr>\n",
       "      <th>cat_id</th>\n",
       "      <th></th>\n",
       "      <th></th>\n",
       "    </tr>\n",
       "  </thead>\n",
       "  <tbody>\n",
       "    <tr>\n",
       "      <th>CASING</th>\n",
       "      <td>0.034783</td>\n",
       "      <td>0.451809</td>\n",
       "    </tr>\n",
       "    <tr>\n",
       "      <th>PUNCTUATION</th>\n",
       "      <td>0.004569</td>\n",
       "      <td>0.062031</td>\n",
       "    </tr>\n",
       "    <tr>\n",
       "      <th>GRAMMAR</th>\n",
       "      <td>0.003474</td>\n",
       "      <td>0.044675</td>\n",
       "    </tr>\n",
       "    <tr>\n",
       "      <th>TYPOS</th>\n",
       "      <td>0.003009</td>\n",
       "      <td>0.037747</td>\n",
       "    </tr>\n",
       "    <tr>\n",
       "      <th>STYLE</th>\n",
       "      <td>0.001098</td>\n",
       "      <td>0.013196</td>\n",
       "    </tr>\n",
       "    <tr>\n",
       "      <th>CONFUSED_WORDS</th>\n",
       "      <td>0.000613</td>\n",
       "      <td>0.007687</td>\n",
       "    </tr>\n",
       "    <tr>\n",
       "      <th>TYPOGRAPHY</th>\n",
       "      <td>0.00044</td>\n",
       "      <td>0.005874</td>\n",
       "    </tr>\n",
       "    <tr>\n",
       "      <th>REDUNDANCY</th>\n",
       "      <td>0.000207</td>\n",
       "      <td>0.002938</td>\n",
       "    </tr>\n",
       "    <tr>\n",
       "      <th>COMPOUNDING</th>\n",
       "      <td>0.000194</td>\n",
       "      <td>0.002622</td>\n",
       "    </tr>\n",
       "    <tr>\n",
       "      <th>COLLOCATIONS</th>\n",
       "      <td>0.000095</td>\n",
       "      <td>0.001262</td>\n",
       "    </tr>\n",
       "    <tr>\n",
       "      <th>SEMANTICS</th>\n",
       "      <td>0.000017</td>\n",
       "      <td>0.000251</td>\n",
       "    </tr>\n",
       "    <tr>\n",
       "      <th>NONSTANDARD_PHRASES</th>\n",
       "      <td>0.00001</td>\n",
       "      <td>0.000146</td>\n",
       "    </tr>\n",
       "    <tr>\n",
       "      <th>REPETITIONS_STYLE</th>\n",
       "      <td>0.000005</td>\n",
       "      <td>0.000063</td>\n",
       "    </tr>\n",
       "  </tbody>\n",
       "</table>\n",
       "</div>"
      ],
      "text/plain": [
       "                     cat_freq_per_word  cat_freq_per_tweet\n",
       "cat_id                                                    \n",
       "CASING                        0.034783            0.451809\n",
       "PUNCTUATION                   0.004569            0.062031\n",
       "GRAMMAR                       0.003474            0.044675\n",
       "TYPOS                         0.003009            0.037747\n",
       "STYLE                         0.001098            0.013196\n",
       "CONFUSED_WORDS                0.000613            0.007687\n",
       "TYPOGRAPHY                     0.00044            0.005874\n",
       "REDUNDANCY                    0.000207            0.002938\n",
       "COMPOUNDING                   0.000194            0.002622\n",
       "COLLOCATIONS                  0.000095            0.001262\n",
       "SEMANTICS                     0.000017            0.000251\n",
       "NONSTANDARD_PHRASES            0.00001            0.000146\n",
       "REPETITIONS_STYLE             0.000005            0.000063"
      ]
     },
     "execution_count": 344,
     "metadata": {},
     "output_type": "execute_result"
    }
   ],
   "source": [
    "# Most common mistakes\n",
    "# full_user_mistakes_cat = user_mistakes_cat.unstack(level=1).stack(dropna=False).fillna(0)\n",
    "# full_user_mistakes_cat.groupby('cat_id').mean().sort_values(by='cat_freq_per_word', ascending=False)\n",
    "(user_mistakes_cat.groupby('cat_id').sum() / user_mistakes_cat.index.levels[0].size).sort_values(by='cat_freq_per_word', ascending=False)"
   ]
  },
  {
   "cell_type": "markdown",
   "metadata": {},
   "source": [
    "## Residence cell aggregation"
   ]
  },
  {
   "cell_type": "code",
   "execution_count": 202,
   "metadata": {
    "vscode": {
     "languageId": "python"
    }
   },
   "outputs": [
    {
     "data": {
      "text/plain": [
       "cell_id\n",
       "E02000001     0.00088\n",
       "E02000002     0.00022\n",
       "E02000003    0.001507\n",
       "E02000004    0.001538\n",
       "E02000005    0.000886\n",
       "Name: cat_freq_per_word, dtype: Float64"
      ]
     },
     "execution_count": 202,
     "metadata": {},
     "output_type": "execute_result"
    }
   ],
   "source": [
    "cat_per_cell = user_mistakes_cat.loc[(slice(None), 'COLLOCATIONS'), ['cat_freq_per_word']].join(lang.user_residence_cell['cell_id']).groupby('cell_id')['cat_freq_per_word'].mean()\n",
    "cat_per_cell.head()"
   ]
  },
  {
   "cell_type": "code",
   "execution_count": 207,
   "metadata": {
    "vscode": {
     "languageId": "python"
    }
   },
   "outputs": [
    {
     "data": {
      "text/html": [
       "<div>\n",
       "<style scoped>\n",
       "    .dataframe tbody tr th:only-of-type {\n",
       "        vertical-align: middle;\n",
       "    }\n",
       "\n",
       "    .dataframe tbody tr th {\n",
       "        vertical-align: top;\n",
       "    }\n",
       "\n",
       "    .dataframe thead th {\n",
       "        text-align: right;\n",
       "    }\n",
       "</style>\n",
       "<table border=\"1\" class=\"dataframe\">\n",
       "  <thead>\n",
       "    <tr style=\"text-align: right;\">\n",
       "      <th></th>\n",
       "      <th>count</th>\n",
       "      <th>prop_user</th>\n",
       "      <th>prop_user_by_time</th>\n",
       "    </tr>\n",
       "    <tr>\n",
       "      <th>cell_id</th>\n",
       "      <th></th>\n",
       "      <th></th>\n",
       "      <th></th>\n",
       "    </tr>\n",
       "  </thead>\n",
       "  <tbody>\n",
       "    <tr>\n",
       "      <th>E02000001</th>\n",
       "      <td>1558</td>\n",
       "      <td>1558</td>\n",
       "      <td>1558</td>\n",
       "    </tr>\n",
       "    <tr>\n",
       "      <th>E02000002</th>\n",
       "      <td>5</td>\n",
       "      <td>5</td>\n",
       "      <td>5</td>\n",
       "    </tr>\n",
       "    <tr>\n",
       "      <th>E02000003</th>\n",
       "      <td>18</td>\n",
       "      <td>18</td>\n",
       "      <td>18</td>\n",
       "    </tr>\n",
       "    <tr>\n",
       "      <th>E02000004</th>\n",
       "      <td>16</td>\n",
       "      <td>16</td>\n",
       "      <td>16</td>\n",
       "    </tr>\n",
       "    <tr>\n",
       "      <th>E02000005</th>\n",
       "      <td>12</td>\n",
       "      <td>12</td>\n",
       "      <td>12</td>\n",
       "    </tr>\n",
       "    <tr>\n",
       "      <th>...</th>\n",
       "      <td>...</td>\n",
       "      <td>...</td>\n",
       "      <td>...</td>\n",
       "    </tr>\n",
       "    <tr>\n",
       "      <th>W02000419</th>\n",
       "      <td>24</td>\n",
       "      <td>24</td>\n",
       "      <td>24</td>\n",
       "    </tr>\n",
       "    <tr>\n",
       "      <th>W02000420</th>\n",
       "      <td>359</td>\n",
       "      <td>359</td>\n",
       "      <td>359</td>\n",
       "    </tr>\n",
       "    <tr>\n",
       "      <th>W02000421</th>\n",
       "      <td>141</td>\n",
       "      <td>141</td>\n",
       "      <td>141</td>\n",
       "    </tr>\n",
       "    <tr>\n",
       "      <th>W02000422</th>\n",
       "      <td>110</td>\n",
       "      <td>110</td>\n",
       "      <td>110</td>\n",
       "    </tr>\n",
       "    <tr>\n",
       "      <th>W02000423</th>\n",
       "      <td>42</td>\n",
       "      <td>42</td>\n",
       "      <td>42</td>\n",
       "    </tr>\n",
       "  </tbody>\n",
       "</table>\n",
       "<p>7201 rows × 3 columns</p>\n",
       "</div>"
      ],
      "text/plain": [
       "           count  prop_user  prop_user_by_time\n",
       "cell_id                                       \n",
       "E02000001   1558       1558               1558\n",
       "E02000002      5          5                  5\n",
       "E02000003     18         18                 18\n",
       "E02000004     16         16                 16\n",
       "E02000005     12         12                 12\n",
       "...          ...        ...                ...\n",
       "W02000419     24         24                 24\n",
       "W02000420    359        359                359\n",
       "W02000421    141        141                141\n",
       "W02000422    110        110                110\n",
       "W02000423     42         42                 42\n",
       "\n",
       "[7201 rows x 3 columns]"
      ]
     },
     "execution_count": 207,
     "metadata": {},
     "output_type": "execute_result"
    }
   ],
   "source": [
    "lang.user_residence_cell.groupby('cell_id').count()"
   ]
  },
  {
   "cell_type": "code",
   "execution_count": 208,
   "metadata": {
    "vscode": {
     "languageId": "python"
    }
   },
   "outputs": [
    {
     "data": {
      "text/html": [
       "<div>\n",
       "<style scoped>\n",
       "    .dataframe tbody tr th:only-of-type {\n",
       "        vertical-align: middle;\n",
       "    }\n",
       "\n",
       "    .dataframe tbody tr th {\n",
       "        vertical-align: top;\n",
       "    }\n",
       "\n",
       "    .dataframe thead th {\n",
       "        text-align: right;\n",
       "    }\n",
       "</style>\n",
       "<table border=\"1\" class=\"dataframe\">\n",
       "  <thead>\n",
       "    <tr style=\"text-align: right;\">\n",
       "      <th></th>\n",
       "      <th>name</th>\n",
       "      <th>type</th>\n",
       "      <th>default</th>\n",
       "    </tr>\n",
       "    <tr>\n",
       "      <th>id</th>\n",
       "      <th></th>\n",
       "      <th></th>\n",
       "      <th></th>\n",
       "    </tr>\n",
       "  </thead>\n",
       "  <tbody>\n",
       "    <tr>\n",
       "      <th>CASING</th>\n",
       "      <td>Upper/Lowercase</td>\n",
       "      <td>NaN</td>\n",
       "      <td>NaN</td>\n",
       "    </tr>\n",
       "    <tr>\n",
       "      <th>TYPOS</th>\n",
       "      <td>Possible Typo</td>\n",
       "      <td>misspelling</td>\n",
       "      <td>NaN</td>\n",
       "    </tr>\n",
       "    <tr>\n",
       "      <th>COMPOUNDING</th>\n",
       "      <td>Compounding</td>\n",
       "      <td>NaN</td>\n",
       "      <td>NaN</td>\n",
       "    </tr>\n",
       "    <tr>\n",
       "      <th>GRAMMAR</th>\n",
       "      <td>Grammar</td>\n",
       "      <td>grammar</td>\n",
       "      <td>NaN</td>\n",
       "    </tr>\n",
       "    <tr>\n",
       "      <th>COLLOCATIONS</th>\n",
       "      <td>Collocations</td>\n",
       "      <td>grammar</td>\n",
       "      <td>NaN</td>\n",
       "    </tr>\n",
       "    <tr>\n",
       "      <th>PUNCTUATION</th>\n",
       "      <td>Punctuation</td>\n",
       "      <td>typographical</td>\n",
       "      <td>NaN</td>\n",
       "    </tr>\n",
       "    <tr>\n",
       "      <th>CONFUSED_WORDS</th>\n",
       "      <td>Commonly Confused Words</td>\n",
       "      <td>misspelling</td>\n",
       "      <td>NaN</td>\n",
       "    </tr>\n",
       "    <tr>\n",
       "      <th>NONSTANDARD_PHRASES</th>\n",
       "      <td>Nonstandard Phrases</td>\n",
       "      <td>misspelling</td>\n",
       "      <td>NaN</td>\n",
       "    </tr>\n",
       "    <tr>\n",
       "      <th>REDUNDANCY</th>\n",
       "      <td>Redundant Phrases</td>\n",
       "      <td>style</td>\n",
       "      <td>NaN</td>\n",
       "    </tr>\n",
       "    <tr>\n",
       "      <th>STYLE</th>\n",
       "      <td>Style</td>\n",
       "      <td>style</td>\n",
       "      <td>NaN</td>\n",
       "    </tr>\n",
       "    <tr>\n",
       "      <th>REPETITIONS_STYLE</th>\n",
       "      <td>Repetitions (Style)</td>\n",
       "      <td>style</td>\n",
       "      <td>NaN</td>\n",
       "    </tr>\n",
       "    <tr>\n",
       "      <th>SEMANTICS</th>\n",
       "      <td>Semantics</td>\n",
       "      <td>inconsistency</td>\n",
       "      <td>NaN</td>\n",
       "    </tr>\n",
       "    <tr>\n",
       "      <th>PLAIN_ENGLISH</th>\n",
       "      <td>Plain English</td>\n",
       "      <td>style</td>\n",
       "      <td>off</td>\n",
       "    </tr>\n",
       "    <tr>\n",
       "      <th>WIKIPEDIA</th>\n",
       "      <td>Wikipedia</td>\n",
       "      <td>style</td>\n",
       "      <td>off</td>\n",
       "    </tr>\n",
       "    <tr>\n",
       "      <th>TYPOGRAPHY</th>\n",
       "      <td>Typography</td>\n",
       "      <td>typographical</td>\n",
       "      <td>NaN</td>\n",
       "    </tr>\n",
       "    <tr>\n",
       "      <th>CREATIVE_WRITING</th>\n",
       "      <td>Creative Writing</td>\n",
       "      <td>style</td>\n",
       "      <td>off</td>\n",
       "    </tr>\n",
       "    <tr>\n",
       "      <th>TON_ACADEMIC</th>\n",
       "      <td>Academic Writing</td>\n",
       "      <td>style</td>\n",
       "      <td>NaN</td>\n",
       "    </tr>\n",
       "  </tbody>\n",
       "</table>\n",
       "</div>"
      ],
      "text/plain": [
       "                                        name           type default\n",
       "id                                                                 \n",
       "CASING                       Upper/Lowercase            NaN     NaN\n",
       "TYPOS                          Possible Typo    misspelling     NaN\n",
       "COMPOUNDING                      Compounding            NaN     NaN\n",
       "GRAMMAR                              Grammar        grammar     NaN\n",
       "COLLOCATIONS                    Collocations        grammar     NaN\n",
       "PUNCTUATION                      Punctuation  typographical     NaN\n",
       "CONFUSED_WORDS       Commonly Confused Words    misspelling     NaN\n",
       "NONSTANDARD_PHRASES      Nonstandard Phrases    misspelling     NaN\n",
       "REDUNDANCY                 Redundant Phrases          style     NaN\n",
       "STYLE                                  Style          style     NaN\n",
       "REPETITIONS_STYLE        Repetitions (Style)          style     NaN\n",
       "SEMANTICS                          Semantics  inconsistency     NaN\n",
       "PLAIN_ENGLISH                  Plain English          style     off\n",
       "WIKIPEDIA                          Wikipedia          style     off\n",
       "TYPOGRAPHY                        Typography  typographical     NaN\n",
       "CREATIVE_WRITING            Creative Writing          style     off\n",
       "TON_ACADEMIC                Academic Writing          style     NaN"
      ]
     },
     "execution_count": 208,
     "metadata": {},
     "output_type": "execute_result"
    }
   ],
   "source": [
    "lang.lt_categories"
   ]
  },
  {
   "cell_type": "code",
   "execution_count": null,
   "metadata": {
    "vscode": {
     "languageId": "python"
    }
   },
   "outputs": [],
   "source": [
    "lang.cells_geodf = lang.cells_geodf.join(l)"
   ]
  },
  {
   "cell_type": "markdown",
   "metadata": {},
   "source": [
    "investigate influence of neihbouring cells, communities on speech. is a poor area surrounded by rich ones going t be speaking \"more standard\"? correlation Gi (not star!) with cell's own z-score\n",
    "\n",
    "count all mistakes, diversity of mistakes, aggregate from clustering \n",
    "vector of mistake freq, PCA? into hierarchical, compare with socio economical\n",
    "\n",
    "rank correlation for when imd is just given in terms of rank?"
   ]
  },
  {
   "cell_type": "code",
   "execution_count": null,
   "metadata": {
    "vscode": {
     "languageId": "python"
    }
   },
   "outputs": [],
   "source": [
    "m = lang.cells_geodf.join(np.log10(cat_per_cell), how='inner').explore('cat_freq_per_word')"
   ]
  },
  {
   "cell_type": "code",
   "execution_count": 13,
   "metadata": {
    "vscode": {
     "languageId": "python"
    }
   },
   "outputs": [
    {
     "data": {
      "text/plain": [
       "cell_id\n",
       "E02000001    0.001659\n",
       "E02000002    0.001827\n",
       "E02000003    0.001235\n",
       "E02000004    0.004452\n",
       "E02000005    0.002591\n",
       "Name: rel_freq, dtype: Float64"
      ]
     },
     "execution_count": 13,
     "metadata": {},
     "output_type": "execute_result"
    }
   ],
   "source": [
    "mistake_per_cell = user_mistakes.loc[(slice(None), 'GONNA'), ['rel_freq']].join(user_residence['cell_id']).groupby('cell_id')['rel_freq'].mean()\n",
    "mistake_per_cell.head()"
   ]
  },
  {
   "cell_type": "code",
   "execution_count": 44,
   "metadata": {
    "vscode": {
     "languageId": "python"
    }
   },
   "outputs": [],
   "source": [
    "lang.cells_geodf.explore()"
   ]
  },
  {
   "cell_type": "code",
   "execution_count": 26,
   "metadata": {
    "vscode": {
     "languageId": "python"
    }
   },
   "outputs": [
    {
     "data": {
      "text/plain": [
       "cell_id\n",
       "E02000001    0.001659\n",
       "E02000002    0.001827\n",
       "E02000003    0.001235\n",
       "E02000004    0.004452\n",
       "E02000005    0.002591\n",
       "               ...   \n",
       "W02000419    0.007166\n",
       "W02000420    0.001559\n",
       "W02000421    0.001858\n",
       "W02000422    0.001654\n",
       "W02000423    0.002619\n",
       "Name: rel_freq, Length: 7028, dtype: Float64"
      ]
     },
     "execution_count": 26,
     "metadata": {},
     "output_type": "execute_result"
    }
   ],
   "source": [
    "lang.cells_geodf.join(mistake_per_cell, how='inner')['rel_freq']"
   ]
  },
  {
   "cell_type": "markdown",
   "metadata": {},
   "source": [
    "correlation betwen rules freqs to recover categories, see if they match LT's"
   ]
  },
  {
   "cell_type": "code",
   "execution_count": null,
   "metadata": {
    "vscode": {
     "languageId": "python"
    }
   },
   "outputs": [],
   "source": [
    "lang.cells_geodf.join(np.log10(mistake_per_cell), how='inner').explore('rel_freq')"
   ]
  },
  {
   "cell_type": "code",
   "execution_count": null,
   "metadata": {
    "vscode": {
     "languageId": "python"
    }
   },
   "outputs": [],
   "source": []
  }
 ],
 "metadata": {
  "kernelspec": {
   "display_name": "Python 3 (ipykernel)",
   "language": "python",
   "name": "python3"
  },
  "language_info": {
   "name": "",
   "version": ""
  },
  "orig_nbformat": 4,
  "vscode": {
   "interpreter": {
    "hash": "f7027f8bd9b329046d703d8e8e57ca0bd4d4f03545e5af8317399a95dc5037ac"
   }
  }
 },
 "nbformat": 4,
 "nbformat_minor": 2
}
