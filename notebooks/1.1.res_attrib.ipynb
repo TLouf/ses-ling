{
 "cells": [
  {
   "cell_type": "code",
   "execution_count": 1,
   "metadata": {
    "scrolled": true
   },
   "outputs": [],
   "source": [
    "# Reload all modules every time before executing the Python code typed\n",
    "%load_ext autoreload\n",
    "%autoreload 2"
   ]
  },
  {
   "cell_type": "code",
   "execution_count": 28,
   "metadata": {},
   "outputs": [],
   "source": [
    "import os\n",
    "import datetime\n",
    "import re\n",
    "import json\n",
    "import cProfile\n",
    "from tqdm import tqdm\n",
    "from pathlib import Path\n",
    "import matplotlib.pyplot as plt\n",
    "import seaborn as sns\n",
    "import ray\n",
    "import numpy as np\n",
    "from shapely.geometry import Point, Polygon, MultiPolygon, box\n",
    "import geopandas as geopd\n",
    "import pandas as pd\n",
    "import querier as qr\n",
    "from dotenv import load_dotenv\n",
    "load_dotenv()\n",
    "\n",
    "import ses_ling.utils.geometry as geo_utils\n",
    "import ses_ling.data.access as data_access\n",
    "import ses_ling.data.filter as data_filter\n",
    "import ses_ling.data.user_residence as user_residence\n",
    "import ses_ling.utils.paths as path_utils\n",
    "import ses_ling.utils.spatial_agg as spatial_agg\n",
    "from ses_ling.language import Language\n",
    "from ses_ling.region import Region"
   ]
  },
  {
   "cell_type": "code",
   "execution_count": 29,
   "metadata": {},
   "outputs": [],
   "source": [
    "paths = path_utils.ProjectPaths()"
   ]
  },
  {
   "cell_type": "code",
   "execution_count": 30,
   "metadata": {},
   "outputs": [],
   "source": [
    "with open(paths.countries_dict) as f:\n",
    "    countries_dict = json.load(f)\n",
    "all_cntr_shapes = geopd.read_file(paths.countries_shapefile)"
   ]
  },
  {
   "cell_type": "code",
   "execution_count": 57,
   "metadata": {},
   "outputs": [],
   "source": [
    "cc = 'GB'\n",
    "cc_dict = countries_dict[cc]\n",
    "xy_proj = cc_dict['xy_proj']\n",
    "year_from = 2015\n",
    "year_to = 2021\n",
    "colls = cc_dict['mongo_coll']\n",
    "timezone = cc_dict['timezone']\n",
    "assign_kwargs = dict(\n",
    "    nighttime_acty_th=0.5,\n",
    "    all_acty_th=0.1,\n",
    "    count_th=3,\n",
    "    gps_dups_th=100,\n",
    "    pois_dups_th=500,\n",
    ")\n",
    "paths.partial_format(cc=cc, year_from=year_from, year_to=year_to, **cc_dict, **assign_kwargs)"
   ]
  },
  {
   "cell_type": "code",
   "execution_count": 32,
   "metadata": {},
   "outputs": [
    {
     "name": "stdout",
     "output_type": "stream",
     "text": [
      "shape_geodf loaded for GB\n",
      "ses_df loaded for GB\n",
      "cell_levels_corr loaded for GB\n",
      "lt_rules loaded for GB\n",
      "regions done\n",
      "done\n"
     ]
    }
   ],
   "source": [
    "_cc_init_params = {\n",
    "    cc: {'cell_size': 'MSOA_BGC', 'ses_idx': \"IMD\", \"res_cell_size\": \"MSOA_BGC\"}\n",
    "}\n",
    "lang = Language(\n",
    "    'en', 'English', _cc_init_params, countries_dict,\n",
    "    all_cntr_shapes=all_cntr_shapes,\n",
    "    year_from=year_from, year_to=year_to,\n",
    "    latlon_proj=cc_dict['xy_proj'], # TOCHANGE when several countries\n",
    "    user_nr_words_th=100,\n",
    "    cells_nr_users_th=15, # this might cause init pb because of setter\n",
    "    res_attr_kwargs=assign_kwargs,\n",
    ")\n",
    "r = lang.regions[0]"
   ]
  },
  {
   "cell_type": "markdown",
   "metadata": {},
   "source": [
    "# Deprivation index"
   ]
  },
  {
   "cell_type": "code",
   "execution_count": 5,
   "metadata": {},
   "outputs": [],
   "source": [
    "from libpysal.weights import Rook\n",
    "from spopt.region import WardSpatial\n",
    "from sklearn.cluster import AgglomerativeClustering"
   ]
  },
  {
   "cell_type": "markdown",
   "metadata": {},
   "source": [
    "## Wales"
   ]
  },
  {
   "cell_type": "markdown",
   "metadata": {},
   "source": [
    "THese are ranks! So averaging or inter-lsoa comparisons make no sense!"
   ]
  },
  {
   "cell_type": "code",
   "execution_count": null,
   "metadata": {},
   "outputs": [],
   "source": [
    "zip_fpaths = list((paths.ext_data / 'wimd2014').glob('*.zip'))\n",
    "# put overall first because different format, simply more practical and more logical\n",
    "zip_fpaths.sort(key=lambda p: 'overall' not in p.stem)\n",
    "wimd = geopd.GeoDataFrame.from_file(zip_fpaths[0]).set_index('2014_lsoa')\n",
    "for zipf in zip_fpaths[1:]:\n",
    "    part = geopd.GeoDataFrame.from_file(zipf).set_index('2014_lsoa')\n",
    "    part_var = zipf.stem.split('_')[-1]\n",
    "    var_col_mask = part.columns.str.startswith('2014_')# | part.columns.str.endswith('_2014')\n",
    "    var_col = part.columns[var_col_mask][0]\n",
    "    wimd = wimd.join(part.loc[:, var_col].rename(f'2014_{part_var}'))\n",
    "wimd.to_file(paths.interim_data / 'wimd2014' / 'wimd2014.shp')"
   ]
  },
  {
   "cell_type": "code",
   "execution_count": null,
   "metadata": {},
   "outputs": [],
   "source": [
    "wimd = geopd.read_file(paths.interim_data / 'wimd2014' / 'wimd2014.shp')"
   ]
  },
  {
   "cell_type": "code",
   "execution_count": null,
   "metadata": {},
   "outputs": [
    {
     "data": {
      "text/html": [
       "<div>\n",
       "<style scoped>\n",
       "    .dataframe tbody tr th:only-of-type {\n",
       "        vertical-align: middle;\n",
       "    }\n",
       "\n",
       "    .dataframe tbody tr th {\n",
       "        vertical-align: top;\n",
       "    }\n",
       "\n",
       "    .dataframe thead th {\n",
       "        text-align: right;\n",
       "    }\n",
       "</style>\n",
       "<table border=\"1\" class=\"dataframe\">\n",
       "  <thead>\n",
       "    <tr style=\"text-align: right;\">\n",
       "      <th></th>\n",
       "      <th>2014_lsoa</th>\n",
       "      <th>lsoa11cd</th>\n",
       "      <th>lsoa11nm</th>\n",
       "      <th>wimd_2014</th>\n",
       "      <th>decile</th>\n",
       "      <th>map_group</th>\n",
       "      <th>2014_healt</th>\n",
       "      <th>2014_envir</th>\n",
       "      <th>2014_servi</th>\n",
       "      <th>2014_housi</th>\n",
       "      <th>2014_incom</th>\n",
       "      <th>2014_safet</th>\n",
       "      <th>2014_educa</th>\n",
       "      <th>2014_emplo</th>\n",
       "      <th>geometry</th>\n",
       "    </tr>\n",
       "  </thead>\n",
       "  <tbody>\n",
       "    <tr>\n",
       "      <th>0</th>\n",
       "      <td>W01001546</td>\n",
       "      <td>W01001546</td>\n",
       "      <td>Monmouthshire 002A</td>\n",
       "      <td>403.0</td>\n",
       "      <td>3.0</td>\n",
       "      <td>30% Most Deprived</td>\n",
       "      <td>714.0</td>\n",
       "      <td>1220.0</td>\n",
       "      <td>1342.0</td>\n",
       "      <td>498.0</td>\n",
       "      <td>240.0</td>\n",
       "      <td>387.0</td>\n",
       "      <td>315.0</td>\n",
       "      <td>417.0</td>\n",
       "      <td>POLYGON ((329425.970 214538.497, 329425.094 21...</td>\n",
       "    </tr>\n",
       "    <tr>\n",
       "      <th>1</th>\n",
       "      <td>W01001545</td>\n",
       "      <td>W01001545</td>\n",
       "      <td>Monmouthshire 001A</td>\n",
       "      <td>1687.0</td>\n",
       "      <td>9.0</td>\n",
       "      <td>50% Least Deprived</td>\n",
       "      <td>1043.0</td>\n",
       "      <td>889.0</td>\n",
       "      <td>1291.0</td>\n",
       "      <td>1769.0</td>\n",
       "      <td>1599.0</td>\n",
       "      <td>1752.0</td>\n",
       "      <td>1884.0</td>\n",
       "      <td>1374.0</td>\n",
       "      <td>POLYGON ((328804.667 214649.107, 328800.406 21...</td>\n",
       "    </tr>\n",
       "    <tr>\n",
       "      <th>2</th>\n",
       "      <td>W01001542</td>\n",
       "      <td>W01001542</td>\n",
       "      <td>Monmouthshire 009A</td>\n",
       "      <td>1472.0</td>\n",
       "      <td>8.0</td>\n",
       "      <td>50% Least Deprived</td>\n",
       "      <td>1491.0</td>\n",
       "      <td>1398.0</td>\n",
       "      <td>222.0</td>\n",
       "      <td>1536.0</td>\n",
       "      <td>1434.0</td>\n",
       "      <td>1622.0</td>\n",
       "      <td>1730.0</td>\n",
       "      <td>1357.0</td>\n",
       "      <td>POLYGON ((349359.166 191300.821, 349353.051 19...</td>\n",
       "    </tr>\n",
       "    <tr>\n",
       "      <th>3</th>\n",
       "      <td>W01000088</td>\n",
       "      <td>W01000088</td>\n",
       "      <td>Gwynedd 007B</td>\n",
       "      <td>1276.0</td>\n",
       "      <td>7.0</td>\n",
       "      <td>50% Least Deprived</td>\n",
       "      <td>1461.0</td>\n",
       "      <td>1395.0</td>\n",
       "      <td>200.0</td>\n",
       "      <td>957.0</td>\n",
       "      <td>1276.0</td>\n",
       "      <td>1446.0</td>\n",
       "      <td>1288.0</td>\n",
       "      <td>1304.0</td>\n",
       "      <td>POLYGON ((248431.557 356977.100, 248420.703 35...</td>\n",
       "    </tr>\n",
       "    <tr>\n",
       "      <th>4</th>\n",
       "      <td>W01001543</td>\n",
       "      <td>W01001543</td>\n",
       "      <td>Monmouthshire 009B</td>\n",
       "      <td>1804.0</td>\n",
       "      <td>10.0</td>\n",
       "      <td>50% Least Deprived</td>\n",
       "      <td>1879.0</td>\n",
       "      <td>608.0</td>\n",
       "      <td>1353.0</td>\n",
       "      <td>1881.0</td>\n",
       "      <td>1716.0</td>\n",
       "      <td>1515.0</td>\n",
       "      <td>1573.0</td>\n",
       "      <td>1729.0</td>\n",
       "      <td>POLYGON ((347827.977 189358.129, 347860.644 18...</td>\n",
       "    </tr>\n",
       "  </tbody>\n",
       "</table>\n",
       "</div>"
      ],
      "text/plain": [
       "   2014_lsoa   lsoa11cd            lsoa11nm  wimd_2014  decile  \\\n",
       "0  W01001546  W01001546  Monmouthshire 002A      403.0     3.0   \n",
       "1  W01001545  W01001545  Monmouthshire 001A     1687.0     9.0   \n",
       "2  W01001542  W01001542  Monmouthshire 009A     1472.0     8.0   \n",
       "3  W01000088  W01000088        Gwynedd 007B     1276.0     7.0   \n",
       "4  W01001543  W01001543  Monmouthshire 009B     1804.0    10.0   \n",
       "\n",
       "            map_group  2014_healt  2014_envir  2014_servi  2014_housi  \\\n",
       "0   30% Most Deprived       714.0      1220.0      1342.0       498.0   \n",
       "1  50% Least Deprived      1043.0       889.0      1291.0      1769.0   \n",
       "2  50% Least Deprived      1491.0      1398.0       222.0      1536.0   \n",
       "3  50% Least Deprived      1461.0      1395.0       200.0       957.0   \n",
       "4  50% Least Deprived      1879.0       608.0      1353.0      1881.0   \n",
       "\n",
       "   2014_incom  2014_safet  2014_educa  2014_emplo  \\\n",
       "0       240.0       387.0       315.0       417.0   \n",
       "1      1599.0      1752.0      1884.0      1374.0   \n",
       "2      1434.0      1622.0      1730.0      1357.0   \n",
       "3      1276.0      1446.0      1288.0      1304.0   \n",
       "4      1716.0      1515.0      1573.0      1729.0   \n",
       "\n",
       "                                            geometry  \n",
       "0  POLYGON ((329425.970 214538.497, 329425.094 21...  \n",
       "1  POLYGON ((328804.667 214649.107, 328800.406 21...  \n",
       "2  POLYGON ((349359.166 191300.821, 349353.051 19...  \n",
       "3  POLYGON ((248431.557 356977.100, 248420.703 35...  \n",
       "4  POLYGON ((347827.977 189358.129, 347860.644 18...  "
      ]
     },
     "metadata": {},
     "output_type": "display_data"
    }
   ],
   "source": [
    "wimd.head()"
   ]
  },
  {
   "cell_type": "code",
   "execution_count": null,
   "metadata": {},
   "outputs": [],
   "source": [
    "metric_col = '2014_incom'"
   ]
  },
  {
   "cell_type": "code",
   "execution_count": null,
   "metadata": {},
   "outputs": [
    {
     "data": {
      "text/plain": [
       "count    1909.000000\n",
       "mean      955.000000\n",
       "std       551.225151\n",
       "min         1.000000\n",
       "25%       478.000000\n",
       "50%       955.000000\n",
       "75%      1432.000000\n",
       "max      1909.000000\n",
       "Name: 2014_incom, dtype: float64"
      ]
     },
     "metadata": {},
     "output_type": "display_data"
    }
   ],
   "source": [
    "wimd[metric_col].describe()"
   ]
  },
  {
   "cell_type": "code",
   "execution_count": null,
   "metadata": {},
   "outputs": [],
   "source": [
    "wimd.plot(column=metric_col)"
   ]
  },
  {
   "cell_type": "code",
   "execution_count": null,
   "metadata": {},
   "outputs": [],
   "source": [
    "w = Rook.from_dataframe(wimd)"
   ]
  },
  {
   "cell_type": "code",
   "execution_count": null,
   "metadata": {},
   "outputs": [
    {
     "name": "stderr",
     "output_type": "stream",
     "text": [
      "/home/thomaslouf/.conda/envs/ses-ling/lib/python3.9/site-packages/sklearn/cluster/_agglomerative.py:549: UserWarning:\n",
      "\n",
      "the number of connected components of the connectivity matrix is 4 > 1. Completing it to avoid stopping the tree early.\n",
      "\n"
     ]
    }
   ],
   "source": [
    "model = AgglomerativeClustering(\n",
    "    n_clusters=None,\n",
    "    connectivity=w.sparse,\n",
    "    linkage=\"complete\",\n",
    "    distance_threshold=100,\n",
    "    affinity='l1',\n",
    ")\n",
    "model.fit(wimd[[metric_col]].values)\n",
    "# model = WardSpatial(wimd, w, [metric_col], n_clusters=None, clustering_kwds={'distance_threshold': 200})\n",
    "# model.solve()\n",
    "wimd['labels'] = model.labels_"
   ]
  },
  {
   "cell_type": "code",
   "execution_count": null,
   "metadata": {},
   "outputs": [],
   "source": [
    "clustered_wimd = wimd[['labels', 'geometry']].dissolve(by='labels')\n",
    "# weighted average (by pop) instead of normal one?\n",
    "clustered_wimd = clustered_wimd[['geometry']].join(wimd.groupby('labels').agg(**{k: (metric_col, k) for k in ['mean', 'min', 'max', 'size']}))"
   ]
  },
  {
   "cell_type": "code",
   "execution_count": 177,
   "metadata": {},
   "outputs": [
    {
     "ename": "NameError",
     "evalue": "name 'clustered_wimd' is not defined",
     "output_type": "error",
     "traceback": [
      "\u001b[0;31m---------------------------------------------------------------------------\u001b[0m",
      "\u001b[0;31mNameError\u001b[0m                                 Traceback (most recent call last)",
      "Input \u001b[0;32mIn [177]\u001b[0m, in \u001b[0;36m<cell line: 1>\u001b[0;34m()\u001b[0m\n\u001b[0;32m----> 1\u001b[0m clustered_wimd\u001b[39m.\u001b[39mexplore(\u001b[39m'\u001b[39m\u001b[39mmean\u001b[39m\u001b[39m'\u001b[39m)\n",
      "\u001b[0;31mNameError\u001b[0m: name 'clustered_wimd' is not defined"
     ]
    }
   ],
   "source": [
    "clustered_wimd.explore('mean')"
   ]
  },
  {
   "cell_type": "markdown",
   "metadata": {},
   "source": [
    "## England"
   ]
  },
  {
   "cell_type": "code",
   "execution_count": 7,
   "metadata": {},
   "outputs": [
    {
     "data": {
      "text/plain": [
       "(32844, 66)"
      ]
     },
     "execution_count": 7,
     "metadata": {},
     "output_type": "execute_result"
    }
   ],
   "source": [
    "file_prefix = 'Indices_of_Multiple_Deprivation_(IMD)_2019'\n",
    "imd = geopd.read_file(paths.ext_data / f'{file_prefix}' / f'{file_prefix}.shp').set_index('lsoa11cd')\n",
    "imd.shape"
   ]
  },
  {
   "cell_type": "code",
   "execution_count": null,
   "metadata": {},
   "outputs": [
    {
     "data": {
      "text/plain": [
       "Index(['FID', 'lsoa11cd', 'lsoa11nm', 'lsoa11nmw', 'st_areasha', 'st_lengths',\n",
       "       'IMD_Rank', 'IMD_Decile', 'LSOA01NM', 'LADcd', 'LADnm', 'IMDScore',\n",
       "       'IMDRank0', 'IMDDec0', 'IncScore', 'IncRank', 'IncDec', 'EmpScore',\n",
       "       'EmpRank', 'EmpDec', 'EduScore', 'EduRank', 'EduDec', 'HDDScore',\n",
       "       'HDDRank', 'HDDDec', 'CriScore', 'CriRank', 'CriDec', 'BHSScore',\n",
       "       'BHSRank', 'BHSDec', 'EnvScore', 'EnvRank', 'EnvDec', 'IDCScore',\n",
       "       'IDCRank', 'IDCDec', 'IDOScore', 'IDORank', 'IDODec', 'CYPScore',\n",
       "       'CYPRank', 'CYPDec', 'ASScore', 'ASRank', 'ASDec', 'GBScore', 'GBRank',\n",
       "       'GBDec', 'WBScore', 'WBRank', 'WBDec', 'IndScore', 'IndRank', 'IndDec',\n",
       "       'OutScore', 'OutRank', 'OutDec', 'TotPop', 'DepChi', 'Pop16_59',\n",
       "       'Pop60_', 'WorkPop', 'Shape__Are', 'Shape__Len', 'geometry'],\n",
       "      dtype='object')"
      ]
     },
     "metadata": {},
     "output_type": "display_data"
    }
   ],
   "source": [
    "imd.columns"
   ]
  },
  {
   "cell_type": "code",
   "execution_count": 8,
   "metadata": {},
   "outputs": [],
   "source": [
    "metric_col = 'EduScore'"
   ]
  },
  {
   "cell_type": "code",
   "execution_count": 9,
   "metadata": {},
   "outputs": [],
   "source": [
    "imd[[metric_col]].to_parquet('mdr.parquet')"
   ]
  },
  {
   "cell_type": "code",
   "execution_count": 8,
   "metadata": {},
   "outputs": [
    {
     "data": {
      "text/plain": [
       "count    32844.000000\n",
       "mean        21.691084\n",
       "std         18.607562\n",
       "min          0.013000\n",
       "25%          7.360000\n",
       "50%         16.180500\n",
       "75%         30.906500\n",
       "max         99.446000\n",
       "Name: EduScore, dtype: float64"
      ]
     },
     "execution_count": 8,
     "metadata": {},
     "output_type": "execute_result"
    }
   ],
   "source": [
    "imd[metric_col].describe()"
   ]
  },
  {
   "cell_type": "code",
   "execution_count": null,
   "metadata": {},
   "outputs": [
    {
     "data": {
      "text/plain": [
       "count    32844.000000\n",
       "mean      1666.307514\n",
       "std        363.622458\n",
       "min        523.000000\n",
       "25%       1446.000000\n",
       "50%       1598.000000\n",
       "75%       1800.000000\n",
       "max       9551.000000\n",
       "Name: TotPop, dtype: float64"
      ]
     },
     "metadata": {},
     "output_type": "display_data"
    }
   ],
   "source": [
    "imd['TotPop'].describe()"
   ]
  },
  {
   "cell_type": "markdown",
   "metadata": {},
   "source": [
    "### Aggregate into MSOA"
   ]
  },
  {
   "cell_type": "code",
   "execution_count": 9,
   "metadata": {},
   "outputs": [
    {
     "name": "stdout",
     "output_type": "stream",
     "text": [
      "(8480, 3)\n"
     ]
    }
   ],
   "source": [
    "base_name = 'infuse_msoa_lyr_2011_clipped'\n",
    "msoa = geopd.read_file(paths.ext_data / base_name / f'{base_name}.shp').set_index('geo_code').rename_axis('msoa_id')\n",
    "print(msoa.shape)"
   ]
  },
  {
   "cell_type": "code",
   "execution_count": 277,
   "metadata": {},
   "outputs": [
    {
     "data": {
      "text/html": [
       "<div>\n",
       "<style scoped>\n",
       "    .dataframe tbody tr th:only-of-type {\n",
       "        vertical-align: middle;\n",
       "    }\n",
       "\n",
       "    .dataframe tbody tr th {\n",
       "        vertical-align: top;\n",
       "    }\n",
       "\n",
       "    .dataframe thead th {\n",
       "        text-align: right;\n",
       "    }\n",
       "</style>\n",
       "<table border=\"1\" class=\"dataframe\">\n",
       "  <thead>\n",
       "    <tr style=\"text-align: right;\">\n",
       "      <th></th>\n",
       "      <th>msoa_id</th>\n",
       "    </tr>\n",
       "    <tr>\n",
       "      <th>lsoa11cd</th>\n",
       "      <th></th>\n",
       "    </tr>\n",
       "  </thead>\n",
       "  <tbody>\n",
       "    <tr>\n",
       "      <th>E01011969</th>\n",
       "      <td>E02002483</td>\n",
       "    </tr>\n",
       "    <tr>\n",
       "      <th>E01011949</th>\n",
       "      <td>E02002491</td>\n",
       "    </tr>\n",
       "    <tr>\n",
       "      <th>E01011970</th>\n",
       "      <td>E02002483</td>\n",
       "    </tr>\n",
       "    <tr>\n",
       "      <th>E01011971</th>\n",
       "      <td>E02002483</td>\n",
       "    </tr>\n",
       "    <tr>\n",
       "      <th>E01011950</th>\n",
       "      <td>E02002490</td>\n",
       "    </tr>\n",
       "  </tbody>\n",
       "</table>\n",
       "</div>"
      ],
      "text/plain": [
       "             msoa_id\n",
       "lsoa11cd            \n",
       "E01011969  E02002483\n",
       "E01011949  E02002491\n",
       "E01011970  E02002483\n",
       "E01011971  E02002483\n",
       "E01011950  E02002490"
      ]
     },
     "execution_count": 277,
     "metadata": {},
     "output_type": "execute_result"
    }
   ],
   "source": [
    "lsoa_to_msoa = pd.read_csv(paths.ext_data / 'Output_Area_to_Lower_Layer_Super_Output_Area_to_Middle_Layer_Super_Output_Area_to_Local_Authority_District__December_2020__Lookup_in_England_and_Wales.csv')\n",
    "lsoa_to_msoa.columns = lsoa_to_msoa.columns.str.lower()\n",
    "cols_mask = lsoa_to_msoa.columns.str.match(r'(l|m)soa.+cd')\n",
    "lsoa_to_msoa = lsoa_to_msoa.loc[:, cols_mask].drop_duplicates().set_index('lsoa11cd')\n",
    "lsoa_to_msoa.columns = lsoa_to_msoa.columns.str.slice_replace(4, None, '_id')\n",
    "lsoa_to_msoa.head()"
   ]
  },
  {
   "cell_type": "code",
   "execution_count": 11,
   "metadata": {},
   "outputs": [],
   "source": [
    "imd = imd.join(lsoa_to_msoa, how='left')"
   ]
  },
  {
   "cell_type": "code",
   "execution_count": 12,
   "metadata": {},
   "outputs": [],
   "source": [
    "grouper = imd.groupby('msoa_id')\n",
    "imd['msoa_pop'] = grouper['TotPop'].transform('sum')\n",
    "imd['wavg_elem'] = imd[metric_col] * imd['TotPop'] / imd['msoa_pop']\n",
    "imd['avg'] = grouper[metric_col].transform('mean')\n",
    "imd['wvar_elem'] = (imd[metric_col] - imd['avg'])**2 * imd['TotPop'] / imd['msoa_pop']\n",
    "msoa_imd = grouper.agg(\n",
    "    wavg=('wavg_elem', 'sum'),\n",
    "    wvar=('wvar_elem', 'mean'),\n",
    "    avg=('avg', 'first'),\n",
    "    var=(metric_col, 'var'),\n",
    "    min=(metric_col, 'min'),\n",
    "    max=(metric_col, 'max'),\n",
    "    pop=('msoa_pop', 'first'),\n",
    ")\n",
    "msoa_imd['wstd'] = np.sqrt(msoa_imd['wvar'])"
   ]
  },
  {
   "cell_type": "code",
   "execution_count": 13,
   "metadata": {},
   "outputs": [
    {
     "data": {
      "text/html": [
       "<div>\n",
       "<style scoped>\n",
       "    .dataframe tbody tr th:only-of-type {\n",
       "        vertical-align: middle;\n",
       "    }\n",
       "\n",
       "    .dataframe tbody tr th {\n",
       "        vertical-align: top;\n",
       "    }\n",
       "\n",
       "    .dataframe thead th {\n",
       "        text-align: right;\n",
       "    }\n",
       "</style>\n",
       "<table border=\"1\" class=\"dataframe\">\n",
       "  <thead>\n",
       "    <tr style=\"text-align: right;\">\n",
       "      <th></th>\n",
       "      <th>wavg</th>\n",
       "      <th>wvar</th>\n",
       "      <th>avg</th>\n",
       "      <th>var</th>\n",
       "      <th>min</th>\n",
       "      <th>max</th>\n",
       "      <th>pop</th>\n",
       "      <th>wstd</th>\n",
       "    </tr>\n",
       "    <tr>\n",
       "      <th>msoa_id</th>\n",
       "      <th></th>\n",
       "      <th></th>\n",
       "      <th></th>\n",
       "      <th></th>\n",
       "      <th></th>\n",
       "      <th></th>\n",
       "      <th></th>\n",
       "      <th></th>\n",
       "    </tr>\n",
       "  </thead>\n",
       "  <tbody>\n",
       "    <tr>\n",
       "      <th>E02000001</th>\n",
       "      <td>0.909384</td>\n",
       "      <td>10.202581</td>\n",
       "      <td>5.36350</td>\n",
       "      <td>72.967058</td>\n",
       "      <td>0.024</td>\n",
       "      <td>22.260</td>\n",
       "      <td>6687</td>\n",
       "      <td>3.194148</td>\n",
       "    </tr>\n",
       "    <tr>\n",
       "      <th>E02000002</th>\n",
       "      <td>7.778841</td>\n",
       "      <td>19.246909</td>\n",
       "      <td>30.48075</td>\n",
       "      <td>102.333271</td>\n",
       "      <td>17.349</td>\n",
       "      <td>38.753</td>\n",
       "      <td>7379</td>\n",
       "      <td>4.387130</td>\n",
       "    </tr>\n",
       "    <tr>\n",
       "      <th>E02000003</th>\n",
       "      <td>2.976738</td>\n",
       "      <td>2.308306</td>\n",
       "      <td>17.61100</td>\n",
       "      <td>17.342949</td>\n",
       "      <td>12.848</td>\n",
       "      <td>23.035</td>\n",
       "      <td>10720</td>\n",
       "      <td>1.519311</td>\n",
       "    </tr>\n",
       "    <tr>\n",
       "      <th>E02000004</th>\n",
       "      <td>5.729982</td>\n",
       "      <td>9.018080</td>\n",
       "      <td>23.15025</td>\n",
       "      <td>51.392207</td>\n",
       "      <td>18.702</td>\n",
       "      <td>33.858</td>\n",
       "      <td>6536</td>\n",
       "      <td>3.003012</td>\n",
       "    </tr>\n",
       "    <tr>\n",
       "      <th>E02000005</th>\n",
       "      <td>5.404532</td>\n",
       "      <td>8.729057</td>\n",
       "      <td>27.56860</td>\n",
       "      <td>51.124119</td>\n",
       "      <td>19.124</td>\n",
       "      <td>37.624</td>\n",
       "      <td>9243</td>\n",
       "      <td>2.954498</td>\n",
       "    </tr>\n",
       "    <tr>\n",
       "      <th>...</th>\n",
       "      <td>...</td>\n",
       "      <td>...</td>\n",
       "      <td>...</td>\n",
       "      <td>...</td>\n",
       "      <td>...</td>\n",
       "      <td>...</td>\n",
       "      <td>...</td>\n",
       "      <td>...</td>\n",
       "    </tr>\n",
       "    <tr>\n",
       "      <th>E02006930</th>\n",
       "      <td>1.583553</td>\n",
       "      <td>3.187740</td>\n",
       "      <td>6.79025</td>\n",
       "      <td>19.861708</td>\n",
       "      <td>3.229</td>\n",
       "      <td>13.311</td>\n",
       "      <td>7537</td>\n",
       "      <td>1.785424</td>\n",
       "    </tr>\n",
       "    <tr>\n",
       "      <th>E02006931</th>\n",
       "      <td>1.303344</td>\n",
       "      <td>3.254671</td>\n",
       "      <td>6.18140</td>\n",
       "      <td>19.642651</td>\n",
       "      <td>1.047</td>\n",
       "      <td>12.399</td>\n",
       "      <td>9405</td>\n",
       "      <td>1.804071</td>\n",
       "    </tr>\n",
       "    <tr>\n",
       "      <th>E02006932</th>\n",
       "      <td>5.488467</td>\n",
       "      <td>44.602976</td>\n",
       "      <td>22.97760</td>\n",
       "      <td>237.947663</td>\n",
       "      <td>4.158</td>\n",
       "      <td>43.037</td>\n",
       "      <td>12651</td>\n",
       "      <td>6.678546</td>\n",
       "    </tr>\n",
       "    <tr>\n",
       "      <th>E02006933</th>\n",
       "      <td>5.035665</td>\n",
       "      <td>118.847686</td>\n",
       "      <td>21.41000</td>\n",
       "      <td>704.611932</td>\n",
       "      <td>2.385</td>\n",
       "      <td>59.571</td>\n",
       "      <td>6703</td>\n",
       "      <td>10.901729</td>\n",
       "    </tr>\n",
       "    <tr>\n",
       "      <th>E02006934</th>\n",
       "      <td>4.453099</td>\n",
       "      <td>43.378722</td>\n",
       "      <td>16.47725</td>\n",
       "      <td>201.771968</td>\n",
       "      <td>8.158</td>\n",
       "      <td>37.738</td>\n",
       "      <td>6878</td>\n",
       "      <td>6.586252</td>\n",
       "    </tr>\n",
       "  </tbody>\n",
       "</table>\n",
       "<p>6791 rows × 8 columns</p>\n",
       "</div>"
      ],
      "text/plain": [
       "               wavg        wvar       avg         var     min     max    pop  \\\n",
       "msoa_id                                                                        \n",
       "E02000001  0.909384   10.202581   5.36350   72.967058   0.024  22.260   6687   \n",
       "E02000002  7.778841   19.246909  30.48075  102.333271  17.349  38.753   7379   \n",
       "E02000003  2.976738    2.308306  17.61100   17.342949  12.848  23.035  10720   \n",
       "E02000004  5.729982    9.018080  23.15025   51.392207  18.702  33.858   6536   \n",
       "E02000005  5.404532    8.729057  27.56860   51.124119  19.124  37.624   9243   \n",
       "...             ...         ...       ...         ...     ...     ...    ...   \n",
       "E02006930  1.583553    3.187740   6.79025   19.861708   3.229  13.311   7537   \n",
       "E02006931  1.303344    3.254671   6.18140   19.642651   1.047  12.399   9405   \n",
       "E02006932  5.488467   44.602976  22.97760  237.947663   4.158  43.037  12651   \n",
       "E02006933  5.035665  118.847686  21.41000  704.611932   2.385  59.571   6703   \n",
       "E02006934  4.453099   43.378722  16.47725  201.771968   8.158  37.738   6878   \n",
       "\n",
       "                wstd  \n",
       "msoa_id               \n",
       "E02000001   3.194148  \n",
       "E02000002   4.387130  \n",
       "E02000003   1.519311  \n",
       "E02000004   3.003012  \n",
       "E02000005   2.954498  \n",
       "...              ...  \n",
       "E02006930   1.785424  \n",
       "E02006931   1.804071  \n",
       "E02006932   6.678546  \n",
       "E02006933  10.901729  \n",
       "E02006934   6.586252  \n",
       "\n",
       "[6791 rows x 8 columns]"
      ]
     },
     "execution_count": 13,
     "metadata": {},
     "output_type": "execute_result"
    }
   ],
   "source": [
    "msoa_imd"
   ]
  },
  {
   "cell_type": "code",
   "execution_count": 13,
   "metadata": {},
   "outputs": [
    {
     "data": {
      "text/plain": [
       "count    6791.000000\n",
       "mean        3.661148\n",
       "std         2.536428\n",
       "min         0.000000\n",
       "25%         1.701512\n",
       "50%         3.064247\n",
       "75%         5.094203\n",
       "max        18.475722\n",
       "Name: wstd, dtype: float64"
      ]
     },
     "execution_count": 13,
     "metadata": {},
     "output_type": "execute_result"
    }
   ],
   "source": [
    "msoa_imd['wstd'].describe()"
   ]
  },
  {
   "cell_type": "code",
   "execution_count": 15,
   "metadata": {},
   "outputs": [
    {
     "data": {
      "text/plain": [
       "count     6791.000000\n",
       "mean      8058.931527\n",
       "std       1772.452425\n",
       "min       2335.000000\n",
       "25%       6722.000000\n",
       "50%       7834.000000\n",
       "75%       9064.500000\n",
       "max      18534.000000\n",
       "Name: pop, dtype: float64"
      ]
     },
     "execution_count": 15,
     "metadata": {},
     "output_type": "execute_result"
    }
   ],
   "source": [
    "# checked min and max in 2015 edition of https://www.ons.gov.uk/peoplepopulationandcommunity/populationandmigration/populationestimates/datasets/middlesuperoutputareamidyearpopulationestimates\n",
    "msoa_imd['pop'].describe()"
   ]
  },
  {
   "cell_type": "code",
   "execution_count": 15,
   "metadata": {},
   "outputs": [],
   "source": [
    "msoa_gdf = msoa.join(msoa_imd, how='inner')"
   ]
  },
  {
   "cell_type": "code",
   "execution_count": 58,
   "metadata": {},
   "outputs": [],
   "source": [
    "simplified_mgeoms = msoa_gdf.geometry.simplify(50).to_crs('epsg:4326').rename('geometry')"
   ]
  },
  {
   "cell_type": "code",
   "execution_count": null,
   "metadata": {},
   "outputs": [],
   "source": [
    "plot_gdf = geopd.GeoDataFrame(msoa_imd.join(simplified_mgeoms, how='inner'))"
   ]
  },
  {
   "cell_type": "code",
   "execution_count": null,
   "metadata": {},
   "outputs": [],
   "source": [
    "m = plot_gdf.explore('wstd')"
   ]
  },
  {
   "cell_type": "code",
   "execution_count": null,
   "metadata": {},
   "outputs": [],
   "source": [
    "m.save(paths.figs / 'imd_msoa.html')"
   ]
  },
  {
   "cell_type": "code",
   "execution_count": 17,
   "metadata": {},
   "outputs": [
    {
     "data": {
      "text/plain": [
       "(6791, 11)"
      ]
     },
     "execution_count": 17,
     "metadata": {},
     "output_type": "execute_result"
    }
   ],
   "source": [
    "msoa_gdf.shape"
   ]
  },
  {
   "cell_type": "markdown",
   "metadata": {},
   "source": [
    "### Spatial aggregate by hand"
   ]
  },
  {
   "cell_type": "code",
   "execution_count": 436,
   "metadata": {},
   "outputs": [
    {
     "name": "stderr",
     "output_type": "stream",
     "text": [
      "/home/thomaslouf/.conda/envs/ses-ling/lib/python3.9/site-packages/libpysal/weights/weights.py:172: UserWarning: The weights matrix is not fully connected: \n",
      " There are 9 disconnected components.\n",
      " There are 2 islands with ids: 18535, 26052.\n",
      "  warnings.warn(message)\n"
     ]
    }
   ],
   "source": [
    "w = Rook.from_dataframe(imd)"
   ]
  },
  {
   "cell_type": "code",
   "execution_count": 232,
   "metadata": {},
   "outputs": [],
   "source": [
    "comp_ids, comp_inv, comp_counts = np.unique(w.component_labels, return_inverse=True, return_counts=True)\n",
    "biggest_comp = comp_ids[comp_counts.argmax()]\n",
    "idc_biggest_comp = np.nonzero(w.component_labels == biggest_comp)"
   ]
  },
  {
   "cell_type": "code",
   "execution_count": 82,
   "metadata": {},
   "outputs": [
    {
     "data": {
      "text/plain": [
       "array([0., 0., 0., ..., 0., 0., 0.])"
      ]
     },
     "execution_count": 82,
     "metadata": {},
     "output_type": "execute_result"
    }
   ],
   "source": [
    "full_w = w.full()[0]"
   ]
  },
  {
   "cell_type": "code",
   "execution_count": 84,
   "metadata": {},
   "outputs": [],
   "source": [
    "# comp_w = full_w[idc_biggest_comp[:, np.newaxis], idc_biggest_comp]\n",
    "comp_w = full_w[idc_biggest_comp, idc_biggest_comp[0]]"
   ]
  },
  {
   "cell_type": "code",
   "execution_count": 85,
   "metadata": {},
   "outputs": [
    {
     "data": {
      "text/plain": [
       "(32650, 32650)"
      ]
     },
     "execution_count": 85,
     "metadata": {},
     "output_type": "execute_result"
    }
   ],
   "source": [
    "comp_w.shape"
   ]
  },
  {
   "cell_type": "code",
   "execution_count": 174,
   "metadata": {},
   "outputs": [],
   "source": [
    "from scipy import sparse\n",
    "connectivity = sparse.lil_matrix(comp_w)"
   ]
  },
  {
   "cell_type": "markdown",
   "metadata": {},
   "source": [
    "when two clusters are merged, need to add to the heap `inertia` and structure matrix `A` the distances not calcuated before between unconnected points. But can't edit heap, and checking every time you pop defeats the purpose of a heapq. Nah but just have to push the right distance on L243. This implies either filling A with all pairwise distances or alculating them on the fly"
   ]
  },
  {
   "cell_type": "code",
   "execution_count": 408,
   "metadata": {},
   "outputs": [
    {
     "name": "stdout",
     "output_type": "stream",
     "text": [
      "1.20248995732655\n"
     ]
    }
   ],
   "source": [
    "import numpy as np\n",
    "import pandas as pd\n",
    "from sklearn.cluster import AgglomerativeClustering\n",
    "\n",
    "rng = np.random.RandomState(0)\n",
    "n_samples = 100\n",
    "conn = np.ones([n_samples, n_samples], dtype=bool)\n",
    "# Add some random sparsity, 70% at most\n",
    "masked = (rng.random((n_samples, 70)) * n_samples).astype(int)\n",
    "for i, nbh in enumerate(masked):\n",
    "    conn[i, nbh] = False\n",
    "    conn[nbh, i] = False\n",
    "X = rng.randn(n_samples, 1)\n",
    "clustering = AgglomerativeClustering(\n",
    "    n_clusters=None,\n",
    "    distance_threshold=1,\n",
    "    connectivity=conn,\n",
    "    linkage='complete',\n",
    "    affinity='l1',\n",
    ")\n",
    "clustering.fit(X)\n",
    "df = pd.DataFrame({'labels': clustering.labels_, 'x': X.flatten()})\n",
    "clustered_df = df.groupby('labels').agg(**{op: ('x', op) for op in ['min', 'max']})\n",
    "# This should be < distance_threshold\n",
    "print((clustered_df['max'] - clustered_df['min']).max())"
   ]
  },
  {
   "cell_type": "code",
   "execution_count": 437,
   "metadata": {},
   "outputs": [
    {
     "name": "stderr",
     "output_type": "stream",
     "text": [
      "/home/thomaslouf/.conda/envs/ses-ling/lib/python3.9/site-packages/sklearn/cluster/_agglomerative.py:549: UserWarning: the number of connected components of the connectivity matrix is 9 > 1. Completing it to avoid stopping the tree early.\n",
      "  connectivity, n_connected_components = _fix_connectivity(\n"
     ]
    },
    {
     "data": {
      "text/html": [
       "<style>#sk-container-id-22 {color: black;background-color: white;}#sk-container-id-22 pre{padding: 0;}#sk-container-id-22 div.sk-toggleable {background-color: white;}#sk-container-id-22 label.sk-toggleable__label {cursor: pointer;display: block;width: 100%;margin-bottom: 0;padding: 0.3em;box-sizing: border-box;text-align: center;}#sk-container-id-22 label.sk-toggleable__label-arrow:before {content: \"▸\";float: left;margin-right: 0.25em;color: #696969;}#sk-container-id-22 label.sk-toggleable__label-arrow:hover:before {color: black;}#sk-container-id-22 div.sk-estimator:hover label.sk-toggleable__label-arrow:before {color: black;}#sk-container-id-22 div.sk-toggleable__content {max-height: 0;max-width: 0;overflow: hidden;text-align: left;background-color: #f0f8ff;}#sk-container-id-22 div.sk-toggleable__content pre {margin: 0.2em;color: black;border-radius: 0.25em;background-color: #f0f8ff;}#sk-container-id-22 input.sk-toggleable__control:checked~div.sk-toggleable__content {max-height: 200px;max-width: 100%;overflow: auto;}#sk-container-id-22 input.sk-toggleable__control:checked~label.sk-toggleable__label-arrow:before {content: \"▾\";}#sk-container-id-22 div.sk-estimator input.sk-toggleable__control:checked~label.sk-toggleable__label {background-color: #d4ebff;}#sk-container-id-22 div.sk-label input.sk-toggleable__control:checked~label.sk-toggleable__label {background-color: #d4ebff;}#sk-container-id-22 input.sk-hidden--visually {border: 0;clip: rect(1px 1px 1px 1px);clip: rect(1px, 1px, 1px, 1px);height: 1px;margin: -1px;overflow: hidden;padding: 0;position: absolute;width: 1px;}#sk-container-id-22 div.sk-estimator {font-family: monospace;background-color: #f0f8ff;border: 1px dotted black;border-radius: 0.25em;box-sizing: border-box;margin-bottom: 0.5em;}#sk-container-id-22 div.sk-estimator:hover {background-color: #d4ebff;}#sk-container-id-22 div.sk-parallel-item::after {content: \"\";width: 100%;border-bottom: 1px solid gray;flex-grow: 1;}#sk-container-id-22 div.sk-label:hover label.sk-toggleable__label {background-color: #d4ebff;}#sk-container-id-22 div.sk-serial::before {content: \"\";position: absolute;border-left: 1px solid gray;box-sizing: border-box;top: 0;bottom: 0;left: 50%;z-index: 0;}#sk-container-id-22 div.sk-serial {display: flex;flex-direction: column;align-items: center;background-color: white;padding-right: 0.2em;padding-left: 0.2em;position: relative;}#sk-container-id-22 div.sk-item {position: relative;z-index: 1;}#sk-container-id-22 div.sk-parallel {display: flex;align-items: stretch;justify-content: center;background-color: white;position: relative;}#sk-container-id-22 div.sk-item::before, #sk-container-id-22 div.sk-parallel-item::before {content: \"\";position: absolute;border-left: 1px solid gray;box-sizing: border-box;top: 0;bottom: 0;left: 50%;z-index: -1;}#sk-container-id-22 div.sk-parallel-item {display: flex;flex-direction: column;z-index: 1;position: relative;background-color: white;}#sk-container-id-22 div.sk-parallel-item:first-child::after {align-self: flex-end;width: 50%;}#sk-container-id-22 div.sk-parallel-item:last-child::after {align-self: flex-start;width: 50%;}#sk-container-id-22 div.sk-parallel-item:only-child::after {width: 0;}#sk-container-id-22 div.sk-dashed-wrapped {border: 1px dashed gray;margin: 0 0.4em 0.5em 0.4em;box-sizing: border-box;padding-bottom: 0.4em;background-color: white;}#sk-container-id-22 div.sk-label label {font-family: monospace;font-weight: bold;display: inline-block;line-height: 1.2em;}#sk-container-id-22 div.sk-label-container {text-align: center;}#sk-container-id-22 div.sk-container {/* jupyter's `normalize.less` sets `[hidden] { display: none; }` but bootstrap.min.css set `[hidden] { display: none !important; }` so we also need the `!important` here to be able to override the default hidden behavior on the sphinx rendered scikit-learn.org. See: https://github.com/scikit-learn/scikit-learn/issues/21755 */display: inline-block !important;position: relative;}#sk-container-id-22 div.sk-text-repr-fallback {display: none;}</style><div id=\"sk-container-id-22\" class=\"sk-top-container\"><div class=\"sk-text-repr-fallback\"><pre>AgglomerativeClustering(affinity=&#x27;l1&#x27;,\n",
       "                        connectivity=&lt;32844x32844 sparse matrix of type &#x27;&lt;class &#x27;numpy.float64&#x27;&gt;&#x27;\n",
       "\twith 189220 stored elements in Compressed Sparse Row format&gt;,\n",
       "                        distance_threshold=5, linkage=&#x27;complete&#x27;,\n",
       "                        n_clusters=None)</pre><b>In a Jupyter environment, please rerun this cell to show the HTML representation or trust the notebook. <br />On GitHub, the HTML representation is unable to render, please try loading this page with nbviewer.org.</b></div><div class=\"sk-container\" hidden><div class=\"sk-item\"><div class=\"sk-estimator sk-toggleable\"><input class=\"sk-toggleable__control sk-hidden--visually\" id=\"sk-estimator-id-22\" type=\"checkbox\" checked><label for=\"sk-estimator-id-22\" class=\"sk-toggleable__label sk-toggleable__label-arrow\">AgglomerativeClustering</label><div class=\"sk-toggleable__content\"><pre>AgglomerativeClustering(affinity=&#x27;l1&#x27;,\n",
       "                        connectivity=&lt;32844x32844 sparse matrix of type &#x27;&lt;class &#x27;numpy.float64&#x27;&gt;&#x27;\n",
       "\twith 189220 stored elements in Compressed Sparse Row format&gt;,\n",
       "                        distance_threshold=5, linkage=&#x27;complete&#x27;,\n",
       "                        n_clusters=None)</pre></div></div></div></div></div>"
      ],
      "text/plain": [
       "AgglomerativeClustering(affinity='l1',\n",
       "                        connectivity=<32844x32844 sparse matrix of type '<class 'numpy.float64'>'\n",
       "\twith 189220 stored elements in Compressed Sparse Row format>,\n",
       "                        distance_threshold=5, linkage='complete',\n",
       "                        n_clusters=None)"
      ]
     },
     "execution_count": 437,
     "metadata": {},
     "output_type": "execute_result"
    }
   ],
   "source": [
    "connectivity = w.sparse\n",
    "idc_biggest_comp = (np.arange(imd.shape[0]), )\n",
    "model = AgglomerativeClustering(\n",
    "    n_clusters=None,\n",
    "    connectivity=connectivity,\n",
    "    linkage=\"complete\",\n",
    "    distance_threshold=5,\n",
    "    affinity='l1',\n",
    ")\n",
    "model.fit(imd[[metric_col]].values[idc_biggest_comp])\n",
    "# model = WardSpatial(wimd, w, [metric_col], n_clusters=None, clustering_kwds={'distance_threshold': 200})\n",
    "# model.solve()\n",
    "# imd['labels'] = model.labels_"
   ]
  },
  {
   "cell_type": "code",
   "execution_count": 446,
   "metadata": {},
   "outputs": [],
   "source": [
    "comp_imd = imd.iloc[idc_biggest_comp[0]].copy()\n",
    "comp_imd['labels'] = model.labels_"
   ]
  },
  {
   "cell_type": "code",
   "execution_count": 448,
   "metadata": {},
   "outputs": [
    {
     "name": "stdout",
     "output_type": "stream",
     "text": [
      "24.389\n",
      "(12198, 4) (32844, 68)\n"
     ]
    }
   ],
   "source": [
    "clustered_imd = comp_imd.groupby('labels').agg(**{k: (metric_col, k) for k in ['mean', 'min', 'max', 'size']})\n",
    "print((clustered_imd['max'] - clustered_imd['min']).max())\n",
    "print(clustered_imd.shape, comp_imd.shape)"
   ]
  },
  {
   "cell_type": "markdown",
   "metadata": {},
   "source": [
    "when connectivity, distance is not direct but through \"path\" has to take to join originally disconnected nodes, which fro complete linkage should be highes tdistance along this path"
   ]
  },
  {
   "cell_type": "markdown",
   "metadata": {},
   "source": [
    "all following is consistent, so problem is actual values of distances"
   ]
  },
  {
   "cell_type": "code",
   "execution_count": 240,
   "metadata": {},
   "outputs": [],
   "source": [
    "mask_pb_label = comp_imd['labels'] == clustered_imd.index[(clustered_imd['max'] - clustered_imd['min']).argmax()]\n",
    "idc_pb = np.nonzero(mask_pb_label.values)"
   ]
  },
  {
   "cell_type": "code",
   "execution_count": 250,
   "metadata": {},
   "outputs": [
    {
     "data": {
      "text/plain": [
       "7.823999999999999"
      ]
     },
     "execution_count": 250,
     "metadata": {},
     "output_type": "execute_result"
    }
   ],
   "source": [
    "max_d = 0\n",
    "max_i = 0\n",
    "for i in idc_pb[0]:\n",
    "    mask = comp_w[idc_pb[0], i].astype(bool)\n",
    "    values_in_nb = comp_imd[metric_col].iloc[idc_pb[0][mask]]\n",
    "    d = values_in_nb.max() - values_in_nb.min()\n",
    "    if d > max_d:\n",
    "        max_d = d\n",
    "        max_i = i\n",
    "max_d"
   ]
  },
  {
   "cell_type": "code",
   "execution_count": 252,
   "metadata": {},
   "outputs": [],
   "source": [
    "mask = comp_w[idc_pb[0], max_i].astype(bool)\n",
    "values_in_nb = comp_imd[metric_col].iloc[idc_pb[0][mask]]"
   ]
  },
  {
   "cell_type": "code",
   "execution_count": 256,
   "metadata": {},
   "outputs": [
    {
     "data": {
      "text/html": [
       "<div>\n",
       "<style scoped>\n",
       "    .dataframe tbody tr th:only-of-type {\n",
       "        vertical-align: middle;\n",
       "    }\n",
       "\n",
       "    .dataframe tbody tr th {\n",
       "        vertical-align: top;\n",
       "    }\n",
       "\n",
       "    .dataframe thead th {\n",
       "        text-align: right;\n",
       "    }\n",
       "</style>\n",
       "<table border=\"1\" class=\"dataframe\">\n",
       "  <thead>\n",
       "    <tr style=\"text-align: right;\">\n",
       "      <th></th>\n",
       "      <th>labels</th>\n",
       "      <th>EduScore</th>\n",
       "    </tr>\n",
       "  </thead>\n",
       "  <tbody>\n",
       "    <tr>\n",
       "      <th>4075</th>\n",
       "      <td>251</td>\n",
       "      <td>14.854</td>\n",
       "    </tr>\n",
       "    <tr>\n",
       "      <th>4085</th>\n",
       "      <td>251</td>\n",
       "      <td>7.030</td>\n",
       "    </tr>\n",
       "    <tr>\n",
       "      <th>5099</th>\n",
       "      <td>251</td>\n",
       "      <td>13.722</td>\n",
       "    </tr>\n",
       "  </tbody>\n",
       "</table>\n",
       "</div>"
      ],
      "text/plain": [
       "      labels  EduScore\n",
       "4075     251    14.854\n",
       "4085     251     7.030\n",
       "5099     251    13.722"
      ]
     },
     "execution_count": 256,
     "metadata": {},
     "output_type": "execute_result"
    }
   ],
   "source": [
    "comp_imd.iloc[[4075, 4085, 5099]][['labels', metric_col]]"
   ]
  },
  {
   "cell_type": "code",
   "execution_count": 253,
   "metadata": {},
   "outputs": [
    {
     "data": {
      "text/plain": [
       "4075    14.854\n",
       "4085     7.030\n",
       "5099    13.722\n",
       "Name: EduScore, dtype: float64"
      ]
     },
     "execution_count": 253,
     "metadata": {},
     "output_type": "execute_result"
    }
   ],
   "source": [
    "values_in_nb"
   ]
  },
  {
   "cell_type": "code",
   "execution_count": 249,
   "metadata": {},
   "outputs": [
    {
     "data": {
      "text/plain": [
       "11217    1.076\n",
       "11238    1.270\n",
       "11851    3.356\n",
       "32085    3.708\n",
       "Name: EduScore, dtype: float64"
      ]
     },
     "execution_count": 249,
     "metadata": {},
     "output_type": "execute_result"
    }
   ],
   "source": [
    "comp_imd[metric_col].iloc[idc_pb[0][mask]]"
   ]
  },
  {
   "cell_type": "code",
   "execution_count": 199,
   "metadata": {},
   "outputs": [
    {
     "data": {
      "text/plain": [
       "mean     6.808525\n",
       "min      2.884000\n",
       "max     11.566000\n",
       "size    59.000000\n",
       "Name: 223, dtype: float64"
      ]
     },
     "execution_count": 199,
     "metadata": {},
     "output_type": "execute_result"
    }
   ],
   "source": [
    "clustered_imd.iloc[223]"
   ]
  },
  {
   "cell_type": "code",
   "execution_count": 450,
   "metadata": {},
   "outputs": [],
   "source": [
    "clustered_imd = comp_imd[['labels', 'geometry']].dissolve(by='labels').join(clustered_imd)\n",
    "# weighted average (by pop) instead of normal one?"
   ]
  },
  {
   "cell_type": "code",
   "execution_count": 452,
   "metadata": {},
   "outputs": [],
   "source": [
    "map = clustered_imd.explore('mean')"
   ]
  },
  {
   "cell_type": "code",
   "execution_count": 453,
   "metadata": {},
   "outputs": [],
   "source": [
    "map.save(paths.figs / 'agg_lsoa.html')"
   ]
  },
  {
   "cell_type": "markdown",
   "metadata": {},
   "source": [
    "# Attribution"
   ]
  },
  {
   "cell_type": "code",
   "execution_count": 10,
   "metadata": {},
   "outputs": [],
   "source": [
    "res_cell_size = 'MSOA_BGC'\n",
    "cell_shp_metadata = cc_dict['cell_shapefiles'][res_cell_size]\n",
    "kind = cell_shp_metadata['kind']\n",
    "cell_col = cell_shp_metadata['index_col']\n",
    "subcell_level = 'LSOA_BGC'\n",
    "subcell_shp_metadata = cc_dict['cell_shapefiles'][subcell_level]\n",
    "subcell_col = subcell_shp_metadata['index_col']"
   ]
  },
  {
   "cell_type": "code",
   "execution_count": 70,
   "metadata": {},
   "outputs": [
    {
     "data": {
      "text/plain": [
       "{'fname': 'Lower_Layer_Super_Output_Areas_(December_2011)_Boundaries_Generalised_Clipped_(BGC)_EW_V3',\n",
       " 'index_col': 'LSOA11CD',\n",
       " 'kind': 'census'}"
      ]
     },
     "execution_count": 70,
     "metadata": {},
     "output_type": "execute_result"
    }
   ],
   "source": [
    "subcell_shp_metadata"
   ]
  },
  {
   "cell_type": "code",
   "execution_count": 58,
   "metadata": {},
   "outputs": [
    {
     "name": "stdout",
     "output_type": "stream",
     "text": [
      "shape_geodf loaded for GB\n",
      "ses_df loaded for GB\n",
      "cell_levels_corr loaded for GB\n",
      "lt_rules loaded for GB\n"
     ]
    }
   ],
   "source": [
    "\n",
    "res_cell_size = 'MSOA_BGC'\n",
    "gps_attr_level = 'LSOA_BGC'\n",
    "gps_dups_th = 500\n",
    "pois_dups_th = 500\n",
    "\n",
    "res_attr_kwargs = dict(\n",
    "    nighttime_acty_th=0.5,\n",
    "    all_acty_th=0.1,\n",
    "    count_th=3,\n",
    "    gps_dups_th=gps_dups_th,\n",
    "    pois_dups_th=pois_dups_th,\n",
    ")\n",
    "\n",
    "reg = Region(\n",
    "    cc, 'en', cc_dict, res_cell_size, cell_size=res_cell_size,\n",
    "    year_from=year_from, year_to=year_to,\n",
    "    res_attr_kwargs=res_attr_kwargs,\n",
    ")"
   ]
  },
  {
   "cell_type": "code",
   "execution_count": 61,
   "metadata": {},
   "outputs": [
    {
     "data": {
      "text/html": [
       "<div>\n",
       "<style scoped>\n",
       "    .dataframe tbody tr th:only-of-type {\n",
       "        vertical-align: middle;\n",
       "    }\n",
       "\n",
       "    .dataframe tbody tr th {\n",
       "        vertical-align: top;\n",
       "    }\n",
       "\n",
       "    .dataframe thead th {\n",
       "        text-align: right;\n",
       "    }\n",
       "</style>\n",
       "<table border=\"1\" class=\"dataframe\">\n",
       "  <thead>\n",
       "    <tr style=\"text-align: right;\">\n",
       "      <th></th>\n",
       "      <th></th>\n",
       "    </tr>\n",
       "    <tr>\n",
       "      <th>msoa11cd</th>\n",
       "      <th>lsoa11cd</th>\n",
       "    </tr>\n",
       "  </thead>\n",
       "  <tbody>\n",
       "    <tr>\n",
       "      <th rowspan=\"5\" valign=\"top\">E02000001</th>\n",
       "      <th>E01000001</th>\n",
       "    </tr>\n",
       "    <tr>\n",
       "      <th>E01000002</th>\n",
       "    </tr>\n",
       "    <tr>\n",
       "      <th>E01000003</th>\n",
       "    </tr>\n",
       "    <tr>\n",
       "      <th>E01000005</th>\n",
       "    </tr>\n",
       "    <tr>\n",
       "      <th>E01032739</th>\n",
       "    </tr>\n",
       "    <tr>\n",
       "      <th>...</th>\n",
       "      <th>...</th>\n",
       "    </tr>\n",
       "    <tr>\n",
       "      <th rowspan=\"5\" valign=\"top\">W02000423</th>\n",
       "      <th>W01001942</th>\n",
       "    </tr>\n",
       "    <tr>\n",
       "      <th>W01001946</th>\n",
       "    </tr>\n",
       "    <tr>\n",
       "      <th>W01001950</th>\n",
       "    </tr>\n",
       "    <tr>\n",
       "      <th>W01001951</th>\n",
       "    </tr>\n",
       "    <tr>\n",
       "      <th>W01001952</th>\n",
       "    </tr>\n",
       "  </tbody>\n",
       "</table>\n",
       "<p>34753 rows × 0 columns</p>\n",
       "</div>"
      ],
      "text/plain": [
       "Empty DataFrame\n",
       "Columns: []\n",
       "Index: [(E02000001, E01000001), (E02000001, E01000002), (E02000001, E01000003), (E02000001, E01000005), (E02000001, E01032739), (E02000001, E01032740), (E02000002, E01000027), (E02000002, E01000028), (E02000002, E01000029), (E02000002, E01000030), (E02000003, E01000031), (E02000003, E01000032), (E02000003, E01000110), (E02000003, E01000111), (E02000003, E01000112), (E02000003, E01000113), (E02000004, E01000034), (E02000004, E01000037), (E02000004, E01000038), (E02000004, E01000039), (E02000005, E01000063), (E02000005, E01000100), (E02000005, E01000101), (E02000005, E01000109), (E02000005, E01000114), (E02000007, E01000033), (E02000007, E01000060), (E02000007, E01000061), (E02000007, E01000062), (E02000007, E01000064), (E02000008, E01000065), (E02000008, E01000078), (E02000008, E01000080), (E02000008, E01000081), (E02000008, E01000082), (E02000008, E01000083), (E02000008, E01000102), (E02000009, E01000021), (E02000009, E01000022), (E02000009, E01000023), (E02000009, E01000024), (E02000009, E01000025), (E02000009, E01000077), (E02000010, E01000015), (E02000010, E01000016), (E02000010, E01000017), (E02000010, E01000018), (E02000010, E01000079), (E02000011, E01000035), (E02000011, E01000036), (E02000011, E01000107), (E02000011, E01000108), (E02000012, E01000066), (E02000012, E01000067), (E02000012, E01000069), (E02000012, E01000070), (E02000012, E01000071), (E02000013, E01000057), (E02000013, E01000073), (E02000013, E01000074), (E02000013, E01000075), (E02000013, E01000076), (E02000014, E01000013), (E02000014, E01000014), (E02000014, E01000059), (E02000014, E01000084), (E02000014, E01000085), (E02000014, E01000086), (E02000015, E01000103), (E02000015, E01000104), (E02000015, E01000105), (E02000015, E01000106), (E02000016, E01000007), (E02000016, E01000008), (E02000016, E01000010), (E02000016, E01000012), (E02000017, E01000006), (E02000017, E01000009), (E02000017, E01000011), (E02000017, E01000044), (E02000017, E01000068), (E02000018, E01000041), (E02000018, E01000042), (E02000018, E01000045), (E02000018, E01000046), (E02000018, E01000072), (E02000019, E01000054), (E02000019, E01000055), (E02000019, E01000056), (E02000019, E01000058), (E02000019, E01000095), (E02000020, E01000040), (E02000020, E01000043), (E02000020, E01000050), (E02000020, E01000052), (E02000020, E01000092), (E02000021, E01000053), (E02000021, E01000087), (E02000021, E01000088), (E02000021, E01000089), ...]\n",
       "\n",
       "[34753 rows x 0 columns]"
      ]
     },
     "execution_count": 61,
     "metadata": {},
     "output_type": "execute_result"
    }
   ],
   "source": [
    "cell_shp_metadata = reg.cell_shapefiles[reg.res_cell_size]\n",
    "cell_col = cell_shp_metadata['index_col']\n",
    "subcell_shp_metadata = reg.cell_shapefiles[gps_attr_level]\n",
    "subcell_col = subcell_shp_metadata['index_col']\n",
    "spatial_agg.levels_corr(\n",
    "    reg.cell_levels_corr, subcell_col, cell_col\n",
    ")"
   ]
  },
  {
   "cell_type": "code",
   "execution_count": 64,
   "metadata": {},
   "outputs": [
    {
     "data": {
      "text/plain": [
       "'/home/thomaslouf/Documents/code/ses-ling/data/interim/GB/user_cells_from_gps_{cell_kind}_2015-2021_gps_dups_th=500.parquet'"
      ]
     },
     "execution_count": 64,
     "metadata": {},
     "output_type": "execute_result"
    }
   ],
   "source": [
    "str(reg.paths.user_cells_from_gps)"
   ]
  },
  {
   "cell_type": "markdown",
   "metadata": {},
   "source": [
    "## Get places to cells matching"
   ]
  },
  {
   "cell_type": "code",
   "execution_count": 19,
   "metadata": {},
   "outputs": [
    {
     "name": "stderr",
     "output_type": "stream",
     "text": [
      "134685it [00:12, 11009.96it/s]\n"
     ]
    }
   ],
   "source": [
    "places_filter = qr.Filter().equals('country_code', cc)\n",
    "tweets_filter = qr.Filter().not_exists('coordinates.coordinates')\n",
    "places_gdf = data_access.agg_places_from_mongo(\n",
    "    year_from, year_to, places_filter, tweets_colls=colls, tweets_filter=tweets_filter\n",
    ")"
   ]
  },
  {
   "cell_type": "code",
   "execution_count": null,
   "metadata": {},
   "outputs": [
    {
     "data": {
      "text/html": [
       "<div>\n",
       "<style scoped>\n",
       "    .dataframe tbody tr th:only-of-type {\n",
       "        vertical-align: middle;\n",
       "    }\n",
       "\n",
       "    .dataframe tbody tr th {\n",
       "        vertical-align: top;\n",
       "    }\n",
       "\n",
       "    .dataframe thead th {\n",
       "        text-align: right;\n",
       "    }\n",
       "</style>\n",
       "<table border=\"1\" class=\"dataframe\">\n",
       "  <thead>\n",
       "    <tr style=\"text-align: right;\">\n",
       "      <th></th>\n",
       "      <th></th>\n",
       "      <th>ratio</th>\n",
       "    </tr>\n",
       "    <tr>\n",
       "      <th>id</th>\n",
       "      <th>msoa11cd</th>\n",
       "      <th></th>\n",
       "    </tr>\n",
       "  </thead>\n",
       "  <tbody>\n",
       "    <tr>\n",
       "      <th rowspan=\"2\" valign=\"top\">0001878dda20c9d3</th>\n",
       "      <th>W02000108</th>\n",
       "      <td>0.93531</td>\n",
       "    </tr>\n",
       "    <tr>\n",
       "      <th>W02000110</th>\n",
       "      <td>0.06469</td>\n",
       "    </tr>\n",
       "    <tr>\n",
       "      <th>000543740a1a65b5</th>\n",
       "      <th>E02005514</th>\n",
       "      <td>1.00000</td>\n",
       "    </tr>\n",
       "    <tr>\n",
       "      <th>0008ac25d92c0023</th>\n",
       "      <th>E02006111</th>\n",
       "      <td>1.00000</td>\n",
       "    </tr>\n",
       "    <tr>\n",
       "      <th>000ab548b8bc815c</th>\n",
       "      <th>E02006640</th>\n",
       "      <td>1.00000</td>\n",
       "    </tr>\n",
       "  </tbody>\n",
       "</table>\n",
       "</div>"
      ],
      "text/plain": [
       "                              ratio\n",
       "id               msoa11cd          \n",
       "0001878dda20c9d3 W02000108  0.93531\n",
       "                 W02000110  0.06469\n",
       "000543740a1a65b5 E02005514  1.00000\n",
       "0008ac25d92c0023 E02006111  1.00000\n",
       "000ab548b8bc815c E02006640  1.00000"
      ]
     },
     "metadata": {},
     "output_type": "display_data"
    }
   ],
   "source": [
    "places_to_cells = user_residence.places_to_cells(\n",
    "    places_gdf, lang.cells_geodf, xy_proj=cc_dict['xy_proj'], ntop=2,\n",
    "    top_cells_cumoverlap_th=0.9, reg_overlap_th=0.6\n",
    ")\n",
    "places_to_cells.head()"
   ]
  },
  {
   "cell_type": "markdown",
   "metadata": {},
   "source": [
    "## Load user counts per cell and place"
   ]
  },
  {
   "cell_type": "code",
   "execution_count": 17,
   "metadata": {},
   "outputs": [
    {
     "data": {
      "text/html": [
       "<div>\n",
       "<style scoped>\n",
       "    .dataframe tbody tr th:only-of-type {\n",
       "        vertical-align: middle;\n",
       "    }\n",
       "\n",
       "    .dataframe tbody tr th {\n",
       "        vertical-align: top;\n",
       "    }\n",
       "\n",
       "    .dataframe thead th {\n",
       "        text-align: right;\n",
       "    }\n",
       "</style>\n",
       "<table border=\"1\" class=\"dataframe\">\n",
       "  <thead>\n",
       "    <tr style=\"text-align: right;\">\n",
       "      <th></th>\n",
       "      <th></th>\n",
       "      <th></th>\n",
       "      <th>count</th>\n",
       "    </tr>\n",
       "    <tr>\n",
       "      <th>user_id</th>\n",
       "      <th>place_id</th>\n",
       "      <th>is_daytime</th>\n",
       "      <th></th>\n",
       "    </tr>\n",
       "  </thead>\n",
       "  <tbody>\n",
       "    <tr>\n",
       "      <th rowspan=\"5\" valign=\"top\">000003962867f2d312d942838cdb2535b950589f2e85f318e7565dcb45b7418fd3c9530e875ab83a28425f0748e1e0fc92959642cc470b8e0b1cbd4ddef1a8cb</th>\n",
       "      <th rowspan=\"2\" valign=\"top\">01c7ed8caf11e8b2</th>\n",
       "      <th>False</th>\n",
       "      <td>1.0</td>\n",
       "    </tr>\n",
       "    <tr>\n",
       "      <th>True</th>\n",
       "      <td>1.0</td>\n",
       "    </tr>\n",
       "    <tr>\n",
       "      <th>151b9e91272233d1</th>\n",
       "      <th>True</th>\n",
       "      <td>1.0</td>\n",
       "    </tr>\n",
       "    <tr>\n",
       "      <th rowspan=\"2\" valign=\"top\">315b740b108481f6</th>\n",
       "      <th>False</th>\n",
       "      <td>245.0</td>\n",
       "    </tr>\n",
       "    <tr>\n",
       "      <th>True</th>\n",
       "      <td>136.0</td>\n",
       "    </tr>\n",
       "  </tbody>\n",
       "</table>\n",
       "</div>"
      ],
      "text/plain": [
       "                                                                                count\n",
       "user_id                                            place_id         is_daytime       \n",
       "000003962867f2d312d942838cdb2535b950589f2e85f31... 01c7ed8caf11e8b2 False         1.0\n",
       "                                                                    True          1.0\n",
       "                                                   151b9e91272233d1 True          1.0\n",
       "                                                   315b740b108481f6 False       245.0\n",
       "                                                                    True        136.0"
      ]
     },
     "execution_count": 17,
     "metadata": {},
     "output_type": "execute_result"
    }
   ],
   "source": [
    "user_places_counts = pd.read_parquet(paths.user_places)\n",
    "user_places_counts.head()"
   ]
  },
  {
   "cell_type": "code",
   "execution_count": 432,
   "metadata": {},
   "outputs": [],
   "source": [
    "poi_counts = pd.DataFrame()\n",
    "for year in range(year_from, year_to + 1):\n",
    "    poi_counts = poi_counts.add(\n",
    "        pd.read_parquet(paths.interim_data / cc / f\"poi_counts_{year}.parquet\"),\n",
    "        fill_value=0,\n",
    "    )"
   ]
  },
  {
   "cell_type": "code",
   "execution_count": 441,
   "metadata": {},
   "outputs": [],
   "source": [
    "pois_dups_th = 500\n",
    "user_places_counts = user_places_counts.join(\n",
    "    poi_counts.loc[poi_counts['count'] < pois_dups_th, []],\n",
    "    how='inner',\n",
    ")"
   ]
  },
  {
   "cell_type": "code",
   "execution_count": 18,
   "metadata": {},
   "outputs": [
    {
     "data": {
      "text/html": [
       "<div>\n",
       "<style scoped>\n",
       "    .dataframe tbody tr th:only-of-type {\n",
       "        vertical-align: middle;\n",
       "    }\n",
       "\n",
       "    .dataframe tbody tr th {\n",
       "        vertical-align: top;\n",
       "    }\n",
       "\n",
       "    .dataframe thead th {\n",
       "        text-align: right;\n",
       "    }\n",
       "</style>\n",
       "<table border=\"1\" class=\"dataframe\">\n",
       "  <thead>\n",
       "    <tr style=\"text-align: right;\">\n",
       "      <th></th>\n",
       "      <th></th>\n",
       "      <th></th>\n",
       "      <th>count</th>\n",
       "    </tr>\n",
       "    <tr>\n",
       "      <th>user_id</th>\n",
       "      <th>lsoa11cd</th>\n",
       "      <th>is_daytime</th>\n",
       "      <th></th>\n",
       "    </tr>\n",
       "  </thead>\n",
       "  <tbody>\n",
       "    <tr>\n",
       "      <th rowspan=\"5\" valign=\"top\">000003962867f2d312d942838cdb2535b950589f2e85f318e7565dcb45b7418fd3c9530e875ab83a28425f0748e1e0fc92959642cc470b8e0b1cbd4ddef1a8cb</th>\n",
       "      <th>E01002828</th>\n",
       "      <th>True</th>\n",
       "      <td>1</td>\n",
       "    </tr>\n",
       "    <tr>\n",
       "      <th>E01002862</th>\n",
       "      <th>False</th>\n",
       "      <td>1</td>\n",
       "    </tr>\n",
       "    <tr>\n",
       "      <th>E01004736</th>\n",
       "      <th>True</th>\n",
       "      <td>1</td>\n",
       "    </tr>\n",
       "    <tr>\n",
       "      <th>E01004761</th>\n",
       "      <th>False</th>\n",
       "      <td>1</td>\n",
       "    </tr>\n",
       "    <tr>\n",
       "      <th>E01005209</th>\n",
       "      <th>True</th>\n",
       "      <td>1</td>\n",
       "    </tr>\n",
       "  </tbody>\n",
       "</table>\n",
       "</div>"
      ],
      "text/plain": [
       "                                                                         count\n",
       "user_id                                            lsoa11cd  is_daytime       \n",
       "000003962867f2d312d942838cdb2535b950589f2e85f31... E01002828 True            1\n",
       "                                                   E01002862 False           1\n",
       "                                                   E01004736 True            1\n",
       "                                                   E01004761 False           1\n",
       "                                                   E01005209 True            1"
      ]
     },
     "execution_count": 18,
     "metadata": {},
     "output_type": "execute_result"
    }
   ],
   "source": [
    "lang.res_attr_kwargs['gps_dups_th'] = 100\n",
    "subcells_user_counts_from_gps = pd.read_parquet(\n",
    "    str(lang.paths.user_cells_from_gps).format(\n",
    "        cc=cc, gps_attr_cell_size=subcell_level,\n",
    "    )\n",
    ")\n",
    "subcells_user_counts_from_gps.head()"
   ]
  },
  {
   "cell_type": "code",
   "execution_count": 508,
   "metadata": {},
   "outputs": [
    {
     "data": {
      "text/html": [
       "<div>\n",
       "<style scoped>\n",
       "    .dataframe tbody tr th:only-of-type {\n",
       "        vertical-align: middle;\n",
       "    }\n",
       "\n",
       "    .dataframe tbody tr th {\n",
       "        vertical-align: top;\n",
       "    }\n",
       "\n",
       "    .dataframe thead th {\n",
       "        text-align: right;\n",
       "    }\n",
       "</style>\n",
       "<table border=\"1\" class=\"dataframe\">\n",
       "  <thead>\n",
       "    <tr style=\"text-align: right;\">\n",
       "      <th></th>\n",
       "      <th></th>\n",
       "    </tr>\n",
       "    <tr>\n",
       "      <th>msoa11cd</th>\n",
       "      <th>lsoa11cd</th>\n",
       "    </tr>\n",
       "  </thead>\n",
       "  <tbody>\n",
       "    <tr>\n",
       "      <th rowspan=\"5\" valign=\"top\">E02000001</th>\n",
       "      <th>E01000001</th>\n",
       "    </tr>\n",
       "    <tr>\n",
       "      <th>E01000002</th>\n",
       "    </tr>\n",
       "    <tr>\n",
       "      <th>E01000003</th>\n",
       "    </tr>\n",
       "    <tr>\n",
       "      <th>E01000005</th>\n",
       "    </tr>\n",
       "    <tr>\n",
       "      <th>E01032739</th>\n",
       "    </tr>\n",
       "  </tbody>\n",
       "</table>\n",
       "</div>"
      ],
      "text/plain": [
       "Empty DataFrame\n",
       "Columns: []\n",
       "Index: [(E02000001, E01000001), (E02000001, E01000002), (E02000001, E01000003), (E02000001, E01000005), (E02000001, E01032739)]"
      ]
     },
     "execution_count": 508,
     "metadata": {},
     "output_type": "execute_result"
    }
   ],
   "source": [
    "subcells_to_cells = pd.read_csv(paths.ext_data / cc_dict['cell_levels_corr_files'][kind])\n",
    "subcells_to_cells = spatial_agg.levels_corr(\n",
    "    subcells_to_cells, subcell_col, cell_col\n",
    ")\n",
    "subcells_to_cells.head()\n",
    "# [[subcell_col, cell_col]].drop_duplicates().set_index(subcell_col)[cell_col]"
   ]
  },
  {
   "cell_type": "code",
   "execution_count": 549,
   "metadata": {},
   "outputs": [],
   "source": [
    "user_acty = user_residence.get_cell_user_activity(\n",
    "    user_places_counts, places_to_cells, subcells_user_counts_from_gps, subcells_to_cells\n",
    ")"
   ]
  },
  {
   "cell_type": "code",
   "execution_count": 550,
   "metadata": {},
   "outputs": [
    {
     "data": {
      "text/html": [
       "<div>\n",
       "<style scoped>\n",
       "    .dataframe tbody tr th:only-of-type {\n",
       "        vertical-align: middle;\n",
       "    }\n",
       "\n",
       "    .dataframe tbody tr th {\n",
       "        vertical-align: top;\n",
       "    }\n",
       "\n",
       "    .dataframe thead th {\n",
       "        text-align: right;\n",
       "    }\n",
       "</style>\n",
       "<table border=\"1\" class=\"dataframe\">\n",
       "  <thead>\n",
       "    <tr style=\"text-align: right;\">\n",
       "      <th></th>\n",
       "      <th></th>\n",
       "      <th></th>\n",
       "      <th>count</th>\n",
       "      <th>prop_user</th>\n",
       "      <th>prop_user_by_time</th>\n",
       "    </tr>\n",
       "    <tr>\n",
       "      <th>user_id</th>\n",
       "      <th>msoa11cd</th>\n",
       "      <th>is_daytime</th>\n",
       "      <th></th>\n",
       "      <th></th>\n",
       "      <th></th>\n",
       "    </tr>\n",
       "  </thead>\n",
       "  <tbody>\n",
       "    <tr>\n",
       "      <th rowspan=\"5\" valign=\"top\">000003962867f2d312d942838cdb2535b950589f2e85f318e7565dcb45b7418fd3c9530e875ab83a28425f0748e1e0fc92959642cc470b8e0b1cbd4ddef1a8cb</th>\n",
       "      <th>E02000584</th>\n",
       "      <th>True</th>\n",
       "      <td>1.0</td>\n",
       "      <td>0.035714</td>\n",
       "      <td>0.050</td>\n",
       "    </tr>\n",
       "    <tr>\n",
       "      <th>E02000590</th>\n",
       "      <th>False</th>\n",
       "      <td>1.0</td>\n",
       "      <td>0.035714</td>\n",
       "      <td>0.125</td>\n",
       "    </tr>\n",
       "    <tr>\n",
       "      <th rowspan=\"2\" valign=\"top\">E02000977</th>\n",
       "      <th>False</th>\n",
       "      <td>1.0</td>\n",
       "      <td>0.035714</td>\n",
       "      <td>0.125</td>\n",
       "    </tr>\n",
       "    <tr>\n",
       "      <th>True</th>\n",
       "      <td>1.0</td>\n",
       "      <td>0.035714</td>\n",
       "      <td>0.050</td>\n",
       "    </tr>\n",
       "    <tr>\n",
       "      <th>E02001063</th>\n",
       "      <th>True</th>\n",
       "      <td>1.0</td>\n",
       "      <td>0.035714</td>\n",
       "      <td>0.050</td>\n",
       "    </tr>\n",
       "  </tbody>\n",
       "</table>\n",
       "</div>"
      ],
      "text/plain": [
       "                                                                         count  \\\n",
       "user_id                                            msoa11cd  is_daytime          \n",
       "000003962867f2d312d942838cdb2535b950589f2e85f31... E02000584 True          1.0   \n",
       "                                                   E02000590 False         1.0   \n",
       "                                                   E02000977 False         1.0   \n",
       "                                                             True          1.0   \n",
       "                                                   E02001063 True          1.0   \n",
       "\n",
       "                                                                         prop_user  \\\n",
       "user_id                                            msoa11cd  is_daytime              \n",
       "000003962867f2d312d942838cdb2535b950589f2e85f31... E02000584 True         0.035714   \n",
       "                                                   E02000590 False        0.035714   \n",
       "                                                   E02000977 False        0.035714   \n",
       "                                                             True         0.035714   \n",
       "                                                   E02001063 True         0.035714   \n",
       "\n",
       "                                                                         prop_user_by_time  \n",
       "user_id                                            msoa11cd  is_daytime                     \n",
       "000003962867f2d312d942838cdb2535b950589f2e85f31... E02000584 True                    0.050  \n",
       "                                                   E02000590 False                   0.125  \n",
       "                                                   E02000977 False                   0.125  \n",
       "                                                             True                    0.050  \n",
       "                                                   E02001063 True                    0.050  "
      ]
     },
     "execution_count": 550,
     "metadata": {},
     "output_type": "execute_result"
    }
   ],
   "source": [
    "user_acty.head()"
   ]
  },
  {
   "cell_type": "code",
   "execution_count": 551,
   "metadata": {},
   "outputs": [],
   "source": [
    "user_residence_cell = user_residence.assign(\n",
    "    user_acty, **{\n",
    "        k: v for k, v in assign_kwargs.items()\n",
    "        if k in ['nighttime_acty_th', 'all_acty_th', 'count_th']\n",
    "    }\n",
    ")"
   ]
  },
  {
   "cell_type": "code",
   "execution_count": 552,
   "metadata": {},
   "outputs": [
    {
     "data": {
      "text/html": [
       "<div>\n",
       "<style scoped>\n",
       "    .dataframe tbody tr th:only-of-type {\n",
       "        vertical-align: middle;\n",
       "    }\n",
       "\n",
       "    .dataframe tbody tr th {\n",
       "        vertical-align: top;\n",
       "    }\n",
       "\n",
       "    .dataframe thead th {\n",
       "        text-align: right;\n",
       "    }\n",
       "</style>\n",
       "<table border=\"1\" class=\"dataframe\">\n",
       "  <thead>\n",
       "    <tr style=\"text-align: right;\">\n",
       "      <th></th>\n",
       "      <th>msoa11cd</th>\n",
       "      <th>count</th>\n",
       "      <th>prop_user</th>\n",
       "      <th>prop_user_by_time</th>\n",
       "    </tr>\n",
       "    <tr>\n",
       "      <th>user_id</th>\n",
       "      <th></th>\n",
       "      <th></th>\n",
       "      <th></th>\n",
       "      <th></th>\n",
       "    </tr>\n",
       "  </thead>\n",
       "  <tbody>\n",
       "    <tr>\n",
       "      <th>db9d47de65f90dd247ff622b66f8021c514504bfe32a15d371c6e4f0d24405d6ce01345d0f0b25ef55562c123ba5900d3fea3fe2c4ca09a877b0eb437ff30df7</th>\n",
       "      <td>E02001570</td>\n",
       "      <td>3.0</td>\n",
       "      <td>0.375000</td>\n",
       "      <td>1.000000</td>\n",
       "    </tr>\n",
       "    <tr>\n",
       "      <th>bdfc5e64ecbb98541359065c88f33961ba2ac75d551b3abb2e4b9501bbbb4e9ca95e3c0fcd95a29e6bbf3ceb48156c0661b30331f96391820f0efeb9caaede02</th>\n",
       "      <td>E02000972</td>\n",
       "      <td>3.0</td>\n",
       "      <td>0.333333</td>\n",
       "      <td>0.600000</td>\n",
       "    </tr>\n",
       "    <tr>\n",
       "      <th>71f091f4c8e850df1302eccdd4c2954a5fd30198e7115a06c2622af34d687d1c7a433235b4b27deb8d12c5161ea4455e43bc79f3722e13093aa93271b094d757</th>\n",
       "      <td>E02002218</td>\n",
       "      <td>3.0</td>\n",
       "      <td>0.428571</td>\n",
       "      <td>0.600000</td>\n",
       "    </tr>\n",
       "    <tr>\n",
       "      <th>4f11afdbc9960728b66b1385af1689c3e1d14ad7a4b1d822ec7012356b89f317c7cb56fac4e9bea1f013eace9b8a58e109a2cd1ae7a9baacd38c2db04ec8a628</th>\n",
       "      <td>E02005269</td>\n",
       "      <td>3.0</td>\n",
       "      <td>0.272727</td>\n",
       "      <td>1.000000</td>\n",
       "    </tr>\n",
       "    <tr>\n",
       "      <th>71f3fa671bd0f2283dd809576718b61a0d84c79963e9acb562251e5d619c2c56dba5ae51eaa061d69f820d44602ebd387fb94f5ee2f67f5c16ea64654a09ddbe</th>\n",
       "      <td>E02000925</td>\n",
       "      <td>3.0</td>\n",
       "      <td>0.500000</td>\n",
       "      <td>1.000000</td>\n",
       "    </tr>\n",
       "    <tr>\n",
       "      <th>...</th>\n",
       "      <td>...</td>\n",
       "      <td>...</td>\n",
       "      <td>...</td>\n",
       "      <td>...</td>\n",
       "    </tr>\n",
       "    <tr>\n",
       "      <th>7d2b791ddbd8efad65dd860859432b17deadf669d878f878826eadfcd7a5db278ec28575ff19905350ed319a5ceb1faf0d9502a0314452465317aefd71157bc8</th>\n",
       "      <td>E02006931</td>\n",
       "      <td>10102.0</td>\n",
       "      <td>0.817182</td>\n",
       "      <td>0.984025</td>\n",
       "    </tr>\n",
       "    <tr>\n",
       "      <th>f78bc2d165c4e7567100cdf42b97e568895c7c0ab534ba3d25676fea63b33c2fac298b491f291353a96e8a7d3ce7e270f8befbe03f7d58556fed4903c893481b</th>\n",
       "      <td>E02003725</td>\n",
       "      <td>12124.0</td>\n",
       "      <td>0.410593</td>\n",
       "      <td>0.894628</td>\n",
       "    </tr>\n",
       "    <tr>\n",
       "      <th>58ab4683c11dcc2595c57b63100106615ff32caa3318f91f9a2248a8d96835ec0829956733f655df1a334d87f6ca251e0d5f10867ace1301aa5687d342299aa2</th>\n",
       "      <td>E02001333</td>\n",
       "      <td>22962.0</td>\n",
       "      <td>0.305476</td>\n",
       "      <td>0.537840</td>\n",
       "    </tr>\n",
       "    <tr>\n",
       "      <th>2ce5fb29d05b6b0997caae1b20cdde1c89706d1dc9ddbbcc72cb19088d6d239b778eaf7d3477e5311058053b902f0dd98e707f349cd6eb64b09805583089c7b7</th>\n",
       "      <td>E02005947</td>\n",
       "      <td>25424.0</td>\n",
       "      <td>0.710168</td>\n",
       "      <td>0.987493</td>\n",
       "    </tr>\n",
       "    <tr>\n",
       "      <th>3572839d31efb8aebcb9de6746df5d84808ae72e256ff93f0022405bc5826801f02adcd588dfea5315de163054d0ff0cb48f05dbcb65351c8d49965cb82f667b</th>\n",
       "      <td>E02000977</td>\n",
       "      <td>38688.0</td>\n",
       "      <td>0.256445</td>\n",
       "      <td>0.854643</td>\n",
       "    </tr>\n",
       "  </tbody>\n",
       "</table>\n",
       "<p>188675 rows × 4 columns</p>\n",
       "</div>"
      ],
      "text/plain": [
       "                                                     msoa11cd    count  \\\n",
       "user_id                                                                  \n",
       "db9d47de65f90dd247ff622b66f8021c514504bfe32a15d...  E02001570      3.0   \n",
       "bdfc5e64ecbb98541359065c88f33961ba2ac75d551b3ab...  E02000972      3.0   \n",
       "71f091f4c8e850df1302eccdd4c2954a5fd30198e7115a0...  E02002218      3.0   \n",
       "4f11afdbc9960728b66b1385af1689c3e1d14ad7a4b1d82...  E02005269      3.0   \n",
       "71f3fa671bd0f2283dd809576718b61a0d84c79963e9acb...  E02000925      3.0   \n",
       "...                                                       ...      ...   \n",
       "7d2b791ddbd8efad65dd860859432b17deadf669d878f87...  E02006931  10102.0   \n",
       "f78bc2d165c4e7567100cdf42b97e568895c7c0ab534ba3...  E02003725  12124.0   \n",
       "58ab4683c11dcc2595c57b63100106615ff32caa3318f91...  E02001333  22962.0   \n",
       "2ce5fb29d05b6b0997caae1b20cdde1c89706d1dc9ddbbc...  E02005947  25424.0   \n",
       "3572839d31efb8aebcb9de6746df5d84808ae72e256ff93...  E02000977  38688.0   \n",
       "\n",
       "                                                    prop_user  \\\n",
       "user_id                                                         \n",
       "db9d47de65f90dd247ff622b66f8021c514504bfe32a15d...   0.375000   \n",
       "bdfc5e64ecbb98541359065c88f33961ba2ac75d551b3ab...   0.333333   \n",
       "71f091f4c8e850df1302eccdd4c2954a5fd30198e7115a0...   0.428571   \n",
       "4f11afdbc9960728b66b1385af1689c3e1d14ad7a4b1d82...   0.272727   \n",
       "71f3fa671bd0f2283dd809576718b61a0d84c79963e9acb...   0.500000   \n",
       "...                                                       ...   \n",
       "7d2b791ddbd8efad65dd860859432b17deadf669d878f87...   0.817182   \n",
       "f78bc2d165c4e7567100cdf42b97e568895c7c0ab534ba3...   0.410593   \n",
       "58ab4683c11dcc2595c57b63100106615ff32caa3318f91...   0.305476   \n",
       "2ce5fb29d05b6b0997caae1b20cdde1c89706d1dc9ddbbc...   0.710168   \n",
       "3572839d31efb8aebcb9de6746df5d84808ae72e256ff93...   0.256445   \n",
       "\n",
       "                                                    prop_user_by_time  \n",
       "user_id                                                                \n",
       "db9d47de65f90dd247ff622b66f8021c514504bfe32a15d...           1.000000  \n",
       "bdfc5e64ecbb98541359065c88f33961ba2ac75d551b3ab...           0.600000  \n",
       "71f091f4c8e850df1302eccdd4c2954a5fd30198e7115a0...           0.600000  \n",
       "4f11afdbc9960728b66b1385af1689c3e1d14ad7a4b1d82...           1.000000  \n",
       "71f3fa671bd0f2283dd809576718b61a0d84c79963e9acb...           1.000000  \n",
       "...                                                               ...  \n",
       "7d2b791ddbd8efad65dd860859432b17deadf669d878f87...           0.984025  \n",
       "f78bc2d165c4e7567100cdf42b97e568895c7c0ab534ba3...           0.894628  \n",
       "58ab4683c11dcc2595c57b63100106615ff32caa3318f91...           0.537840  \n",
       "2ce5fb29d05b6b0997caae1b20cdde1c89706d1dc9ddbbc...           0.987493  \n",
       "3572839d31efb8aebcb9de6746df5d84808ae72e256ff93...           0.854643  \n",
       "\n",
       "[188675 rows x 4 columns]"
      ]
     },
     "execution_count": 552,
     "metadata": {},
     "output_type": "execute_result"
    }
   ],
   "source": [
    "user_residence_cell"
   ]
  },
  {
   "cell_type": "code",
   "execution_count": 553,
   "metadata": {},
   "outputs": [
    {
     "data": {
      "text/plain": [
       "<AxesSubplot:ylabel='Count'>"
      ]
     },
     "execution_count": 553,
     "metadata": {},
     "output_type": "execute_result"
    },
    {
     "data": {
      "image/png": "[encoded data removed]",
      "text/plain": [
       "<Figure size 432x288 with 1 Axes>"
      ]
     },
     "metadata": {
      "needs_background": "light"
     },
     "output_type": "display_data"
    }
   ],
   "source": [
    "nr_users_per_cell = user_residence_cell.groupby('msoa11cd').size()\n",
    "sns.histplot(nr_users_per_cell, log_scale=True)\n",
    "# user_residence_cell.groupby('cell_id').size().plot(kind='hist')"
   ]
  },
  {
   "cell_type": "code",
   "execution_count": 556,
   "metadata": {},
   "outputs": [],
   "source": [
    "user_residence_cell.to_parquet(\n",
    "    str(lang.paths.user_residence_cell).format(cc=cc, res_cell_size=res_cell_size)\n",
    ")"
   ]
  },
  {
   "cell_type": "markdown",
   "metadata": {},
   "source": [
    "### PB"
   ]
  },
  {
   "cell_type": "code",
   "execution_count": 11,
   "metadata": {},
   "outputs": [
    {
     "data": {
      "text/html": [
       "<div>\n",
       "<style scoped>\n",
       "    .dataframe tbody tr th:only-of-type {\n",
       "        vertical-align: middle;\n",
       "    }\n",
       "\n",
       "    .dataframe tbody tr th {\n",
       "        vertical-align: top;\n",
       "    }\n",
       "\n",
       "    .dataframe thead th {\n",
       "        text-align: right;\n",
       "    }\n",
       "</style>\n",
       "<table border=\"1\" class=\"dataframe\">\n",
       "  <thead>\n",
       "    <tr style=\"text-align: right;\">\n",
       "      <th></th>\n",
       "      <th>cell_id</th>\n",
       "      <th>count</th>\n",
       "      <th>prop_user</th>\n",
       "      <th>prop_user_by_time</th>\n",
       "    </tr>\n",
       "    <tr>\n",
       "      <th>user_id</th>\n",
       "      <th></th>\n",
       "      <th></th>\n",
       "      <th></th>\n",
       "      <th></th>\n",
       "    </tr>\n",
       "  </thead>\n",
       "  <tbody>\n",
       "    <tr>\n",
       "      <th>db9d47de65f90dd247ff622b66f8021c514504bfe32a15d371c6e4f0d24405d6ce01345d0f0b25ef55562c123ba5900d3fea3fe2c4ca09a877b0eb437ff30df7</th>\n",
       "      <td>E02001570</td>\n",
       "      <td>3.0</td>\n",
       "      <td>0.375000</td>\n",
       "      <td>1.000000</td>\n",
       "    </tr>\n",
       "    <tr>\n",
       "      <th>bdfc5e64ecbb98541359065c88f33961ba2ac75d551b3abb2e4b9501bbbb4e9ca95e3c0fcd95a29e6bbf3ceb48156c0661b30331f96391820f0efeb9caaede02</th>\n",
       "      <td>E02000972</td>\n",
       "      <td>3.0</td>\n",
       "      <td>0.333333</td>\n",
       "      <td>0.600000</td>\n",
       "    </tr>\n",
       "    <tr>\n",
       "      <th>71f091f4c8e850df1302eccdd4c2954a5fd30198e7115a06c2622af34d687d1c7a433235b4b27deb8d12c5161ea4455e43bc79f3722e13093aa93271b094d757</th>\n",
       "      <td>E02002218</td>\n",
       "      <td>3.0</td>\n",
       "      <td>0.428571</td>\n",
       "      <td>0.600000</td>\n",
       "    </tr>\n",
       "    <tr>\n",
       "      <th>4f11afdbc9960728b66b1385af1689c3e1d14ad7a4b1d822ec7012356b89f317c7cb56fac4e9bea1f013eace9b8a58e109a2cd1ae7a9baacd38c2db04ec8a628</th>\n",
       "      <td>E02005269</td>\n",
       "      <td>3.0</td>\n",
       "      <td>0.272727</td>\n",
       "      <td>1.000000</td>\n",
       "    </tr>\n",
       "    <tr>\n",
       "      <th>71f3fa671bd0f2283dd809576718b61a0d84c79963e9acb562251e5d619c2c56dba5ae51eaa061d69f820d44602ebd387fb94f5ee2f67f5c16ea64654a09ddbe</th>\n",
       "      <td>E02000925</td>\n",
       "      <td>3.0</td>\n",
       "      <td>0.500000</td>\n",
       "      <td>1.000000</td>\n",
       "    </tr>\n",
       "    <tr>\n",
       "      <th>...</th>\n",
       "      <td>...</td>\n",
       "      <td>...</td>\n",
       "      <td>...</td>\n",
       "      <td>...</td>\n",
       "    </tr>\n",
       "    <tr>\n",
       "      <th>7d2b791ddbd8efad65dd860859432b17deadf669d878f878826eadfcd7a5db278ec28575ff19905350ed319a5ceb1faf0d9502a0314452465317aefd71157bc8</th>\n",
       "      <td>E02006931</td>\n",
       "      <td>10102.0</td>\n",
       "      <td>0.817182</td>\n",
       "      <td>0.984025</td>\n",
       "    </tr>\n",
       "    <tr>\n",
       "      <th>f78bc2d165c4e7567100cdf42b97e568895c7c0ab534ba3d25676fea63b33c2fac298b491f291353a96e8a7d3ce7e270f8befbe03f7d58556fed4903c893481b</th>\n",
       "      <td>E02003725</td>\n",
       "      <td>12124.0</td>\n",
       "      <td>0.410593</td>\n",
       "      <td>0.894628</td>\n",
       "    </tr>\n",
       "    <tr>\n",
       "      <th>58ab4683c11dcc2595c57b63100106615ff32caa3318f91f9a2248a8d96835ec0829956733f655df1a334d87f6ca251e0d5f10867ace1301aa5687d342299aa2</th>\n",
       "      <td>E02001333</td>\n",
       "      <td>22962.0</td>\n",
       "      <td>0.305476</td>\n",
       "      <td>0.537840</td>\n",
       "    </tr>\n",
       "    <tr>\n",
       "      <th>2ce5fb29d05b6b0997caae1b20cdde1c89706d1dc9ddbbcc72cb19088d6d239b778eaf7d3477e5311058053b902f0dd98e707f349cd6eb64b09805583089c7b7</th>\n",
       "      <td>E02005947</td>\n",
       "      <td>25424.0</td>\n",
       "      <td>0.710168</td>\n",
       "      <td>0.987493</td>\n",
       "    </tr>\n",
       "    <tr>\n",
       "      <th>3572839d31efb8aebcb9de6746df5d84808ae72e256ff93f0022405bc5826801f02adcd588dfea5315de163054d0ff0cb48f05dbcb65351c8d49965cb82f667b</th>\n",
       "      <td>E02000977</td>\n",
       "      <td>38688.0</td>\n",
       "      <td>0.256445</td>\n",
       "      <td>0.854643</td>\n",
       "    </tr>\n",
       "  </tbody>\n",
       "</table>\n",
       "<p>188675 rows × 4 columns</p>\n",
       "</div>"
      ],
      "text/plain": [
       "                                                      cell_id    count  \\\n",
       "user_id                                                                  \n",
       "db9d47de65f90dd247ff622b66f8021c514504bfe32a15d...  E02001570      3.0   \n",
       "bdfc5e64ecbb98541359065c88f33961ba2ac75d551b3ab...  E02000972      3.0   \n",
       "71f091f4c8e850df1302eccdd4c2954a5fd30198e7115a0...  E02002218      3.0   \n",
       "4f11afdbc9960728b66b1385af1689c3e1d14ad7a4b1d82...  E02005269      3.0   \n",
       "71f3fa671bd0f2283dd809576718b61a0d84c79963e9acb...  E02000925      3.0   \n",
       "...                                                       ...      ...   \n",
       "7d2b791ddbd8efad65dd860859432b17deadf669d878f87...  E02006931  10102.0   \n",
       "f78bc2d165c4e7567100cdf42b97e568895c7c0ab534ba3...  E02003725  12124.0   \n",
       "58ab4683c11dcc2595c57b63100106615ff32caa3318f91...  E02001333  22962.0   \n",
       "2ce5fb29d05b6b0997caae1b20cdde1c89706d1dc9ddbbc...  E02005947  25424.0   \n",
       "3572839d31efb8aebcb9de6746df5d84808ae72e256ff93...  E02000977  38688.0   \n",
       "\n",
       "                                                    prop_user  \\\n",
       "user_id                                                         \n",
       "db9d47de65f90dd247ff622b66f8021c514504bfe32a15d...   0.375000   \n",
       "bdfc5e64ecbb98541359065c88f33961ba2ac75d551b3ab...   0.333333   \n",
       "71f091f4c8e850df1302eccdd4c2954a5fd30198e7115a0...   0.428571   \n",
       "4f11afdbc9960728b66b1385af1689c3e1d14ad7a4b1d82...   0.272727   \n",
       "71f3fa671bd0f2283dd809576718b61a0d84c79963e9acb...   0.500000   \n",
       "...                                                       ...   \n",
       "7d2b791ddbd8efad65dd860859432b17deadf669d878f87...   0.817182   \n",
       "f78bc2d165c4e7567100cdf42b97e568895c7c0ab534ba3...   0.410593   \n",
       "58ab4683c11dcc2595c57b63100106615ff32caa3318f91...   0.305476   \n",
       "2ce5fb29d05b6b0997caae1b20cdde1c89706d1dc9ddbbc...   0.710168   \n",
       "3572839d31efb8aebcb9de6746df5d84808ae72e256ff93...   0.256445   \n",
       "\n",
       "                                                    prop_user_by_time  \n",
       "user_id                                                                \n",
       "db9d47de65f90dd247ff622b66f8021c514504bfe32a15d...           1.000000  \n",
       "bdfc5e64ecbb98541359065c88f33961ba2ac75d551b3ab...           0.600000  \n",
       "71f091f4c8e850df1302eccdd4c2954a5fd30198e7115a0...           0.600000  \n",
       "4f11afdbc9960728b66b1385af1689c3e1d14ad7a4b1d82...           1.000000  \n",
       "71f3fa671bd0f2283dd809576718b61a0d84c79963e9acb...           1.000000  \n",
       "...                                                               ...  \n",
       "7d2b791ddbd8efad65dd860859432b17deadf669d878f87...           0.984025  \n",
       "f78bc2d165c4e7567100cdf42b97e568895c7c0ab534ba3...           0.894628  \n",
       "58ab4683c11dcc2595c57b63100106615ff32caa3318f91...           0.537840  \n",
       "2ce5fb29d05b6b0997caae1b20cdde1c89706d1dc9ddbbc...           0.987493  \n",
       "3572839d31efb8aebcb9de6746df5d84808ae72e256ff93...           0.854643  \n",
       "\n",
       "[188675 rows x 4 columns]"
      ]
     },
     "execution_count": 11,
     "metadata": {},
     "output_type": "execute_result"
    }
   ],
   "source": [
    "lang.user_residence_cell"
   ]
  },
  {
   "cell_type": "code",
   "execution_count": 12,
   "metadata": {},
   "outputs": [
    {
     "data": {
      "text/html": [
       "<div>\n",
       "<style scoped>\n",
       "    .dataframe tbody tr th:only-of-type {\n",
       "        vertical-align: middle;\n",
       "    }\n",
       "\n",
       "    .dataframe tbody tr th {\n",
       "        vertical-align: top;\n",
       "    }\n",
       "\n",
       "    .dataframe thead th {\n",
       "        text-align: right;\n",
       "    }\n",
       "</style>\n",
       "<table border=\"1\" class=\"dataframe\">\n",
       "  <thead>\n",
       "    <tr style=\"text-align: right;\">\n",
       "      <th></th>\n",
       "      <th>nr_tweets</th>\n",
       "      <th>nr_words</th>\n",
       "      <th>nr_unique_words</th>\n",
       "      <th>cell_id</th>\n",
       "    </tr>\n",
       "    <tr>\n",
       "      <th>user_id</th>\n",
       "      <th></th>\n",
       "      <th></th>\n",
       "      <th></th>\n",
       "      <th></th>\n",
       "    </tr>\n",
       "  </thead>\n",
       "  <tbody>\n",
       "    <tr>\n",
       "      <th>00030426231cf2773a81f9897ecbeb951cd2ee7bf2d0118694cf5292edee1720902aed6e5a30783b25d75b7171b376cb81750aef025074226c6d0211a6fb6a9f</th>\n",
       "      <td>64</td>\n",
       "      <td>2507</td>\n",
       "      <td>731</td>\n",
       "      <td>NaN</td>\n",
       "    </tr>\n",
       "    <tr>\n",
       "      <th>0007831e4682dde226017fbf5d97c58c537a05fd1b55bf0ca4382c3866bdecc18591c37aba8f0b40ccf4899473deb37da34e85ac3cc41e2875fa6660d0fbb955</th>\n",
       "      <td>124</td>\n",
       "      <td>1683</td>\n",
       "      <td>715</td>\n",
       "      <td>E02001640</td>\n",
       "    </tr>\n",
       "    <tr>\n",
       "      <th>000faaaa6e11d566321800c3187781f6651521366dc43312f992b2a145a9e86447232fbb1e3c4f0e76e5ddc3f3f9000715ce6ae3f3c5e2a221c676faa28a85ec</th>\n",
       "      <td>37</td>\n",
       "      <td>445</td>\n",
       "      <td>258</td>\n",
       "      <td>E02005173</td>\n",
       "    </tr>\n",
       "    <tr>\n",
       "      <th>001b4e7bcb4f4980e67d738ef38fe5b63f759e8cdb9938c4ac06354bb37d5f1dfe0e31e522a026e6ba70c2e4a5806b6d4cba9292d472cc6d792c68d9bf72a43c</th>\n",
       "      <td>100</td>\n",
       "      <td>1001</td>\n",
       "      <td>453</td>\n",
       "      <td>NaN</td>\n",
       "    </tr>\n",
       "    <tr>\n",
       "      <th>001e74edd2ca43f22a6a936eb5315f06bc62a3fcaa1ebd40a06fe05edc6f6687081134f00ba779a51c05e8379cd51c8e802d7bbd53cbaf3b864f9a16a50dc5ae</th>\n",
       "      <td>43</td>\n",
       "      <td>400</td>\n",
       "      <td>233</td>\n",
       "      <td>NaN</td>\n",
       "    </tr>\n",
       "    <tr>\n",
       "      <th>...</th>\n",
       "      <td>...</td>\n",
       "      <td>...</td>\n",
       "      <td>...</td>\n",
       "      <td>...</td>\n",
       "    </tr>\n",
       "    <tr>\n",
       "      <th>ffe722f61fb277a9d093e4d3dbb4a693a8ae00fecd53527731d7d2394014876ba1e502071758a84444d85ced53aefd469188d6059d06eaac886975cacba11eb9</th>\n",
       "      <td>15</td>\n",
       "      <td>250</td>\n",
       "      <td>152</td>\n",
       "      <td>E02002692</td>\n",
       "    </tr>\n",
       "    <tr>\n",
       "      <th>ffe7d66852963f810b6bc8c4734daaaecf104f44b7356fdeac46725cc69f384a4cb1ab06c3e42e32969f2cf934ba7889a8a0afde81c5fce198ce85aeeb87b3c0</th>\n",
       "      <td>117</td>\n",
       "      <td>3146</td>\n",
       "      <td>1109</td>\n",
       "      <td>NaN</td>\n",
       "    </tr>\n",
       "    <tr>\n",
       "      <th>fff709781e95eb991005d304656fea10dbeee0e6f325650b22507aba47965554b37c6ce97b61b3980147ed4be5a58e071da0cd7e02e5c443f5a7a64679d592cf</th>\n",
       "      <td>37</td>\n",
       "      <td>277</td>\n",
       "      <td>167</td>\n",
       "      <td>E02006003</td>\n",
       "    </tr>\n",
       "    <tr>\n",
       "      <th>fffba2d3bc65269d5ab57798e3f0b40aa069dd031ad50204af41d5d80ae36110906e7269ba60d19b2a23227bd381e394688a071c8ed7c4388f33e7af1100a2cf</th>\n",
       "      <td>327</td>\n",
       "      <td>6844</td>\n",
       "      <td>1912</td>\n",
       "      <td>NaN</td>\n",
       "    </tr>\n",
       "    <tr>\n",
       "      <th>fffca8d6535d456b6ef84d48234cebb26ab093977bb080cb514cc6575db4c3bbcb84a2167253f53259ee235d6d7ab9620c24ca8ea72fc4bdb33473902e1cb32f</th>\n",
       "      <td>594</td>\n",
       "      <td>11600</td>\n",
       "      <td>2637</td>\n",
       "      <td>E02005156</td>\n",
       "    </tr>\n",
       "  </tbody>\n",
       "</table>\n",
       "<p>358334 rows × 4 columns</p>\n",
       "</div>"
      ],
      "text/plain": [
       "                                                    nr_tweets  nr_words  \\\n",
       "user_id                                                                   \n",
       "00030426231cf2773a81f9897ecbeb951cd2ee7bf2d0118...         64      2507   \n",
       "0007831e4682dde226017fbf5d97c58c537a05fd1b55bf0...        124      1683   \n",
       "000faaaa6e11d566321800c3187781f6651521366dc4331...         37       445   \n",
       "001b4e7bcb4f4980e67d738ef38fe5b63f759e8cdb9938c...        100      1001   \n",
       "001e74edd2ca43f22a6a936eb5315f06bc62a3fcaa1ebd4...         43       400   \n",
       "...                                                       ...       ...   \n",
       "ffe722f61fb277a9d093e4d3dbb4a693a8ae00fecd53527...         15       250   \n",
       "ffe7d66852963f810b6bc8c4734daaaecf104f44b7356fd...        117      3146   \n",
       "fff709781e95eb991005d304656fea10dbeee0e6f325650...         37       277   \n",
       "fffba2d3bc65269d5ab57798e3f0b40aa069dd031ad5020...        327      6844   \n",
       "fffca8d6535d456b6ef84d48234cebb26ab093977bb080c...        594     11600   \n",
       "\n",
       "                                                    nr_unique_words    cell_id  \n",
       "user_id                                                                         \n",
       "00030426231cf2773a81f9897ecbeb951cd2ee7bf2d0118...              731        NaN  \n",
       "0007831e4682dde226017fbf5d97c58c537a05fd1b55bf0...              715  E02001640  \n",
       "000faaaa6e11d566321800c3187781f6651521366dc4331...              258  E02005173  \n",
       "001b4e7bcb4f4980e67d738ef38fe5b63f759e8cdb9938c...              453        NaN  \n",
       "001e74edd2ca43f22a6a936eb5315f06bc62a3fcaa1ebd4...              233        NaN  \n",
       "...                                                             ...        ...  \n",
       "ffe722f61fb277a9d093e4d3dbb4a693a8ae00fecd53527...              152  E02002692  \n",
       "ffe7d66852963f810b6bc8c4734daaaecf104f44b7356fd...             1109        NaN  \n",
       "fff709781e95eb991005d304656fea10dbeee0e6f325650...              167  E02006003  \n",
       "fffba2d3bc65269d5ab57798e3f0b40aa069dd031ad5020...             1912        NaN  \n",
       "fffca8d6535d456b6ef84d48234cebb26ab093977bb080c...             2637  E02005156  \n",
       "\n",
       "[358334 rows x 4 columns]"
      ]
     },
     "execution_count": 12,
     "metadata": {},
     "output_type": "execute_result"
    }
   ],
   "source": [
    "lang.user_df"
   ]
  },
  {
   "cell_type": "code",
   "execution_count": 14,
   "metadata": {},
   "outputs": [
    {
     "data": {
      "text/html": [
       "<div>\n",
       "<style scoped>\n",
       "    .dataframe tbody tr th:only-of-type {\n",
       "        vertical-align: middle;\n",
       "    }\n",
       "\n",
       "    .dataframe tbody tr th {\n",
       "        vertical-align: top;\n",
       "    }\n",
       "\n",
       "    .dataframe thead th {\n",
       "        text-align: right;\n",
       "    }\n",
       "</style>\n",
       "<table border=\"1\" class=\"dataframe\">\n",
       "  <thead>\n",
       "    <tr style=\"text-align: right;\">\n",
       "      <th></th>\n",
       "      <th>objectid</th>\n",
       "      <th>msoa11nm</th>\n",
       "      <th>msoa11nmw</th>\n",
       "      <th>bng_e</th>\n",
       "      <th>bng_n</th>\n",
       "      <th>long</th>\n",
       "      <th>lat</th>\n",
       "      <th>shape__are</th>\n",
       "      <th>shape__len</th>\n",
       "      <th>geometry</th>\n",
       "    </tr>\n",
       "    <tr>\n",
       "      <th>cell_id</th>\n",
       "      <th></th>\n",
       "      <th></th>\n",
       "      <th></th>\n",
       "      <th></th>\n",
       "      <th></th>\n",
       "      <th></th>\n",
       "      <th></th>\n",
       "      <th></th>\n",
       "      <th></th>\n",
       "      <th></th>\n",
       "    </tr>\n",
       "  </thead>\n",
       "  <tbody>\n",
       "    <tr>\n",
       "      <th>E02000977</th>\n",
       "      <td>945</td>\n",
       "      <td>Westminster 018</td>\n",
       "      <td>Westminster 018</td>\n",
       "      <td>529421</td>\n",
       "      <td>180359</td>\n",
       "      <td>-0.13653</td>\n",
       "      <td>51.50735</td>\n",
       "      <td>2.516826e+06</td>\n",
       "      <td>12588.286983</td>\n",
       "      <td>POLYGON ((530914.188 181358.203, 530977.999 18...</td>\n",
       "    </tr>\n",
       "    <tr>\n",
       "      <th>E02000972</th>\n",
       "      <td>940</td>\n",
       "      <td>Westminster 013</td>\n",
       "      <td>Westminster 013</td>\n",
       "      <td>529173</td>\n",
       "      <td>181212</td>\n",
       "      <td>-0.13979</td>\n",
       "      <td>51.51507</td>\n",
       "      <td>1.289098e+06</td>\n",
       "      <td>7329.153863</td>\n",
       "      <td>POLYGON ((528896.688 182258.641, 528891.032 18...</td>\n",
       "    </tr>\n",
       "    <tr>\n",
       "      <th>E02001731</th>\n",
       "      <td>1684</td>\n",
       "      <td>Newcastle upon Tyne 024</td>\n",
       "      <td>Newcastle upon Tyne 024</td>\n",
       "      <td>424156</td>\n",
       "      <td>565269</td>\n",
       "      <td>-1.62410</td>\n",
       "      <td>54.98144</td>\n",
       "      <td>5.023788e+06</td>\n",
       "      <td>14237.030493</td>\n",
       "      <td>POLYGON ((424812.864 565914.126, 424852.910 56...</td>\n",
       "    </tr>\n",
       "    <tr>\n",
       "      <th>E02006875</th>\n",
       "      <td>6733</td>\n",
       "      <td>Leeds 111</td>\n",
       "      <td>Leeds 111</td>\n",
       "      <td>429871</td>\n",
       "      <td>433257</td>\n",
       "      <td>-1.54802</td>\n",
       "      <td>53.79478</td>\n",
       "      <td>2.518752e+06</td>\n",
       "      <td>8806.723275</td>\n",
       "      <td>POLYGON ((431109.484 433569.999, 430977.276 43...</td>\n",
       "    </tr>\n",
       "    <tr>\n",
       "      <th>W02000398</th>\n",
       "      <td>7177</td>\n",
       "      <td>Cardiff 032</td>\n",
       "      <td>Caerdydd 032</td>\n",
       "      <td>317962</td>\n",
       "      <td>176840</td>\n",
       "      <td>-3.18287</td>\n",
       "      <td>51.48454</td>\n",
       "      <td>2.369429e+06</td>\n",
       "      <td>7454.348107</td>\n",
       "      <td>POLYGON ((317387.013 178090.733, 317535.644 17...</td>\n",
       "    </tr>\n",
       "  </tbody>\n",
       "</table>\n",
       "</div>"
      ],
      "text/plain": [
       "           objectid                 msoa11nm                msoa11nmw   bng_e  \\\n",
       "cell_id                                                                         \n",
       "E02000977       945          Westminster 018          Westminster 018  529421   \n",
       "E02000972       940          Westminster 013          Westminster 013  529173   \n",
       "E02001731      1684  Newcastle upon Tyne 024  Newcastle upon Tyne 024  424156   \n",
       "E02006875      6733                Leeds 111                Leeds 111  429871   \n",
       "W02000398      7177              Cardiff 032             Caerdydd 032  317962   \n",
       "\n",
       "            bng_n     long       lat    shape__are    shape__len  \\\n",
       "cell_id                                                            \n",
       "E02000977  180359 -0.13653  51.50735  2.516826e+06  12588.286983   \n",
       "E02000972  181212 -0.13979  51.51507  1.289098e+06   7329.153863   \n",
       "E02001731  565269 -1.62410  54.98144  5.023788e+06  14237.030493   \n",
       "E02006875  433257 -1.54802  53.79478  2.518752e+06   8806.723275   \n",
       "W02000398  176840 -3.18287  51.48454  2.369429e+06   7454.348107   \n",
       "\n",
       "                                                    geometry  \n",
       "cell_id                                                       \n",
       "E02000977  POLYGON ((530914.188 181358.203, 530977.999 18...  \n",
       "E02000972  POLYGON ((528896.688 182258.641, 528891.032 18...  \n",
       "E02001731  POLYGON ((424812.864 565914.126, 424852.910 56...  \n",
       "E02006875  POLYGON ((431109.484 433569.999, 430977.276 43...  \n",
       "W02000398  POLYGON ((317387.013 178090.733, 317535.644 17...  "
      ]
     },
     "execution_count": 14,
     "metadata": {},
     "output_type": "execute_result"
    }
   ],
   "source": [
    "cells_nr_users_ordered = lang.cells_users_df['nr_users'].sort_values(ascending=False).index\n",
    "lang.cells_geodf.loc[cells_nr_users_ordered].head()"
   ]
  },
  {
   "cell_type": "code",
   "execution_count": 15,
   "metadata": {},
   "outputs": [
    {
     "data": {
      "text/html": [
       "<div>\n",
       "<style scoped>\n",
       "    .dataframe tbody tr th:only-of-type {\n",
       "        vertical-align: middle;\n",
       "    }\n",
       "\n",
       "    .dataframe tbody tr th {\n",
       "        vertical-align: top;\n",
       "    }\n",
       "\n",
       "    .dataframe thead th {\n",
       "        text-align: right;\n",
       "    }\n",
       "</style>\n",
       "<table border=\"1\" class=\"dataframe\">\n",
       "  <thead>\n",
       "    <tr style=\"text-align: right;\">\n",
       "      <th></th>\n",
       "      <th>cell_id</th>\n",
       "      <th>count</th>\n",
       "      <th>prop_user</th>\n",
       "      <th>prop_user_by_time</th>\n",
       "    </tr>\n",
       "    <tr>\n",
       "      <th>user_id</th>\n",
       "      <th></th>\n",
       "      <th></th>\n",
       "      <th></th>\n",
       "      <th></th>\n",
       "    </tr>\n",
       "  </thead>\n",
       "  <tbody>\n",
       "    <tr>\n",
       "      <th>ee57795e9feeab6397314fd926cef0d3029946e00875eafe201aaa686f0162f48a66982853cc5423eb0dbef5611c1a0bf8babdc9630545451a3543c52a68b61e</th>\n",
       "      <td>E02000977</td>\n",
       "      <td>3.0</td>\n",
       "      <td>0.300000</td>\n",
       "      <td>0.600000</td>\n",
       "    </tr>\n",
       "    <tr>\n",
       "      <th>728e8343220763b01dd664932f6ca6d738d3ee3524c04558a453e24bfadd3beb8927fb95dcc66d6d0f9ad48d7f0221b5fc2d086230478f1ed8c58aec944a1d07</th>\n",
       "      <td>E02000977</td>\n",
       "      <td>3.0</td>\n",
       "      <td>0.600000</td>\n",
       "      <td>1.000000</td>\n",
       "    </tr>\n",
       "    <tr>\n",
       "      <th>eeabadd389139f3991425de1a4ba0116ce4d370e4ef715ba3e2505d5a774c579e842aaaa183b65f768f7424a8a7029abc05a2fc2f02a5d090c36a37748cd54a0</th>\n",
       "      <td>E02000977</td>\n",
       "      <td>3.0</td>\n",
       "      <td>0.600000</td>\n",
       "      <td>1.000000</td>\n",
       "    </tr>\n",
       "    <tr>\n",
       "      <th>e17ed74e40e4a608f929ab8e84a01c5aa5dd6faf4a1912f6562e5397192a13a41666fb3d12a3312b37e7ec3e8a30fafa89c23265ed945e7472aaaa2da3964c52</th>\n",
       "      <td>E02000977</td>\n",
       "      <td>3.0</td>\n",
       "      <td>0.136364</td>\n",
       "      <td>0.600000</td>\n",
       "    </tr>\n",
       "    <tr>\n",
       "      <th>eebd8b3f238ae28148dde5f5dda73c0fefb11de3d1a484f434c84b4ba4b2115bf968114e80fc7409823cb677ae43306445398ae7f2a983671b4b2d61e8cb3e9a</th>\n",
       "      <td>E02000977</td>\n",
       "      <td>3.0</td>\n",
       "      <td>0.500000</td>\n",
       "      <td>0.750000</td>\n",
       "    </tr>\n",
       "    <tr>\n",
       "      <th>...</th>\n",
       "      <td>...</td>\n",
       "      <td>...</td>\n",
       "      <td>...</td>\n",
       "      <td>...</td>\n",
       "    </tr>\n",
       "    <tr>\n",
       "      <th>a5bf6785927329cd6f751544ce846b89fe9142f65a4c9a776b05faed81797b6e0840486d77ebbbbd0321309ad07df218543dfbd8326e0d505455a06a4d7a682f</th>\n",
       "      <td>E02000977</td>\n",
       "      <td>652.0</td>\n",
       "      <td>0.571930</td>\n",
       "      <td>0.672165</td>\n",
       "    </tr>\n",
       "    <tr>\n",
       "      <th>ae3a951fab4619785dfbee0ad3412fad81811261507c12045fe0b86bb4264c1dc723a66ece1ef194295d810bcd900e91649d500a1014da016ece804074755bfd</th>\n",
       "      <td>E02000977</td>\n",
       "      <td>667.0</td>\n",
       "      <td>0.595536</td>\n",
       "      <td>0.736203</td>\n",
       "    </tr>\n",
       "    <tr>\n",
       "      <th>33b3287048e221576a43e3d0bbcf15335236da80dfa9f0892a54bc72b3065bca90bee22b992f59907083bb8ba0f00ef4c631b5f2f2a5920c0861f2149e9725cb</th>\n",
       "      <td>E02000977</td>\n",
       "      <td>987.0</td>\n",
       "      <td>0.695070</td>\n",
       "      <td>0.756322</td>\n",
       "    </tr>\n",
       "    <tr>\n",
       "      <th>742744c3d28e4857ee7d3672ee122b49460dd46e4d52e83703dffdffad9535808a5ce9969e2c88553020897f72624149bf43e81dedb379744082acae20d64706</th>\n",
       "      <td>E02000977</td>\n",
       "      <td>1266.0</td>\n",
       "      <td>0.198246</td>\n",
       "      <td>0.843438</td>\n",
       "    </tr>\n",
       "    <tr>\n",
       "      <th>3572839d31efb8aebcb9de6746df5d84808ae72e256ff93f0022405bc5826801f02adcd588dfea5315de163054d0ff0cb48f05dbcb65351c8d49965cb82f667b</th>\n",
       "      <td>E02000977</td>\n",
       "      <td>38688.0</td>\n",
       "      <td>0.256445</td>\n",
       "      <td>0.854643</td>\n",
       "    </tr>\n",
       "  </tbody>\n",
       "</table>\n",
       "<p>1378 rows × 4 columns</p>\n",
       "</div>"
      ],
      "text/plain": [
       "                                                      cell_id    count  \\\n",
       "user_id                                                                  \n",
       "ee57795e9feeab6397314fd926cef0d3029946e00875eaf...  E02000977      3.0   \n",
       "728e8343220763b01dd664932f6ca6d738d3ee3524c0455...  E02000977      3.0   \n",
       "eeabadd389139f3991425de1a4ba0116ce4d370e4ef715b...  E02000977      3.0   \n",
       "e17ed74e40e4a608f929ab8e84a01c5aa5dd6faf4a1912f...  E02000977      3.0   \n",
       "eebd8b3f238ae28148dde5f5dda73c0fefb11de3d1a484f...  E02000977      3.0   \n",
       "...                                                       ...      ...   \n",
       "a5bf6785927329cd6f751544ce846b89fe9142f65a4c9a7...  E02000977    652.0   \n",
       "ae3a951fab4619785dfbee0ad3412fad81811261507c120...  E02000977    667.0   \n",
       "33b3287048e221576a43e3d0bbcf15335236da80dfa9f08...  E02000977    987.0   \n",
       "742744c3d28e4857ee7d3672ee122b49460dd46e4d52e83...  E02000977   1266.0   \n",
       "3572839d31efb8aebcb9de6746df5d84808ae72e256ff93...  E02000977  38688.0   \n",
       "\n",
       "                                                    prop_user  \\\n",
       "user_id                                                         \n",
       "ee57795e9feeab6397314fd926cef0d3029946e00875eaf...   0.300000   \n",
       "728e8343220763b01dd664932f6ca6d738d3ee3524c0455...   0.600000   \n",
       "eeabadd389139f3991425de1a4ba0116ce4d370e4ef715b...   0.600000   \n",
       "e17ed74e40e4a608f929ab8e84a01c5aa5dd6faf4a1912f...   0.136364   \n",
       "eebd8b3f238ae28148dde5f5dda73c0fefb11de3d1a484f...   0.500000   \n",
       "...                                                       ...   \n",
       "a5bf6785927329cd6f751544ce846b89fe9142f65a4c9a7...   0.571930   \n",
       "ae3a951fab4619785dfbee0ad3412fad81811261507c120...   0.595536   \n",
       "33b3287048e221576a43e3d0bbcf15335236da80dfa9f08...   0.695070   \n",
       "742744c3d28e4857ee7d3672ee122b49460dd46e4d52e83...   0.198246   \n",
       "3572839d31efb8aebcb9de6746df5d84808ae72e256ff93...   0.256445   \n",
       "\n",
       "                                                    prop_user_by_time  \n",
       "user_id                                                                \n",
       "ee57795e9feeab6397314fd926cef0d3029946e00875eaf...           0.600000  \n",
       "728e8343220763b01dd664932f6ca6d738d3ee3524c0455...           1.000000  \n",
       "eeabadd389139f3991425de1a4ba0116ce4d370e4ef715b...           1.000000  \n",
       "e17ed74e40e4a608f929ab8e84a01c5aa5dd6faf4a1912f...           0.600000  \n",
       "eebd8b3f238ae28148dde5f5dda73c0fefb11de3d1a484f...           0.750000  \n",
       "...                                                               ...  \n",
       "a5bf6785927329cd6f751544ce846b89fe9142f65a4c9a7...           0.672165  \n",
       "ae3a951fab4619785dfbee0ad3412fad81811261507c120...           0.736203  \n",
       "33b3287048e221576a43e3d0bbcf15335236da80dfa9f08...           0.756322  \n",
       "742744c3d28e4857ee7d3672ee122b49460dd46e4d52e83...           0.843438  \n",
       "3572839d31efb8aebcb9de6746df5d84808ae72e256ff93...           0.854643  \n",
       "\n",
       "[1378 rows x 4 columns]"
      ]
     },
     "execution_count": 15,
     "metadata": {},
     "output_type": "execute_result"
    }
   ],
   "source": [
    "pb_cell = cells_nr_users_ordered[0] # from lang.cells_users_df\n",
    "# pb_cell = nr_users_per_cell.idxmax() # from new residence cell\n",
    "lang.user_residence_cell.loc[lang.user_residence_cell['cell_id'] == pb_cell]"
   ]
  },
  {
   "cell_type": "code",
   "execution_count": 16,
   "metadata": {},
   "outputs": [],
   "source": [
    "pb_users = lang.user_residence_cell.loc[lang.user_residence_cell['cell_id'] == pb_cell].index"
   ]
  },
  {
   "cell_type": "markdown",
   "metadata": {},
   "source": [
    "### problematic places"
   ]
  },
  {
   "cell_type": "code",
   "execution_count": 130,
   "metadata": {},
   "outputs": [],
   "source": [
    "mask = (\n",
    "    user_places_counts.index.isin(pb_users, level='user_id')\n",
    "    & user_places_counts.index.isin(\n",
    "        places_to_cells.loc[(slice(None), pb_cell), :].index.levels[0], level='place_id'\n",
    "    )\n",
    ")\n",
    "pb_places = user_places_counts.loc[mask].loc[(slice(None), slice(None), False), :]"
   ]
  },
  {
   "cell_type": "code",
   "execution_count": 131,
   "metadata": {},
   "outputs": [],
   "source": [
    "pb_places = (\n",
    "    pb_places.join(\n",
    "        places_to_cells.reset_index().set_index('id'), on='place_id', how='inner'\n",
    "    ).groupby(['user_id', 'cell_id', 'is_daytime']).sum()\n",
    ")\n",
    "pb_places['count'] = pb_places['count'] * pb_places['ratio']\n",
    "pb_places = pb_places.drop(columns='ratio') # .add(user_gps_counts, fill_value=0)\n",
    "pb_places['prop_user'] = (\n",
    "    pb_places['count']\n",
    "    / pb_places.groupby('user_id')['count'].transform('sum')\n",
    ")\n",
    "pb_places['prop_user_by_time'] = (\n",
    "    pb_places['count']\n",
    "    / pb_places.groupby(['user_id', 'is_daytime'])['count'].transform('sum')\n",
    ")"
   ]
  },
  {
   "cell_type": "code",
   "execution_count": 136,
   "metadata": {},
   "outputs": [],
   "source": [
    "nighttime_acty_th=0.5\n",
    "all_acty_th=0.1\n",
    "count_th=3\n",
    "nighttime_acty_mask = pb_places['prop_user_by_time'] >= nighttime_acty_th\n",
    "all_acty_mask = pb_places['prop_user'] >= all_acty_th\n",
    "count_th_mask = pb_places['count'] >= count_th\n",
    "place_res = (\n",
    "    pb_places.loc[nighttime_acty_mask & all_acty_mask & count_th_mask]\n",
    "        .loc[(slice(None), slice(None), False)]\n",
    "        .sort_values(by='count')\n",
    "        .groupby('user_id')\n",
    "        .tail(1)\n",
    "        .reset_index().set_index('user_id') # ['cell_id']\n",
    ")"
   ]
  },
  {
   "cell_type": "code",
   "execution_count": 138,
   "metadata": {},
   "outputs": [
    {
     "data": {
      "text/plain": [
       "count     1018.000000\n",
       "mean       111.085405\n",
       "std       2717.267993\n",
       "min          3.000000\n",
       "25%          4.000000\n",
       "50%          6.000000\n",
       "75%         10.750000\n",
       "max      86652.000000\n",
       "Name: count, dtype: float64"
      ]
     },
     "execution_count": 138,
     "metadata": {},
     "output_type": "execute_result"
    }
   ],
   "source": [
    "place_res['count'].describe()"
   ]
  },
  {
   "cell_type": "markdown",
   "metadata": {},
   "source": [
    "#### Count POIs for exclusion"
   ]
  },
  {
   "cell_type": "code",
   "execution_count": 427,
   "metadata": {},
   "outputs": [
    {
     "ename": "",
     "evalue": "",
     "output_type": "error",
     "traceback": [
      "\u001b[1;31mFailed to connect to the remote Jupyter Server 'http://localhost:9192/'. Verify the server is running and reachable."
     ]
    }
   ],
   "source": [
    "for year in range(2015, 2022):\n",
    "    db = f'twitter_{year}'\n",
    "    # f = data_access.gps_filter(qr.Filter())\n",
    "    f = qr.Filter().not_exists('coordinates.coordinates').equals('place.place_type', 'poi')\n",
    "    with qr.Connection(db) as con:\n",
    "        grpby = con[coll].groupby('place.id', pre_filter=f, allowDiskUse=True)\n",
    "        poi_counts = data_access.mongo_groupby_to_df(\n",
    "            grpby, count=qr.NamedAgg('id', 'count')\n",
    "        )\n",
    "    poi_counts.to_parquet(paths.interim_data / cc / f\"poi_counts_{year}.parquet\")"
   ]
  },
  {
   "cell_type": "markdown",
   "metadata": {},
   "source": [
    "### Problematic GPS coords"
   ]
  },
  {
   "cell_type": "code",
   "execution_count": 416,
   "metadata": {},
   "outputs": [],
   "source": [
    "pb_gps_counts = subcells_user_counts_from_gps.join(subcells_to_cells.loc[subcells_to_cells == pb_cell].rename_axis('cell_id'), how='inner')\n",
    "pb_gps_counts = pb_gps_counts.loc[pb_gps_counts.index.isin(pb_users, level='user_id')].loc[(slice(None), slice(None), False), :]"
   ]
  },
  {
   "cell_type": "code",
   "execution_count": 417,
   "metadata": {},
   "outputs": [],
   "source": [
    "pb_gps_counts = pb_gps_counts.reset_index().set_index(['user_id', 'MSOA11CD', 'is_daytime'])\n",
    "pb_gps_counts['prop_user'] = (\n",
    "    pb_gps_counts['count']\n",
    "    / pb_gps_counts.groupby('user_id')['count'].transform('sum')\n",
    ")\n",
    "pb_gps_counts['prop_user_by_time'] = (\n",
    "    pb_gps_counts['count']\n",
    "    / pb_gps_counts.groupby(['user_id', 'is_daytime'])['count'].transform('sum')\n",
    ")"
   ]
  },
  {
   "cell_type": "code",
   "execution_count": 418,
   "metadata": {},
   "outputs": [],
   "source": [
    "nighttime_acty_th=0.5\n",
    "all_acty_th=0.1\n",
    "count_th=3\n",
    "nighttime_acty_mask = pb_gps_counts['prop_user_by_time'] >= nighttime_acty_th\n",
    "all_acty_mask = pb_gps_counts['prop_user'] >= all_acty_th\n",
    "count_th_mask = pb_gps_counts['count'] >= count_th\n",
    "gps_res = (\n",
    "    pb_gps_counts.loc[nighttime_acty_mask & all_acty_mask & count_th_mask]\n",
    "        .loc[(slice(None), slice(None), False)]\n",
    "        .sort_values(by='count')\n",
    "        .groupby('user_id')\n",
    "        .tail(1)\n",
    "        .reset_index().set_index('user_id') # ['cell_id']\n",
    ")"
   ]
  },
  {
   "cell_type": "code",
   "execution_count": 419,
   "metadata": {},
   "outputs": [
    {
     "data": {
      "text/html": [
       "<div>\n",
       "<style scoped>\n",
       "    .dataframe tbody tr th:only-of-type {\n",
       "        vertical-align: middle;\n",
       "    }\n",
       "\n",
       "    .dataframe tbody tr th {\n",
       "        vertical-align: top;\n",
       "    }\n",
       "\n",
       "    .dataframe thead th {\n",
       "        text-align: right;\n",
       "    }\n",
       "</style>\n",
       "<table border=\"1\" class=\"dataframe\">\n",
       "  <thead>\n",
       "    <tr style=\"text-align: right;\">\n",
       "      <th></th>\n",
       "      <th>MSOA11CD</th>\n",
       "      <th>cell_id</th>\n",
       "      <th>count</th>\n",
       "      <th>prop_user</th>\n",
       "      <th>prop_user_by_time</th>\n",
       "    </tr>\n",
       "    <tr>\n",
       "      <th>user_id</th>\n",
       "      <th></th>\n",
       "      <th></th>\n",
       "      <th></th>\n",
       "      <th></th>\n",
       "      <th></th>\n",
       "    </tr>\n",
       "  </thead>\n",
       "  <tbody>\n",
       "    <tr>\n",
       "      <th>7bc054c77c2cb3ac17c04b207c02eefca771e25655654560c1212bb63757af08e69df5976170d71fb024c925ca554d52c27079d1673b8b62019de50df351f665</th>\n",
       "      <td>E02000977</td>\n",
       "      <td>E01004735</td>\n",
       "      <td>3</td>\n",
       "      <td>1.000000</td>\n",
       "      <td>1.000000</td>\n",
       "    </tr>\n",
       "    <tr>\n",
       "      <th>34ff3f389a10fe303ce32775339c1d760d57b911eafc6ca004b51b8084f2ff3ec3e4bdf85089d42e08264cce212b179db218eb41af681b956b5a2e80edda70d3</th>\n",
       "      <td>E02000977</td>\n",
       "      <td>E01004735</td>\n",
       "      <td>3</td>\n",
       "      <td>1.000000</td>\n",
       "      <td>1.000000</td>\n",
       "    </tr>\n",
       "    <tr>\n",
       "      <th>357748d457ec7d1359efd62451bcfa799833b3f23d6d3719fd2834b2d5d4a0e0910f9cf51674948c806b5200d1b87ae94b023822de65500761a3cb5cfc126880</th>\n",
       "      <td>E02000977</td>\n",
       "      <td>E01004734</td>\n",
       "      <td>3</td>\n",
       "      <td>1.000000</td>\n",
       "      <td>1.000000</td>\n",
       "    </tr>\n",
       "    <tr>\n",
       "      <th>35d79c5a0f27c2478439f0c151bb0d83dde2023be13bd8d525d97c2c6db6fa8bf4dcaead009a6fcfd02e626ed776c37ab6990f4368841f39f3e8a9a304d1cc1a</th>\n",
       "      <td>E02000977</td>\n",
       "      <td>E01004734</td>\n",
       "      <td>3</td>\n",
       "      <td>1.000000</td>\n",
       "      <td>1.000000</td>\n",
       "    </tr>\n",
       "    <tr>\n",
       "      <th>cfb1de39dc1eea1c5e33a5cb9f6f39f1e13608c1c965d17a461092e194620457472a1fdb58f6c3245d5d7bf29d49981d25983e0a956082c2bd269334b76398e2</th>\n",
       "      <td>E02000977</td>\n",
       "      <td>E01004734</td>\n",
       "      <td>3</td>\n",
       "      <td>0.750000</td>\n",
       "      <td>0.750000</td>\n",
       "    </tr>\n",
       "    <tr>\n",
       "      <th>...</th>\n",
       "      <td>...</td>\n",
       "      <td>...</td>\n",
       "      <td>...</td>\n",
       "      <td>...</td>\n",
       "      <td>...</td>\n",
       "    </tr>\n",
       "    <tr>\n",
       "      <th>3df7c8818a0b67db9f0c2e8be15e40f649700edc4c16d96d27db878e6e469590885b86ea74ba674fae32e9a75215e593bfb2b7a1ac85ce4e7483a4f1244e0b5e</th>\n",
       "      <td>E02000977</td>\n",
       "      <td>E01004734</td>\n",
       "      <td>56</td>\n",
       "      <td>0.528302</td>\n",
       "      <td>0.528302</td>\n",
       "    </tr>\n",
       "    <tr>\n",
       "      <th>7e353af27792e4ec1f615c9038066dd70ad3d4a3cb90ddc749a21d77d3f1e505ef47d9a9a8f04c8aab4d1c8b36c33be8122d5a7dbabb3c62088b9e6ba2a105be</th>\n",
       "      <td>E02000977</td>\n",
       "      <td>E01004735</td>\n",
       "      <td>67</td>\n",
       "      <td>0.670000</td>\n",
       "      <td>0.670000</td>\n",
       "    </tr>\n",
       "    <tr>\n",
       "      <th>8dfe85b65ad31fbb5c4b1abce5b6db72dc28a5452abb0a053e92d4ad98194941e031c0a4b8cdc57cc077caaa627eca757741acbf85ba577ce87b1380f24db15c</th>\n",
       "      <td>E02000977</td>\n",
       "      <td>E01004736</td>\n",
       "      <td>69</td>\n",
       "      <td>0.932432</td>\n",
       "      <td>0.932432</td>\n",
       "    </tr>\n",
       "    <tr>\n",
       "      <th>a8d34a494c4260f57bd88f1c9b7ca89f70c8325da273e8a0daf14d66ecad594571b4790485dadc48b27163d23cb0dd64b1a4bf7018725e2a58e8876be441fc2c</th>\n",
       "      <td>E02000977</td>\n",
       "      <td>E01004761</td>\n",
       "      <td>79</td>\n",
       "      <td>0.987500</td>\n",
       "      <td>0.987500</td>\n",
       "    </tr>\n",
       "    <tr>\n",
       "      <th>69a4d580d5c31078221915f7b3d6ba0221e724aa0c80bb929203d52882e137c1ab94ab6bc2b07477fa2e40940589a7ff581dbfed5c4142a217029e3b4b65f517</th>\n",
       "      <td>E02000977</td>\n",
       "      <td>E01004735</td>\n",
       "      <td>96</td>\n",
       "      <td>1.000000</td>\n",
       "      <td>1.000000</td>\n",
       "    </tr>\n",
       "  </tbody>\n",
       "</table>\n",
       "<p>464 rows × 5 columns</p>\n",
       "</div>"
      ],
      "text/plain": [
       "                                                     MSOA11CD    cell_id  \\\n",
       "user_id                                                                    \n",
       "7bc054c77c2cb3ac17c04b207c02eefca771e2565565456...  E02000977  E01004735   \n",
       "34ff3f389a10fe303ce32775339c1d760d57b911eafc6ca...  E02000977  E01004735   \n",
       "357748d457ec7d1359efd62451bcfa799833b3f23d6d371...  E02000977  E01004734   \n",
       "35d79c5a0f27c2478439f0c151bb0d83dde2023be13bd8d...  E02000977  E01004734   \n",
       "cfb1de39dc1eea1c5e33a5cb9f6f39f1e13608c1c965d17...  E02000977  E01004734   \n",
       "...                                                       ...        ...   \n",
       "3df7c8818a0b67db9f0c2e8be15e40f649700edc4c16d96...  E02000977  E01004734   \n",
       "7e353af27792e4ec1f615c9038066dd70ad3d4a3cb90ddc...  E02000977  E01004735   \n",
       "8dfe85b65ad31fbb5c4b1abce5b6db72dc28a5452abb0a0...  E02000977  E01004736   \n",
       "a8d34a494c4260f57bd88f1c9b7ca89f70c8325da273e8a...  E02000977  E01004761   \n",
       "69a4d580d5c31078221915f7b3d6ba0221e724aa0c80bb9...  E02000977  E01004735   \n",
       "\n",
       "                                                    count  prop_user  \\\n",
       "user_id                                                                \n",
       "7bc054c77c2cb3ac17c04b207c02eefca771e2565565456...      3   1.000000   \n",
       "34ff3f389a10fe303ce32775339c1d760d57b911eafc6ca...      3   1.000000   \n",
       "357748d457ec7d1359efd62451bcfa799833b3f23d6d371...      3   1.000000   \n",
       "35d79c5a0f27c2478439f0c151bb0d83dde2023be13bd8d...      3   1.000000   \n",
       "cfb1de39dc1eea1c5e33a5cb9f6f39f1e13608c1c965d17...      3   0.750000   \n",
       "...                                                   ...        ...   \n",
       "3df7c8818a0b67db9f0c2e8be15e40f649700edc4c16d96...     56   0.528302   \n",
       "7e353af27792e4ec1f615c9038066dd70ad3d4a3cb90ddc...     67   0.670000   \n",
       "8dfe85b65ad31fbb5c4b1abce5b6db72dc28a5452abb0a0...     69   0.932432   \n",
       "a8d34a494c4260f57bd88f1c9b7ca89f70c8325da273e8a...     79   0.987500   \n",
       "69a4d580d5c31078221915f7b3d6ba0221e724aa0c80bb9...     96   1.000000   \n",
       "\n",
       "                                                    prop_user_by_time  \n",
       "user_id                                                                \n",
       "7bc054c77c2cb3ac17c04b207c02eefca771e2565565456...           1.000000  \n",
       "34ff3f389a10fe303ce32775339c1d760d57b911eafc6ca...           1.000000  \n",
       "357748d457ec7d1359efd62451bcfa799833b3f23d6d371...           1.000000  \n",
       "35d79c5a0f27c2478439f0c151bb0d83dde2023be13bd8d...           1.000000  \n",
       "cfb1de39dc1eea1c5e33a5cb9f6f39f1e13608c1c965d17...           0.750000  \n",
       "...                                                               ...  \n",
       "3df7c8818a0b67db9f0c2e8be15e40f649700edc4c16d96...           0.528302  \n",
       "7e353af27792e4ec1f615c9038066dd70ad3d4a3cb90ddc...           0.670000  \n",
       "8dfe85b65ad31fbb5c4b1abce5b6db72dc28a5452abb0a0...           0.932432  \n",
       "a8d34a494c4260f57bd88f1c9b7ca89f70c8325da273e8a...           0.987500  \n",
       "69a4d580d5c31078221915f7b3d6ba0221e724aa0c80bb9...           1.000000  \n",
       "\n",
       "[464 rows x 5 columns]"
      ]
     },
     "execution_count": 419,
     "metadata": {},
     "output_type": "execute_result"
    }
   ],
   "source": [
    "gps_res"
   ]
  },
  {
   "cell_type": "markdown",
   "metadata": {},
   "source": [
    "apparently pb mostly in tweets with GPS, let's investigate some users"
   ]
  },
  {
   "cell_type": "code",
   "execution_count": 185,
   "metadata": {},
   "outputs": [
    {
     "data": {
      "text/plain": [
       "True"
      ]
     },
     "execution_count": 185,
     "metadata": {},
     "output_type": "execute_result"
    }
   ],
   "source": [
    "p = lang.cells_geodf.loc[[pb_cell], 'geometry'].to_crs('epsg:4326')\n",
    "p.iloc[0].contains(Point(-0.127318,\t51.507115))"
   ]
  },
  {
   "cell_type": "code",
   "execution_count": 201,
   "metadata": {},
   "outputs": [
    {
     "data": {
      "text/plain": [
       "<StringArray>\n",
       "['<a href=\"http://instagram.com\" rel=\"nofollow\">Instagram</a>']\n",
       "Length: 1, dtype: string"
      ]
     },
     "execution_count": 201,
     "metadata": {},
     "output_type": "execute_result"
    }
   ],
   "source": [
    "tweets.loc[np.abs(tweets['x'] - (-0.127318)) < 1e-4, 'source'].unique()"
   ]
  },
  {
   "cell_type": "markdown",
   "metadata": {},
   "source": [
    "threshold on duplicate coordinates: like ~100-500 tweets from exact same place. first get distribution"
   ]
  },
  {
   "cell_type": "code",
   "execution_count": 221,
   "metadata": {},
   "outputs": [],
   "source": [
    "db = 'twitter_2018'\n",
    "# f = data_access.gps_filter(qr.Filter())\n",
    "f = qr.Filter().not_exists('coordinates.coordinates').equal('place.place_type', 'poi')\n",
    "with qr.Connection(db) as con:\n",
    "    grpby = con[coll].groupby('place.id', pre_filter=f, allowDiskUse=True)\n",
    "    counts = data_access.groupby_res_to_df(\n",
    "        grpby.agg(count=qr.NamedAgg('id', 'count')), grpby.pipeline\n",
    "    )"
   ]
  },
  {
   "cell_type": "code",
   "execution_count": 413,
   "metadata": {},
   "outputs": [
    {
     "data": {
      "text/html": [
       "<div>\n",
       "<style scoped>\n",
       "    .dataframe tbody tr th:only-of-type {\n",
       "        vertical-align: middle;\n",
       "    }\n",
       "\n",
       "    .dataframe tbody tr th {\n",
       "        vertical-align: top;\n",
       "    }\n",
       "\n",
       "    .dataframe thead th {\n",
       "        text-align: right;\n",
       "    }\n",
       "</style>\n",
       "<table border=\"1\" class=\"dataframe\">\n",
       "  <thead>\n",
       "    <tr style=\"text-align: right;\">\n",
       "      <th></th>\n",
       "      <th>count</th>\n",
       "    </tr>\n",
       "    <tr>\n",
       "      <th>place_id</th>\n",
       "      <th></th>\n",
       "    </tr>\n",
       "  </thead>\n",
       "  <tbody>\n",
       "    <tr>\n",
       "      <th>0952a5b79d961000</th>\n",
       "      <td>1</td>\n",
       "    </tr>\n",
       "    <tr>\n",
       "      <th>0952b02f39d70001</th>\n",
       "      <td>1</td>\n",
       "    </tr>\n",
       "    <tr>\n",
       "      <th>0d8a52fb6d543006</th>\n",
       "      <td>3</td>\n",
       "    </tr>\n",
       "    <tr>\n",
       "      <th>0952961d75562004</th>\n",
       "      <td>4</td>\n",
       "    </tr>\n",
       "    <tr>\n",
       "      <th>63008eb4b4e61c8f</th>\n",
       "      <td>16564</td>\n",
       "    </tr>\n",
       "    <tr>\n",
       "      <th>...</th>\n",
       "      <td>...</td>\n",
       "    </tr>\n",
       "    <tr>\n",
       "      <th>0952a82b70170001</th>\n",
       "      <td>1</td>\n",
       "    </tr>\n",
       "    <tr>\n",
       "      <th>0952ace3f4562000</th>\n",
       "      <td>1</td>\n",
       "    </tr>\n",
       "    <tr>\n",
       "      <th>0952af93f5572000</th>\n",
       "      <td>1</td>\n",
       "    </tr>\n",
       "    <tr>\n",
       "      <th>2ab0d0147afe5f9e</th>\n",
       "      <td>30</td>\n",
       "    </tr>\n",
       "    <tr>\n",
       "      <th>19f0a43945e289e0</th>\n",
       "      <td>36</td>\n",
       "    </tr>\n",
       "  </tbody>\n",
       "</table>\n",
       "<p>134506 rows × 1 columns</p>\n",
       "</div>"
      ],
      "text/plain": [
       "                  count\n",
       "place_id               \n",
       "0952a5b79d961000      1\n",
       "0952b02f39d70001      1\n",
       "0d8a52fb6d543006      3\n",
       "0952961d75562004      4\n",
       "63008eb4b4e61c8f  16564\n",
       "...                 ...\n",
       "0952a82b70170001      1\n",
       "0952ace3f4562000      1\n",
       "0952af93f5572000      1\n",
       "2ab0d0147afe5f9e     30\n",
       "19f0a43945e289e0     36\n",
       "\n",
       "[134506 rows x 1 columns]"
      ]
     },
     "execution_count": 413,
     "metadata": {},
     "output_type": "execute_result"
    }
   ],
   "source": [
    "counts"
   ]
  },
  {
   "cell_type": "code",
   "execution_count": 230,
   "metadata": {},
   "outputs": [],
   "source": [
    "poi_counts = counts.join(places_gdf.loc[places_gdf['place_type'] == 'poi', []], how='inner')"
   ]
  },
  {
   "cell_type": "code",
   "execution_count": 232,
   "metadata": {},
   "outputs": [
    {
     "data": {
      "text/plain": [
       "Text(0.5, 0, 'occurrences of same POI')"
      ]
     },
     "execution_count": 232,
     "metadata": {},
     "output_type": "execute_result"
    },
    {
     "data": {
      "image/png": "[encoded data removed]",
      "text/plain": [
       "<Figure size 432x288 with 1 Axes>"
      ]
     },
     "metadata": {
      "needs_background": "light"
     },
     "output_type": "display_data"
    }
   ],
   "source": [
    "ax = sns.histplot(poi_counts, bins=20, log_scale=True)\n",
    "ax.set_xlabel('occurrences of same POI')"
   ]
  },
  {
   "cell_type": "code",
   "execution_count": 233,
   "metadata": {},
   "outputs": [
    {
     "data": {
      "text/plain": [
       "Text(0.5, 0, 'occurrences of same POI')"
      ]
     },
     "execution_count": 233,
     "metadata": {},
     "output_type": "execute_result"
    },
    {
     "data": {
      "image/png": "[encoded data removed]",
      "text/plain": [
       "<Figure size 432x288 with 1 Axes>"
      ]
     },
     "metadata": {
      "needs_background": "light"
     },
     "output_type": "display_data"
    }
   ],
   "source": [
    "ax = sns.histplot(poi_counts, bins=20, log_scale=[True, True])\n",
    "ax.set_xlabel('occurrences of same POI')"
   ]
  },
  {
   "cell_type": "code",
   "execution_count": 252,
   "metadata": {},
   "outputs": [
    {
     "data": {
      "text/plain": [
       "59"
      ]
     },
     "execution_count": 252,
     "metadata": {},
     "output_type": "execute_result"
    }
   ],
   "source": [
    "coords_counts['count'].sort_values().iloc[720000]"
   ]
  },
  {
   "cell_type": "code",
   "execution_count": 255,
   "metadata": {},
   "outputs": [
    {
     "data": {
      "text/plain": [
       "[1.243966, 52.66706]"
      ]
     },
     "execution_count": 255,
     "metadata": {},
     "output_type": "execute_result"
    }
   ],
   "source": [
    "coords_counts.index[720000]"
   ]
  },
  {
   "cell_type": "code",
   "execution_count": 214,
   "metadata": {},
   "outputs": [
    {
     "data": {
      "text/plain": [
       "Text(0.5, 0, 'occurrences of same GPS coordinates')"
      ]
     },
     "execution_count": 214,
     "metadata": {},
     "output_type": "execute_result"
    },
    {
     "data": {
      "image/png": "[encoded data removed]",
      "text/plain": [
       "<Figure size 432x288 with 1 Axes>"
      ]
     },
     "metadata": {
      "needs_background": "light"
     },
     "output_type": "display_data"
    }
   ],
   "source": [
    "ax = sns.histplot(counts, bins=20, log_scale=True)\n",
    "ax.set_xlabel('occurrences of same GPS coordinates')"
   ]
  },
  {
   "cell_type": "code",
   "execution_count": 215,
   "metadata": {},
   "outputs": [
    {
     "data": {
      "text/plain": [
       "Text(0.5, 0, 'occurrences of same GPS coordinates')"
      ]
     },
     "execution_count": 215,
     "metadata": {},
     "output_type": "execute_result"
    },
    {
     "data": {
      "image/png": "[encoded data removed]",
      "text/plain": [
       "<Figure size 432x288 with 1 Axes>"
      ]
     },
     "metadata": {
      "needs_background": "light"
     },
     "output_type": "display_data"
    }
   ],
   "source": [
    "ax = sns.histplot(counts, bins=20, log_scale=[True, True])\n",
    "ax.set_xlabel('occurrences of same GPS coordinates')"
   ]
  },
  {
   "cell_type": "code",
   "execution_count": 124,
   "metadata": {},
   "outputs": [
    {
     "data": {
      "text/html": [
       "<div>\n",
       "<style scoped>\n",
       "    .dataframe tbody tr th:only-of-type {\n",
       "        vertical-align: middle;\n",
       "    }\n",
       "\n",
       "    .dataframe tbody tr th {\n",
       "        vertical-align: top;\n",
       "    }\n",
       "\n",
       "    .dataframe thead th {\n",
       "        text-align: right;\n",
       "    }\n",
       "</style>\n",
       "<table border=\"1\" class=\"dataframe\">\n",
       "  <thead>\n",
       "    <tr style=\"text-align: right;\">\n",
       "      <th></th>\n",
       "      <th></th>\n",
       "      <th></th>\n",
       "      <th>cell_id</th>\n",
       "      <th>count</th>\n",
       "      <th>prop_user</th>\n",
       "      <th>prop_user_by_time</th>\n",
       "    </tr>\n",
       "    <tr>\n",
       "      <th>user_id</th>\n",
       "      <th>MSOA11CD</th>\n",
       "      <th>is_daytime</th>\n",
       "      <th></th>\n",
       "      <th></th>\n",
       "      <th></th>\n",
       "      <th></th>\n",
       "    </tr>\n",
       "  </thead>\n",
       "  <tbody>\n",
       "    <tr>\n",
       "      <th>000062d7730263f5fbc68618a7826c9a63ff358028a29ba5a3eba26374ee22b931dafbbc64dd148264f52f5e3a8c05e9c361a87b3f2d0c28f5bbe572ccc100a1</th>\n",
       "      <th>E02000977</th>\n",
       "      <th>False</th>\n",
       "      <td>E01004736</td>\n",
       "      <td>6.0</td>\n",
       "      <td>1.000000</td>\n",
       "      <td>1.000000</td>\n",
       "    </tr>\n",
       "    <tr>\n",
       "      <th rowspan=\"2\" valign=\"top\">000362e8962e262467174bb9650b90c4d9b13099f97486cd60aefd8b692d5437c678d71253bdf1a7fbb566d0cc29323a0bb4b3f379d4d550318b501863a7ee98</th>\n",
       "      <th rowspan=\"2\" valign=\"top\">E02000977</th>\n",
       "      <th>False</th>\n",
       "      <td>E01004735</td>\n",
       "      <td>1.0</td>\n",
       "      <td>0.142857</td>\n",
       "      <td>0.142857</td>\n",
       "    </tr>\n",
       "    <tr>\n",
       "      <th>False</th>\n",
       "      <td>E01004736</td>\n",
       "      <td>6.0</td>\n",
       "      <td>0.857143</td>\n",
       "      <td>0.857143</td>\n",
       "    </tr>\n",
       "    <tr>\n",
       "      <th>0005e3146d2c8c1826b565714af1efcc5a575febaf909902557e830c2d15629f6162b48f977359ae70389c7194509b363f9d19086b5c3f82195012e47cdb04c6</th>\n",
       "      <th>E02000977</th>\n",
       "      <th>False</th>\n",
       "      <td>E01004736</td>\n",
       "      <td>6.0</td>\n",
       "      <td>1.000000</td>\n",
       "      <td>1.000000</td>\n",
       "    </tr>\n",
       "    <tr>\n",
       "      <th>000691bdd3026fba6929822e485f0df10ce319ba130b4a4a6127c305641e4529ca3274bd07391d7f2ea273be2d198e2b34c0de2af47106fbfd26c3e952fd5d13</th>\n",
       "      <th>E02000977</th>\n",
       "      <th>False</th>\n",
       "      <td>E01004736</td>\n",
       "      <td>3.0</td>\n",
       "      <td>1.000000</td>\n",
       "      <td>1.000000</td>\n",
       "    </tr>\n",
       "  </tbody>\n",
       "</table>\n",
       "</div>"
      ],
      "text/plain": [
       "                                                                           cell_id  \\\n",
       "user_id                                            MSOA11CD  is_daytime              \n",
       "000062d7730263f5fbc68618a7826c9a63ff358028a29ba... E02000977 False       E01004736   \n",
       "000362e8962e262467174bb9650b90c4d9b13099f97486c... E02000977 False       E01004735   \n",
       "                                                             False       E01004736   \n",
       "0005e3146d2c8c1826b565714af1efcc5a575febaf90990... E02000977 False       E01004736   \n",
       "000691bdd3026fba6929822e485f0df10ce319ba130b4a4... E02000977 False       E01004736   \n",
       "\n",
       "                                                                         count  \\\n",
       "user_id                                            MSOA11CD  is_daytime          \n",
       "000062d7730263f5fbc68618a7826c9a63ff358028a29ba... E02000977 False         6.0   \n",
       "000362e8962e262467174bb9650b90c4d9b13099f97486c... E02000977 False         1.0   \n",
       "                                                             False         6.0   \n",
       "0005e3146d2c8c1826b565714af1efcc5a575febaf90990... E02000977 False         6.0   \n",
       "000691bdd3026fba6929822e485f0df10ce319ba130b4a4... E02000977 False         3.0   \n",
       "\n",
       "                                                                         prop_user  \\\n",
       "user_id                                            MSOA11CD  is_daytime              \n",
       "000062d7730263f5fbc68618a7826c9a63ff358028a29ba... E02000977 False        1.000000   \n",
       "000362e8962e262467174bb9650b90c4d9b13099f97486c... E02000977 False        0.142857   \n",
       "                                                             False        0.857143   \n",
       "0005e3146d2c8c1826b565714af1efcc5a575febaf90990... E02000977 False        1.000000   \n",
       "000691bdd3026fba6929822e485f0df10ce319ba130b4a4... E02000977 False        1.000000   \n",
       "\n",
       "                                                                         prop_user_by_time  \n",
       "user_id                                            MSOA11CD  is_daytime                     \n",
       "000062d7730263f5fbc68618a7826c9a63ff358028a29ba... E02000977 False                1.000000  \n",
       "000362e8962e262467174bb9650b90c4d9b13099f97486c... E02000977 False                0.142857  \n",
       "                                                             False                0.857143  \n",
       "0005e3146d2c8c1826b565714af1efcc5a575febaf90990... E02000977 False                1.000000  \n",
       "000691bdd3026fba6929822e485f0df10ce319ba130b4a4... E02000977 False                1.000000  "
      ]
     },
     "execution_count": 124,
     "metadata": {},
     "output_type": "execute_result"
    }
   ],
   "source": [
    "pb_gps_counts.head()"
   ]
  },
  {
   "cell_type": "code",
   "execution_count": 34,
   "metadata": {},
   "outputs": [
    {
     "data": {
      "text/plain": [
       "Text(0, 0.5, 'number of users')"
      ]
     },
     "execution_count": 34,
     "metadata": {},
     "output_type": "execute_result"
    },
    {
     "data": {
      "image/png": "[encoded data removed]",
      "text/plain": [
       "<Figure size 432x288 with 1 Axes>"
      ]
     },
     "metadata": {
      "needs_background": "light"
     },
     "output_type": "display_data"
    }
   ],
   "source": [
    "ax = sns.histplot(lang.user_corpora['nr_words'].rename('number of words'), log_scale=True)\n",
    "ax.set_ylabel('number of users')"
   ]
  },
  {
   "cell_type": "code",
   "execution_count": null,
   "metadata": {},
   "outputs": [],
   "source": []
  }
 ],
 "metadata": {
  "interpreter": {
   "hash": "f7027f8bd9b329046d703d8e8e57ca0bd4d4f03545e5af8317399a95dc5037ac"
  },
  "kernelspec": {
   "display_name": "Python 3 (ipykernel)",
   "language": "python",
   "name": "python3"
  },
  "language_info": {
   "name": "python",
   "version": "3.9.13 | packaged by conda-forge | (main, May 27 2022, 16:56:21) \n[GCC 10.3.0]"
  },
  "orig_nbformat": 4
 },
 "nbformat": 4,
 "nbformat_minor": 2
}
