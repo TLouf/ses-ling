{
 "cells": [
  {
   "cell_type": "code",
   "execution_count": 1,
   "metadata": {
    "scrolled": true
   },
   "outputs": [],
   "source": [
    "# Reload all modules every time before executing the Python code typed\n",
    "%load_ext autoreload\n",
    "%autoreload 2"
   ]
  },
  {
   "cell_type": "code",
   "execution_count": 392,
   "metadata": {},
   "outputs": [],
   "source": [
    "import os\n",
    "import datetime\n",
    "import re\n",
    "import json\n",
    "import cProfile\n",
    "from tqdm import tqdm\n",
    "from pathlib import Path\n",
    "import matplotlib.pyplot as plt\n",
    "import ray\n",
    "import numpy as np\n",
    "from shapely.geometry import Point, Polygon, MultiPolygon, box\n",
    "import geopandas as geopd\n",
    "import pandas as pd\n",
    "import querier as qr\n",
    "from dotenv import load_dotenv\n",
    "load_dotenv()\n",
    "\n",
    "import ses_ling.utils.geometry as geo_utils\n",
    "import ses_ling.data.access as data_access\n",
    "import ses_ling.data.filter as data_filter\n",
    "import ses_ling.data.user_residence as user_residence\n",
    "import ses_ling.utils.paths as path_utils"
   ]
  },
  {
   "cell_type": "code",
   "execution_count": null,
   "metadata": {},
   "outputs": [],
   "source": [
    "import logging\n",
    "LOGGER = logging.getLogger(__name__)\n",
    "LOG_CONFIG = json.load(open('logging.json', 'rt'))\n",
    "logging.config.dictConfig(LOG_CONFIG)"
   ]
  },
  {
   "cell_type": "code",
   "execution_count": 452,
   "metadata": {},
   "outputs": [],
   "source": [
    "paths = path_utils.ProjectPaths()"
   ]
  },
  {
   "cell_type": "code",
   "execution_count": 5,
   "metadata": {},
   "outputs": [],
   "source": [
    "with open(paths.ext_data / 'countries.json') as f:\n",
    "    countries_dict = json.load(f)"
   ]
  },
  {
   "cell_type": "code",
   "execution_count": 591,
   "metadata": {},
   "outputs": [],
   "source": [
    "cc = 'GB'\n",
    "cc_dict = countries_dict[cc]\n",
    "xy_proj = cc_dict['xy_proj']\n",
    "year_from = 2015\n",
    "year_to = 2021\n",
    "colls = cc_dict['mongo_coll']\n",
    "timezone = cc_dict['timezone']\n",
    "paths.partial_format(cc=cc, year_from=year_from, year_to=year_to, **cc_dict)"
   ]
  },
  {
   "cell_type": "markdown",
   "metadata": {},
   "source": [
    "# Deprivation index"
   ]
  },
  {
   "cell_type": "code",
   "execution_count": 5,
   "metadata": {},
   "outputs": [],
   "source": [
    "from libpysal.weights import Rook\n",
    "from spopt.region import WardSpatial\n",
    "from sklearn.cluster import AgglomerativeClustering"
   ]
  },
  {
   "cell_type": "markdown",
   "metadata": {},
   "source": [
    "## Wales"
   ]
  },
  {
   "cell_type": "markdown",
   "metadata": {},
   "source": [
    "THese are ranks! So averaging or inter-lsoa comparisons make no sense!"
   ]
  },
  {
   "cell_type": "code",
   "execution_count": null,
   "metadata": {},
   "outputs": [],
   "source": [
    "zip_fpaths = list((paths.ext_data / 'wimd2014').glob('*.zip'))\n",
    "# put overall first because different format, simply more practical and more logical\n",
    "zip_fpaths.sort(key=lambda p: 'overall' not in p.stem)\n",
    "wimd = geopd.GeoDataFrame.from_file(zip_fpaths[0]).set_index('2014_lsoa')\n",
    "for zipf in zip_fpaths[1:]:\n",
    "    part = geopd.GeoDataFrame.from_file(zipf).set_index('2014_lsoa')\n",
    "    part_var = zipf.stem.split('_')[-1]\n",
    "    var_col_mask = part.columns.str.startswith('2014_')# | part.columns.str.endswith('_2014')\n",
    "    var_col = part.columns[var_col_mask][0]\n",
    "    wimd = wimd.join(part.loc[:, var_col].rename(f'2014_{part_var}'))\n",
    "wimd.to_file(paths.interim_data / 'wimd2014' / 'wimd2014.shp')"
   ]
  },
  {
   "cell_type": "code",
   "execution_count": null,
   "metadata": {},
   "outputs": [],
   "source": [
    "wimd = geopd.read_file(paths.interim_data / 'wimd2014' / 'wimd2014.shp')"
   ]
  },
  {
   "cell_type": "code",
   "execution_count": null,
   "metadata": {},
   "outputs": [
    {
     "data": {
      "text/html": [
       "<div>\n",
       "<style scoped>\n",
       "    .dataframe tbody tr th:only-of-type {\n",
       "        vertical-align: middle;\n",
       "    }\n",
       "\n",
       "    .dataframe tbody tr th {\n",
       "        vertical-align: top;\n",
       "    }\n",
       "\n",
       "    .dataframe thead th {\n",
       "        text-align: right;\n",
       "    }\n",
       "</style>\n",
       "<table border=\"1\" class=\"dataframe\">\n",
       "  <thead>\n",
       "    <tr style=\"text-align: right;\">\n",
       "      <th></th>\n",
       "      <th>2014_lsoa</th>\n",
       "      <th>lsoa11cd</th>\n",
       "      <th>lsoa11nm</th>\n",
       "      <th>wimd_2014</th>\n",
       "      <th>decile</th>\n",
       "      <th>map_group</th>\n",
       "      <th>2014_healt</th>\n",
       "      <th>2014_envir</th>\n",
       "      <th>2014_servi</th>\n",
       "      <th>2014_housi</th>\n",
       "      <th>2014_incom</th>\n",
       "      <th>2014_safet</th>\n",
       "      <th>2014_educa</th>\n",
       "      <th>2014_emplo</th>\n",
       "      <th>geometry</th>\n",
       "    </tr>\n",
       "  </thead>\n",
       "  <tbody>\n",
       "    <tr>\n",
       "      <th>0</th>\n",
       "      <td>W01001546</td>\n",
       "      <td>W01001546</td>\n",
       "      <td>Monmouthshire 002A</td>\n",
       "      <td>403.0</td>\n",
       "      <td>3.0</td>\n",
       "      <td>30% Most Deprived</td>\n",
       "      <td>714.0</td>\n",
       "      <td>1220.0</td>\n",
       "      <td>1342.0</td>\n",
       "      <td>498.0</td>\n",
       "      <td>240.0</td>\n",
       "      <td>387.0</td>\n",
       "      <td>315.0</td>\n",
       "      <td>417.0</td>\n",
       "      <td>POLYGON ((329425.970 214538.497, 329425.094 21...</td>\n",
       "    </tr>\n",
       "    <tr>\n",
       "      <th>1</th>\n",
       "      <td>W01001545</td>\n",
       "      <td>W01001545</td>\n",
       "      <td>Monmouthshire 001A</td>\n",
       "      <td>1687.0</td>\n",
       "      <td>9.0</td>\n",
       "      <td>50% Least Deprived</td>\n",
       "      <td>1043.0</td>\n",
       "      <td>889.0</td>\n",
       "      <td>1291.0</td>\n",
       "      <td>1769.0</td>\n",
       "      <td>1599.0</td>\n",
       "      <td>1752.0</td>\n",
       "      <td>1884.0</td>\n",
       "      <td>1374.0</td>\n",
       "      <td>POLYGON ((328804.667 214649.107, 328800.406 21...</td>\n",
       "    </tr>\n",
       "    <tr>\n",
       "      <th>2</th>\n",
       "      <td>W01001542</td>\n",
       "      <td>W01001542</td>\n",
       "      <td>Monmouthshire 009A</td>\n",
       "      <td>1472.0</td>\n",
       "      <td>8.0</td>\n",
       "      <td>50% Least Deprived</td>\n",
       "      <td>1491.0</td>\n",
       "      <td>1398.0</td>\n",
       "      <td>222.0</td>\n",
       "      <td>1536.0</td>\n",
       "      <td>1434.0</td>\n",
       "      <td>1622.0</td>\n",
       "      <td>1730.0</td>\n",
       "      <td>1357.0</td>\n",
       "      <td>POLYGON ((349359.166 191300.821, 349353.051 19...</td>\n",
       "    </tr>\n",
       "    <tr>\n",
       "      <th>3</th>\n",
       "      <td>W01000088</td>\n",
       "      <td>W01000088</td>\n",
       "      <td>Gwynedd 007B</td>\n",
       "      <td>1276.0</td>\n",
       "      <td>7.0</td>\n",
       "      <td>50% Least Deprived</td>\n",
       "      <td>1461.0</td>\n",
       "      <td>1395.0</td>\n",
       "      <td>200.0</td>\n",
       "      <td>957.0</td>\n",
       "      <td>1276.0</td>\n",
       "      <td>1446.0</td>\n",
       "      <td>1288.0</td>\n",
       "      <td>1304.0</td>\n",
       "      <td>POLYGON ((248431.557 356977.100, 248420.703 35...</td>\n",
       "    </tr>\n",
       "    <tr>\n",
       "      <th>4</th>\n",
       "      <td>W01001543</td>\n",
       "      <td>W01001543</td>\n",
       "      <td>Monmouthshire 009B</td>\n",
       "      <td>1804.0</td>\n",
       "      <td>10.0</td>\n",
       "      <td>50% Least Deprived</td>\n",
       "      <td>1879.0</td>\n",
       "      <td>608.0</td>\n",
       "      <td>1353.0</td>\n",
       "      <td>1881.0</td>\n",
       "      <td>1716.0</td>\n",
       "      <td>1515.0</td>\n",
       "      <td>1573.0</td>\n",
       "      <td>1729.0</td>\n",
       "      <td>POLYGON ((347827.977 189358.129, 347860.644 18...</td>\n",
       "    </tr>\n",
       "  </tbody>\n",
       "</table>\n",
       "</div>"
      ],
      "text/plain": [
       "   2014_lsoa   lsoa11cd            lsoa11nm  wimd_2014  decile  \\\n",
       "0  W01001546  W01001546  Monmouthshire 002A      403.0     3.0   \n",
       "1  W01001545  W01001545  Monmouthshire 001A     1687.0     9.0   \n",
       "2  W01001542  W01001542  Monmouthshire 009A     1472.0     8.0   \n",
       "3  W01000088  W01000088        Gwynedd 007B     1276.0     7.0   \n",
       "4  W01001543  W01001543  Monmouthshire 009B     1804.0    10.0   \n",
       "\n",
       "            map_group  2014_healt  2014_envir  2014_servi  2014_housi  \\\n",
       "0   30% Most Deprived       714.0      1220.0      1342.0       498.0   \n",
       "1  50% Least Deprived      1043.0       889.0      1291.0      1769.0   \n",
       "2  50% Least Deprived      1491.0      1398.0       222.0      1536.0   \n",
       "3  50% Least Deprived      1461.0      1395.0       200.0       957.0   \n",
       "4  50% Least Deprived      1879.0       608.0      1353.0      1881.0   \n",
       "\n",
       "   2014_incom  2014_safet  2014_educa  2014_emplo  \\\n",
       "0       240.0       387.0       315.0       417.0   \n",
       "1      1599.0      1752.0      1884.0      1374.0   \n",
       "2      1434.0      1622.0      1730.0      1357.0   \n",
       "3      1276.0      1446.0      1288.0      1304.0   \n",
       "4      1716.0      1515.0      1573.0      1729.0   \n",
       "\n",
       "                                            geometry  \n",
       "0  POLYGON ((329425.970 214538.497, 329425.094 21...  \n",
       "1  POLYGON ((328804.667 214649.107, 328800.406 21...  \n",
       "2  POLYGON ((349359.166 191300.821, 349353.051 19...  \n",
       "3  POLYGON ((248431.557 356977.100, 248420.703 35...  \n",
       "4  POLYGON ((347827.977 189358.129, 347860.644 18...  "
      ]
     },
     "metadata": {},
     "output_type": "display_data"
    }
   ],
   "source": [
    "wimd.head()"
   ]
  },
  {
   "cell_type": "code",
   "execution_count": null,
   "metadata": {},
   "outputs": [],
   "source": [
    "metric_col = '2014_incom'"
   ]
  },
  {
   "cell_type": "code",
   "execution_count": null,
   "metadata": {},
   "outputs": [
    {
     "data": {
      "text/plain": [
       "count    1909.000000\n",
       "mean      955.000000\n",
       "std       551.225151\n",
       "min         1.000000\n",
       "25%       478.000000\n",
       "50%       955.000000\n",
       "75%      1432.000000\n",
       "max      1909.000000\n",
       "Name: 2014_incom, dtype: float64"
      ]
     },
     "metadata": {},
     "output_type": "display_data"
    }
   ],
   "source": [
    "wimd[metric_col].describe()"
   ]
  },
  {
   "cell_type": "code",
   "execution_count": null,
   "metadata": {},
   "outputs": [],
   "source": [
    "wimd.plot(column=metric_col)"
   ]
  },
  {
   "cell_type": "code",
   "execution_count": null,
   "metadata": {},
   "outputs": [],
   "source": [
    "w = Rook.from_dataframe(wimd)"
   ]
  },
  {
   "cell_type": "code",
   "execution_count": null,
   "metadata": {},
   "outputs": [
    {
     "name": "stderr",
     "output_type": "stream",
     "text": [
      "/home/thomaslouf/.conda/envs/ses-ling/lib/python3.9/site-packages/sklearn/cluster/_agglomerative.py:549: UserWarning:\n",
      "\n",
      "the number of connected components of the connectivity matrix is 4 > 1. Completing it to avoid stopping the tree early.\n",
      "\n"
     ]
    }
   ],
   "source": [
    "model = AgglomerativeClustering(\n",
    "    n_clusters=None,\n",
    "    connectivity=w.sparse,\n",
    "    linkage=\"complete\",\n",
    "    distance_threshold=100,\n",
    "    affinity='l1',\n",
    ")\n",
    "model.fit(wimd[[metric_col]].values)\n",
    "# model = WardSpatial(wimd, w, [metric_col], n_clusters=None, clustering_kwds={'distance_threshold': 200})\n",
    "# model.solve()\n",
    "wimd['labels'] = model.labels_"
   ]
  },
  {
   "cell_type": "code",
   "execution_count": null,
   "metadata": {},
   "outputs": [],
   "source": [
    "clustered_wimd = wimd[['labels', 'geometry']].dissolve(by='labels')\n",
    "# weighted average (by pop) instead of normal one?\n",
    "clustered_wimd = clustered_wimd[['geometry']].join(wimd.groupby('labels').agg(**{k: (metric_col, k) for k in ['mean', 'min', 'max', 'size']}))"
   ]
  },
  {
   "cell_type": "code",
   "execution_count": 177,
   "metadata": {},
   "outputs": [
    {
     "ename": "NameError",
     "evalue": "name 'clustered_wimd' is not defined",
     "output_type": "error",
     "traceback": [
      "\u001b[0;31m---------------------------------------------------------------------------\u001b[0m",
      "\u001b[0;31mNameError\u001b[0m                                 Traceback (most recent call last)",
      "Input \u001b[0;32mIn [177]\u001b[0m, in \u001b[0;36m<cell line: 1>\u001b[0;34m()\u001b[0m\n\u001b[0;32m----> 1\u001b[0m clustered_wimd\u001b[39m.\u001b[39mexplore(\u001b[39m'\u001b[39m\u001b[39mmean\u001b[39m\u001b[39m'\u001b[39m)\n",
      "\u001b[0;31mNameError\u001b[0m: name 'clustered_wimd' is not defined"
     ]
    }
   ],
   "source": [
    "clustered_wimd.explore('mean')"
   ]
  },
  {
   "cell_type": "markdown",
   "metadata": {},
   "source": [
    "## England"
   ]
  },
  {
   "cell_type": "code",
   "execution_count": 7,
   "metadata": {},
   "outputs": [
    {
     "data": {
      "text/plain": [
       "(32844, 66)"
      ]
     },
     "execution_count": 7,
     "metadata": {},
     "output_type": "execute_result"
    }
   ],
   "source": [
    "file_prefix = 'Indices_of_Multiple_Deprivation_(IMD)_2019'\n",
    "imd = geopd.read_file(paths.ext_data / f'{file_prefix}' / f'{file_prefix}.shp').set_index('lsoa11cd')\n",
    "imd.shape"
   ]
  },
  {
   "cell_type": "code",
   "execution_count": null,
   "metadata": {},
   "outputs": [
    {
     "data": {
      "text/plain": [
       "Index(['FID', 'lsoa11cd', 'lsoa11nm', 'lsoa11nmw', 'st_areasha', 'st_lengths',\n",
       "       'IMD_Rank', 'IMD_Decile', 'LSOA01NM', 'LADcd', 'LADnm', 'IMDScore',\n",
       "       'IMDRank0', 'IMDDec0', 'IncScore', 'IncRank', 'IncDec', 'EmpScore',\n",
       "       'EmpRank', 'EmpDec', 'EduScore', 'EduRank', 'EduDec', 'HDDScore',\n",
       "       'HDDRank', 'HDDDec', 'CriScore', 'CriRank', 'CriDec', 'BHSScore',\n",
       "       'BHSRank', 'BHSDec', 'EnvScore', 'EnvRank', 'EnvDec', 'IDCScore',\n",
       "       'IDCRank', 'IDCDec', 'IDOScore', 'IDORank', 'IDODec', 'CYPScore',\n",
       "       'CYPRank', 'CYPDec', 'ASScore', 'ASRank', 'ASDec', 'GBScore', 'GBRank',\n",
       "       'GBDec', 'WBScore', 'WBRank', 'WBDec', 'IndScore', 'IndRank', 'IndDec',\n",
       "       'OutScore', 'OutRank', 'OutDec', 'TotPop', 'DepChi', 'Pop16_59',\n",
       "       'Pop60_', 'WorkPop', 'Shape__Are', 'Shape__Len', 'geometry'],\n",
       "      dtype='object')"
      ]
     },
     "metadata": {},
     "output_type": "display_data"
    }
   ],
   "source": [
    "imd.columns"
   ]
  },
  {
   "cell_type": "code",
   "execution_count": 8,
   "metadata": {},
   "outputs": [],
   "source": [
    "metric_col = 'EduScore'"
   ]
  },
  {
   "cell_type": "code",
   "execution_count": 9,
   "metadata": {},
   "outputs": [],
   "source": [
    "imd[[metric_col]].to_parquet('mdr.parquet')"
   ]
  },
  {
   "cell_type": "code",
   "execution_count": 8,
   "metadata": {},
   "outputs": [
    {
     "data": {
      "text/plain": [
       "count    32844.000000\n",
       "mean        21.691084\n",
       "std         18.607562\n",
       "min          0.013000\n",
       "25%          7.360000\n",
       "50%         16.180500\n",
       "75%         30.906500\n",
       "max         99.446000\n",
       "Name: EduScore, dtype: float64"
      ]
     },
     "execution_count": 8,
     "metadata": {},
     "output_type": "execute_result"
    }
   ],
   "source": [
    "imd[metric_col].describe()"
   ]
  },
  {
   "cell_type": "code",
   "execution_count": null,
   "metadata": {},
   "outputs": [
    {
     "data": {
      "text/plain": [
       "count    32844.000000\n",
       "mean      1666.307514\n",
       "std        363.622458\n",
       "min        523.000000\n",
       "25%       1446.000000\n",
       "50%       1598.000000\n",
       "75%       1800.000000\n",
       "max       9551.000000\n",
       "Name: TotPop, dtype: float64"
      ]
     },
     "metadata": {},
     "output_type": "display_data"
    }
   ],
   "source": [
    "imd['TotPop'].describe()"
   ]
  },
  {
   "cell_type": "markdown",
   "metadata": {},
   "source": [
    "### Aggregate into MSOA"
   ]
  },
  {
   "cell_type": "code",
   "execution_count": 9,
   "metadata": {},
   "outputs": [
    {
     "name": "stdout",
     "output_type": "stream",
     "text": [
      "(8480, 3)\n"
     ]
    }
   ],
   "source": [
    "base_name = 'infuse_msoa_lyr_2011_clipped'\n",
    "msoa = geopd.read_file(paths.ext_data / base_name / f'{base_name}.shp').set_index('geo_code').rename_axis('msoa_id')\n",
    "print(msoa.shape)"
   ]
  },
  {
   "cell_type": "code",
   "execution_count": 277,
   "metadata": {},
   "outputs": [
    {
     "data": {
      "text/html": [
       "<div>\n",
       "<style scoped>\n",
       "    .dataframe tbody tr th:only-of-type {\n",
       "        vertical-align: middle;\n",
       "    }\n",
       "\n",
       "    .dataframe tbody tr th {\n",
       "        vertical-align: top;\n",
       "    }\n",
       "\n",
       "    .dataframe thead th {\n",
       "        text-align: right;\n",
       "    }\n",
       "</style>\n",
       "<table border=\"1\" class=\"dataframe\">\n",
       "  <thead>\n",
       "    <tr style=\"text-align: right;\">\n",
       "      <th></th>\n",
       "      <th>msoa_id</th>\n",
       "    </tr>\n",
       "    <tr>\n",
       "      <th>lsoa11cd</th>\n",
       "      <th></th>\n",
       "    </tr>\n",
       "  </thead>\n",
       "  <tbody>\n",
       "    <tr>\n",
       "      <th>E01011969</th>\n",
       "      <td>E02002483</td>\n",
       "    </tr>\n",
       "    <tr>\n",
       "      <th>E01011949</th>\n",
       "      <td>E02002491</td>\n",
       "    </tr>\n",
       "    <tr>\n",
       "      <th>E01011970</th>\n",
       "      <td>E02002483</td>\n",
       "    </tr>\n",
       "    <tr>\n",
       "      <th>E01011971</th>\n",
       "      <td>E02002483</td>\n",
       "    </tr>\n",
       "    <tr>\n",
       "      <th>E01011950</th>\n",
       "      <td>E02002490</td>\n",
       "    </tr>\n",
       "  </tbody>\n",
       "</table>\n",
       "</div>"
      ],
      "text/plain": [
       "             msoa_id\n",
       "lsoa11cd            \n",
       "E01011969  E02002483\n",
       "E01011949  E02002491\n",
       "E01011970  E02002483\n",
       "E01011971  E02002483\n",
       "E01011950  E02002490"
      ]
     },
     "execution_count": 277,
     "metadata": {},
     "output_type": "execute_result"
    }
   ],
   "source": [
    "lsoa_to_msoa = pd.read_csv(paths.ext_data / 'Output_Area_to_Lower_Layer_Super_Output_Area_to_Middle_Layer_Super_Output_Area_to_Local_Authority_District__December_2020__Lookup_in_England_and_Wales.csv')\n",
    "lsoa_to_msoa.columns = lsoa_to_msoa.columns.str.lower()\n",
    "cols_mask = lsoa_to_msoa.columns.str.match(r'(l|m)soa.+cd')\n",
    "lsoa_to_msoa = lsoa_to_msoa.loc[:, cols_mask].drop_duplicates().set_index('lsoa11cd')\n",
    "lsoa_to_msoa.columns = lsoa_to_msoa.columns.str.slice_replace(4, None, '_id')\n",
    "lsoa_to_msoa.head()"
   ]
  },
  {
   "cell_type": "code",
   "execution_count": 11,
   "metadata": {},
   "outputs": [],
   "source": [
    "imd = imd.join(lsoa_to_msoa, how='left')"
   ]
  },
  {
   "cell_type": "code",
   "execution_count": 12,
   "metadata": {},
   "outputs": [],
   "source": [
    "grouper = imd.groupby('msoa_id')\n",
    "imd['msoa_pop'] = grouper['TotPop'].transform('sum')\n",
    "imd['wavg_elem'] = imd[metric_col] * imd['TotPop'] / imd['msoa_pop']\n",
    "imd['avg'] = grouper[metric_col].transform('mean')\n",
    "imd['wvar_elem'] = (imd[metric_col] - imd['avg'])**2 * imd['TotPop'] / imd['msoa_pop']\n",
    "msoa_imd = grouper.agg(\n",
    "    wavg=('wavg_elem', 'sum'),\n",
    "    wvar=('wvar_elem', 'mean'),\n",
    "    avg=('avg', 'first'),\n",
    "    var=(metric_col, 'var'),\n",
    "    min=(metric_col, 'min'),\n",
    "    max=(metric_col, 'max'),\n",
    "    pop=('msoa_pop', 'first'),\n",
    ")\n",
    "msoa_imd['wstd'] = np.sqrt(msoa_imd['wvar'])"
   ]
  },
  {
   "cell_type": "code",
   "execution_count": 13,
   "metadata": {},
   "outputs": [
    {
     "data": {
      "text/html": [
       "<div>\n",
       "<style scoped>\n",
       "    .dataframe tbody tr th:only-of-type {\n",
       "        vertical-align: middle;\n",
       "    }\n",
       "\n",
       "    .dataframe tbody tr th {\n",
       "        vertical-align: top;\n",
       "    }\n",
       "\n",
       "    .dataframe thead th {\n",
       "        text-align: right;\n",
       "    }\n",
       "</style>\n",
       "<table border=\"1\" class=\"dataframe\">\n",
       "  <thead>\n",
       "    <tr style=\"text-align: right;\">\n",
       "      <th></th>\n",
       "      <th>wavg</th>\n",
       "      <th>wvar</th>\n",
       "      <th>avg</th>\n",
       "      <th>var</th>\n",
       "      <th>min</th>\n",
       "      <th>max</th>\n",
       "      <th>pop</th>\n",
       "      <th>wstd</th>\n",
       "    </tr>\n",
       "    <tr>\n",
       "      <th>msoa_id</th>\n",
       "      <th></th>\n",
       "      <th></th>\n",
       "      <th></th>\n",
       "      <th></th>\n",
       "      <th></th>\n",
       "      <th></th>\n",
       "      <th></th>\n",
       "      <th></th>\n",
       "    </tr>\n",
       "  </thead>\n",
       "  <tbody>\n",
       "    <tr>\n",
       "      <th>E02000001</th>\n",
       "      <td>0.909384</td>\n",
       "      <td>10.202581</td>\n",
       "      <td>5.36350</td>\n",
       "      <td>72.967058</td>\n",
       "      <td>0.024</td>\n",
       "      <td>22.260</td>\n",
       "      <td>6687</td>\n",
       "      <td>3.194148</td>\n",
       "    </tr>\n",
       "    <tr>\n",
       "      <th>E02000002</th>\n",
       "      <td>7.778841</td>\n",
       "      <td>19.246909</td>\n",
       "      <td>30.48075</td>\n",
       "      <td>102.333271</td>\n",
       "      <td>17.349</td>\n",
       "      <td>38.753</td>\n",
       "      <td>7379</td>\n",
       "      <td>4.387130</td>\n",
       "    </tr>\n",
       "    <tr>\n",
       "      <th>E02000003</th>\n",
       "      <td>2.976738</td>\n",
       "      <td>2.308306</td>\n",
       "      <td>17.61100</td>\n",
       "      <td>17.342949</td>\n",
       "      <td>12.848</td>\n",
       "      <td>23.035</td>\n",
       "      <td>10720</td>\n",
       "      <td>1.519311</td>\n",
       "    </tr>\n",
       "    <tr>\n",
       "      <th>E02000004</th>\n",
       "      <td>5.729982</td>\n",
       "      <td>9.018080</td>\n",
       "      <td>23.15025</td>\n",
       "      <td>51.392207</td>\n",
       "      <td>18.702</td>\n",
       "      <td>33.858</td>\n",
       "      <td>6536</td>\n",
       "      <td>3.003012</td>\n",
       "    </tr>\n",
       "    <tr>\n",
       "      <th>E02000005</th>\n",
       "      <td>5.404532</td>\n",
       "      <td>8.729057</td>\n",
       "      <td>27.56860</td>\n",
       "      <td>51.124119</td>\n",
       "      <td>19.124</td>\n",
       "      <td>37.624</td>\n",
       "      <td>9243</td>\n",
       "      <td>2.954498</td>\n",
       "    </tr>\n",
       "    <tr>\n",
       "      <th>...</th>\n",
       "      <td>...</td>\n",
       "      <td>...</td>\n",
       "      <td>...</td>\n",
       "      <td>...</td>\n",
       "      <td>...</td>\n",
       "      <td>...</td>\n",
       "      <td>...</td>\n",
       "      <td>...</td>\n",
       "    </tr>\n",
       "    <tr>\n",
       "      <th>E02006930</th>\n",
       "      <td>1.583553</td>\n",
       "      <td>3.187740</td>\n",
       "      <td>6.79025</td>\n",
       "      <td>19.861708</td>\n",
       "      <td>3.229</td>\n",
       "      <td>13.311</td>\n",
       "      <td>7537</td>\n",
       "      <td>1.785424</td>\n",
       "    </tr>\n",
       "    <tr>\n",
       "      <th>E02006931</th>\n",
       "      <td>1.303344</td>\n",
       "      <td>3.254671</td>\n",
       "      <td>6.18140</td>\n",
       "      <td>19.642651</td>\n",
       "      <td>1.047</td>\n",
       "      <td>12.399</td>\n",
       "      <td>9405</td>\n",
       "      <td>1.804071</td>\n",
       "    </tr>\n",
       "    <tr>\n",
       "      <th>E02006932</th>\n",
       "      <td>5.488467</td>\n",
       "      <td>44.602976</td>\n",
       "      <td>22.97760</td>\n",
       "      <td>237.947663</td>\n",
       "      <td>4.158</td>\n",
       "      <td>43.037</td>\n",
       "      <td>12651</td>\n",
       "      <td>6.678546</td>\n",
       "    </tr>\n",
       "    <tr>\n",
       "      <th>E02006933</th>\n",
       "      <td>5.035665</td>\n",
       "      <td>118.847686</td>\n",
       "      <td>21.41000</td>\n",
       "      <td>704.611932</td>\n",
       "      <td>2.385</td>\n",
       "      <td>59.571</td>\n",
       "      <td>6703</td>\n",
       "      <td>10.901729</td>\n",
       "    </tr>\n",
       "    <tr>\n",
       "      <th>E02006934</th>\n",
       "      <td>4.453099</td>\n",
       "      <td>43.378722</td>\n",
       "      <td>16.47725</td>\n",
       "      <td>201.771968</td>\n",
       "      <td>8.158</td>\n",
       "      <td>37.738</td>\n",
       "      <td>6878</td>\n",
       "      <td>6.586252</td>\n",
       "    </tr>\n",
       "  </tbody>\n",
       "</table>\n",
       "<p>6791 rows × 8 columns</p>\n",
       "</div>"
      ],
      "text/plain": [
       "               wavg        wvar       avg         var     min     max    pop  \\\n",
       "msoa_id                                                                        \n",
       "E02000001  0.909384   10.202581   5.36350   72.967058   0.024  22.260   6687   \n",
       "E02000002  7.778841   19.246909  30.48075  102.333271  17.349  38.753   7379   \n",
       "E02000003  2.976738    2.308306  17.61100   17.342949  12.848  23.035  10720   \n",
       "E02000004  5.729982    9.018080  23.15025   51.392207  18.702  33.858   6536   \n",
       "E02000005  5.404532    8.729057  27.56860   51.124119  19.124  37.624   9243   \n",
       "...             ...         ...       ...         ...     ...     ...    ...   \n",
       "E02006930  1.583553    3.187740   6.79025   19.861708   3.229  13.311   7537   \n",
       "E02006931  1.303344    3.254671   6.18140   19.642651   1.047  12.399   9405   \n",
       "E02006932  5.488467   44.602976  22.97760  237.947663   4.158  43.037  12651   \n",
       "E02006933  5.035665  118.847686  21.41000  704.611932   2.385  59.571   6703   \n",
       "E02006934  4.453099   43.378722  16.47725  201.771968   8.158  37.738   6878   \n",
       "\n",
       "                wstd  \n",
       "msoa_id               \n",
       "E02000001   3.194148  \n",
       "E02000002   4.387130  \n",
       "E02000003   1.519311  \n",
       "E02000004   3.003012  \n",
       "E02000005   2.954498  \n",
       "...              ...  \n",
       "E02006930   1.785424  \n",
       "E02006931   1.804071  \n",
       "E02006932   6.678546  \n",
       "E02006933  10.901729  \n",
       "E02006934   6.586252  \n",
       "\n",
       "[6791 rows x 8 columns]"
      ]
     },
     "execution_count": 13,
     "metadata": {},
     "output_type": "execute_result"
    }
   ],
   "source": [
    "msoa_imd"
   ]
  },
  {
   "cell_type": "code",
   "execution_count": 13,
   "metadata": {},
   "outputs": [
    {
     "data": {
      "text/plain": [
       "count    6791.000000\n",
       "mean        3.661148\n",
       "std         2.536428\n",
       "min         0.000000\n",
       "25%         1.701512\n",
       "50%         3.064247\n",
       "75%         5.094203\n",
       "max        18.475722\n",
       "Name: wstd, dtype: float64"
      ]
     },
     "execution_count": 13,
     "metadata": {},
     "output_type": "execute_result"
    }
   ],
   "source": [
    "msoa_imd['wstd'].describe()"
   ]
  },
  {
   "cell_type": "code",
   "execution_count": 15,
   "metadata": {},
   "outputs": [
    {
     "data": {
      "text/plain": [
       "count     6791.000000\n",
       "mean      8058.931527\n",
       "std       1772.452425\n",
       "min       2335.000000\n",
       "25%       6722.000000\n",
       "50%       7834.000000\n",
       "75%       9064.500000\n",
       "max      18534.000000\n",
       "Name: pop, dtype: float64"
      ]
     },
     "execution_count": 15,
     "metadata": {},
     "output_type": "execute_result"
    }
   ],
   "source": [
    "# checked min and max in 2015 edition of https://www.ons.gov.uk/peoplepopulationandcommunity/populationandmigration/populationestimates/datasets/middlesuperoutputareamidyearpopulationestimates\n",
    "msoa_imd['pop'].describe()"
   ]
  },
  {
   "cell_type": "code",
   "execution_count": 15,
   "metadata": {},
   "outputs": [],
   "source": [
    "msoa_gdf = msoa.join(msoa_imd, how='inner')"
   ]
  },
  {
   "cell_type": "code",
   "execution_count": 58,
   "metadata": {},
   "outputs": [],
   "source": [
    "simplified_mgeoms = msoa_gdf.geometry.simplify(50).to_crs('epsg:4326').rename('geometry')"
   ]
  },
  {
   "cell_type": "code",
   "execution_count": null,
   "metadata": {},
   "outputs": [],
   "source": [
    "plot_gdf = geopd.GeoDataFrame(msoa_imd.join(simplified_mgeoms, how='inner'))"
   ]
  },
  {
   "cell_type": "code",
   "execution_count": null,
   "metadata": {},
   "outputs": [],
   "source": [
    "m = plot_gdf.explore('wstd')"
   ]
  },
  {
   "cell_type": "code",
   "execution_count": null,
   "metadata": {},
   "outputs": [],
   "source": [
    "m.save(paths.figs / 'imd_msoa.html')"
   ]
  },
  {
   "cell_type": "code",
   "execution_count": 17,
   "metadata": {},
   "outputs": [
    {
     "data": {
      "text/plain": [
       "(6791, 11)"
      ]
     },
     "execution_count": 17,
     "metadata": {},
     "output_type": "execute_result"
    }
   ],
   "source": [
    "msoa_gdf.shape"
   ]
  },
  {
   "cell_type": "markdown",
   "metadata": {},
   "source": [
    "### Spatial aggregate by hand"
   ]
  },
  {
   "cell_type": "code",
   "execution_count": 436,
   "metadata": {},
   "outputs": [
    {
     "name": "stderr",
     "output_type": "stream",
     "text": [
      "/home/thomaslouf/.conda/envs/ses-ling/lib/python3.9/site-packages/libpysal/weights/weights.py:172: UserWarning: The weights matrix is not fully connected: \n",
      " There are 9 disconnected components.\n",
      " There are 2 islands with ids: 18535, 26052.\n",
      "  warnings.warn(message)\n"
     ]
    }
   ],
   "source": [
    "w = Rook.from_dataframe(imd)"
   ]
  },
  {
   "cell_type": "code",
   "execution_count": 232,
   "metadata": {},
   "outputs": [],
   "source": [
    "comp_ids, comp_inv, comp_counts = np.unique(w.component_labels, return_inverse=True, return_counts=True)\n",
    "biggest_comp = comp_ids[comp_counts.argmax()]\n",
    "idc_biggest_comp = np.nonzero(w.component_labels == biggest_comp)"
   ]
  },
  {
   "cell_type": "code",
   "execution_count": 82,
   "metadata": {},
   "outputs": [
    {
     "data": {
      "text/plain": [
       "array([0., 0., 0., ..., 0., 0., 0.])"
      ]
     },
     "execution_count": 82,
     "metadata": {},
     "output_type": "execute_result"
    }
   ],
   "source": [
    "full_w = w.full()[0]"
   ]
  },
  {
   "cell_type": "code",
   "execution_count": 84,
   "metadata": {},
   "outputs": [],
   "source": [
    "# comp_w = full_w[idc_biggest_comp[:, np.newaxis], idc_biggest_comp]\n",
    "comp_w = full_w[idc_biggest_comp, idc_biggest_comp[0]]"
   ]
  },
  {
   "cell_type": "code",
   "execution_count": 85,
   "metadata": {},
   "outputs": [
    {
     "data": {
      "text/plain": [
       "(32650, 32650)"
      ]
     },
     "execution_count": 85,
     "metadata": {},
     "output_type": "execute_result"
    }
   ],
   "source": [
    "comp_w.shape"
   ]
  },
  {
   "cell_type": "code",
   "execution_count": 174,
   "metadata": {},
   "outputs": [],
   "source": [
    "from scipy import sparse\n",
    "connectivity = sparse.lil_matrix(comp_w)"
   ]
  },
  {
   "cell_type": "markdown",
   "metadata": {},
   "source": [
    "when two clusters are merged, need to add to the heap `inertia` and structure matrix `A` the distances not calcuated before between unconnected points. But can't edit heap, and checking every time you pop defeats the purpose of a heapq. Nah but just have to push the right distance on L243. This implies either filling A with all pairwise distances or alculating them on the fly"
   ]
  },
  {
   "cell_type": "code",
   "execution_count": 408,
   "metadata": {},
   "outputs": [
    {
     "name": "stdout",
     "output_type": "stream",
     "text": [
      "1.20248995732655\n"
     ]
    }
   ],
   "source": [
    "import numpy as np\n",
    "import pandas as pd\n",
    "from sklearn.cluster import AgglomerativeClustering\n",
    "\n",
    "rng = np.random.RandomState(0)\n",
    "n_samples = 100\n",
    "conn = np.ones([n_samples, n_samples], dtype=bool)\n",
    "# Add some random sparsity, 70% at most\n",
    "masked = (rng.random((n_samples, 70)) * n_samples).astype(int)\n",
    "for i, nbh in enumerate(masked):\n",
    "    conn[i, nbh] = False\n",
    "    conn[nbh, i] = False\n",
    "X = rng.randn(n_samples, 1)\n",
    "clustering = AgglomerativeClustering(\n",
    "    n_clusters=None,\n",
    "    distance_threshold=1,\n",
    "    connectivity=conn,\n",
    "    linkage='complete',\n",
    "    affinity='l1',\n",
    ")\n",
    "clustering.fit(X)\n",
    "df = pd.DataFrame({'labels': clustering.labels_, 'x': X.flatten()})\n",
    "clustered_df = df.groupby('labels').agg(**{op: ('x', op) for op in ['min', 'max']})\n",
    "# This should be < distance_threshold\n",
    "print((clustered_df['max'] - clustered_df['min']).max())"
   ]
  },
  {
   "cell_type": "code",
   "execution_count": 437,
   "metadata": {},
   "outputs": [
    {
     "name": "stderr",
     "output_type": "stream",
     "text": [
      "/home/thomaslouf/.conda/envs/ses-ling/lib/python3.9/site-packages/sklearn/cluster/_agglomerative.py:549: UserWarning: the number of connected components of the connectivity matrix is 9 > 1. Completing it to avoid stopping the tree early.\n",
      "  connectivity, n_connected_components = _fix_connectivity(\n"
     ]
    },
    {
     "data": {
      "text/html": [
       "<style>#sk-container-id-22 {color: black;background-color: white;}#sk-container-id-22 pre{padding: 0;}#sk-container-id-22 div.sk-toggleable {background-color: white;}#sk-container-id-22 label.sk-toggleable__label {cursor: pointer;display: block;width: 100%;margin-bottom: 0;padding: 0.3em;box-sizing: border-box;text-align: center;}#sk-container-id-22 label.sk-toggleable__label-arrow:before {content: \"▸\";float: left;margin-right: 0.25em;color: #696969;}#sk-container-id-22 label.sk-toggleable__label-arrow:hover:before {color: black;}#sk-container-id-22 div.sk-estimator:hover label.sk-toggleable__label-arrow:before {color: black;}#sk-container-id-22 div.sk-toggleable__content {max-height: 0;max-width: 0;overflow: hidden;text-align: left;background-color: #f0f8ff;}#sk-container-id-22 div.sk-toggleable__content pre {margin: 0.2em;color: black;border-radius: 0.25em;background-color: #f0f8ff;}#sk-container-id-22 input.sk-toggleable__control:checked~div.sk-toggleable__content {max-height: 200px;max-width: 100%;overflow: auto;}#sk-container-id-22 input.sk-toggleable__control:checked~label.sk-toggleable__label-arrow:before {content: \"▾\";}#sk-container-id-22 div.sk-estimator input.sk-toggleable__control:checked~label.sk-toggleable__label {background-color: #d4ebff;}#sk-container-id-22 div.sk-label input.sk-toggleable__control:checked~label.sk-toggleable__label {background-color: #d4ebff;}#sk-container-id-22 input.sk-hidden--visually {border: 0;clip: rect(1px 1px 1px 1px);clip: rect(1px, 1px, 1px, 1px);height: 1px;margin: -1px;overflow: hidden;padding: 0;position: absolute;width: 1px;}#sk-container-id-22 div.sk-estimator {font-family: monospace;background-color: #f0f8ff;border: 1px dotted black;border-radius: 0.25em;box-sizing: border-box;margin-bottom: 0.5em;}#sk-container-id-22 div.sk-estimator:hover {background-color: #d4ebff;}#sk-container-id-22 div.sk-parallel-item::after {content: \"\";width: 100%;border-bottom: 1px solid gray;flex-grow: 1;}#sk-container-id-22 div.sk-label:hover label.sk-toggleable__label {background-color: #d4ebff;}#sk-container-id-22 div.sk-serial::before {content: \"\";position: absolute;border-left: 1px solid gray;box-sizing: border-box;top: 0;bottom: 0;left: 50%;z-index: 0;}#sk-container-id-22 div.sk-serial {display: flex;flex-direction: column;align-items: center;background-color: white;padding-right: 0.2em;padding-left: 0.2em;position: relative;}#sk-container-id-22 div.sk-item {position: relative;z-index: 1;}#sk-container-id-22 div.sk-parallel {display: flex;align-items: stretch;justify-content: center;background-color: white;position: relative;}#sk-container-id-22 div.sk-item::before, #sk-container-id-22 div.sk-parallel-item::before {content: \"\";position: absolute;border-left: 1px solid gray;box-sizing: border-box;top: 0;bottom: 0;left: 50%;z-index: -1;}#sk-container-id-22 div.sk-parallel-item {display: flex;flex-direction: column;z-index: 1;position: relative;background-color: white;}#sk-container-id-22 div.sk-parallel-item:first-child::after {align-self: flex-end;width: 50%;}#sk-container-id-22 div.sk-parallel-item:last-child::after {align-self: flex-start;width: 50%;}#sk-container-id-22 div.sk-parallel-item:only-child::after {width: 0;}#sk-container-id-22 div.sk-dashed-wrapped {border: 1px dashed gray;margin: 0 0.4em 0.5em 0.4em;box-sizing: border-box;padding-bottom: 0.4em;background-color: white;}#sk-container-id-22 div.sk-label label {font-family: monospace;font-weight: bold;display: inline-block;line-height: 1.2em;}#sk-container-id-22 div.sk-label-container {text-align: center;}#sk-container-id-22 div.sk-container {/* jupyter's `normalize.less` sets `[hidden] { display: none; }` but bootstrap.min.css set `[hidden] { display: none !important; }` so we also need the `!important` here to be able to override the default hidden behavior on the sphinx rendered scikit-learn.org. See: https://github.com/scikit-learn/scikit-learn/issues/21755 */display: inline-block !important;position: relative;}#sk-container-id-22 div.sk-text-repr-fallback {display: none;}</style><div id=\"sk-container-id-22\" class=\"sk-top-container\"><div class=\"sk-text-repr-fallback\"><pre>AgglomerativeClustering(affinity=&#x27;l1&#x27;,\n",
       "                        connectivity=&lt;32844x32844 sparse matrix of type &#x27;&lt;class &#x27;numpy.float64&#x27;&gt;&#x27;\n",
       "\twith 189220 stored elements in Compressed Sparse Row format&gt;,\n",
       "                        distance_threshold=5, linkage=&#x27;complete&#x27;,\n",
       "                        n_clusters=None)</pre><b>In a Jupyter environment, please rerun this cell to show the HTML representation or trust the notebook. <br />On GitHub, the HTML representation is unable to render, please try loading this page with nbviewer.org.</b></div><div class=\"sk-container\" hidden><div class=\"sk-item\"><div class=\"sk-estimator sk-toggleable\"><input class=\"sk-toggleable__control sk-hidden--visually\" id=\"sk-estimator-id-22\" type=\"checkbox\" checked><label for=\"sk-estimator-id-22\" class=\"sk-toggleable__label sk-toggleable__label-arrow\">AgglomerativeClustering</label><div class=\"sk-toggleable__content\"><pre>AgglomerativeClustering(affinity=&#x27;l1&#x27;,\n",
       "                        connectivity=&lt;32844x32844 sparse matrix of type &#x27;&lt;class &#x27;numpy.float64&#x27;&gt;&#x27;\n",
       "\twith 189220 stored elements in Compressed Sparse Row format&gt;,\n",
       "                        distance_threshold=5, linkage=&#x27;complete&#x27;,\n",
       "                        n_clusters=None)</pre></div></div></div></div></div>"
      ],
      "text/plain": [
       "AgglomerativeClustering(affinity='l1',\n",
       "                        connectivity=<32844x32844 sparse matrix of type '<class 'numpy.float64'>'\n",
       "\twith 189220 stored elements in Compressed Sparse Row format>,\n",
       "                        distance_threshold=5, linkage='complete',\n",
       "                        n_clusters=None)"
      ]
     },
     "execution_count": 437,
     "metadata": {},
     "output_type": "execute_result"
    }
   ],
   "source": [
    "connectivity = w.sparse\n",
    "idc_biggest_comp = (np.arange(imd.shape[0]), )\n",
    "model = AgglomerativeClustering(\n",
    "    n_clusters=None,\n",
    "    connectivity=connectivity,\n",
    "    linkage=\"complete\",\n",
    "    distance_threshold=5,\n",
    "    affinity='l1',\n",
    ")\n",
    "model.fit(imd[[metric_col]].values[idc_biggest_comp])\n",
    "# model = WardSpatial(wimd, w, [metric_col], n_clusters=None, clustering_kwds={'distance_threshold': 200})\n",
    "# model.solve()\n",
    "# imd['labels'] = model.labels_"
   ]
  },
  {
   "cell_type": "code",
   "execution_count": 446,
   "metadata": {},
   "outputs": [],
   "source": [
    "comp_imd = imd.iloc[idc_biggest_comp[0]].copy()\n",
    "comp_imd['labels'] = model.labels_"
   ]
  },
  {
   "cell_type": "code",
   "execution_count": 448,
   "metadata": {},
   "outputs": [
    {
     "name": "stdout",
     "output_type": "stream",
     "text": [
      "24.389\n",
      "(12198, 4) (32844, 68)\n"
     ]
    }
   ],
   "source": [
    "clustered_imd = comp_imd.groupby('labels').agg(**{k: (metric_col, k) for k in ['mean', 'min', 'max', 'size']})\n",
    "print((clustered_imd['max'] - clustered_imd['min']).max())\n",
    "print(clustered_imd.shape, comp_imd.shape)"
   ]
  },
  {
   "cell_type": "markdown",
   "metadata": {},
   "source": [
    "when connectivity, distance is not direct but through \"path\" has to take to join originally disconnected nodes, which fro complete linkage should be highes tdistance along this path"
   ]
  },
  {
   "cell_type": "markdown",
   "metadata": {},
   "source": [
    "all following is consistent, so problem is actual values of distances"
   ]
  },
  {
   "cell_type": "code",
   "execution_count": 240,
   "metadata": {},
   "outputs": [],
   "source": [
    "mask_pb_label = comp_imd['labels'] == clustered_imd.index[(clustered_imd['max'] - clustered_imd['min']).argmax()]\n",
    "idc_pb = np.nonzero(mask_pb_label.values)"
   ]
  },
  {
   "cell_type": "code",
   "execution_count": 250,
   "metadata": {},
   "outputs": [
    {
     "data": {
      "text/plain": [
       "7.823999999999999"
      ]
     },
     "execution_count": 250,
     "metadata": {},
     "output_type": "execute_result"
    }
   ],
   "source": [
    "max_d = 0\n",
    "max_i = 0\n",
    "for i in idc_pb[0]:\n",
    "    mask = comp_w[idc_pb[0], i].astype(bool)\n",
    "    values_in_nb = comp_imd[metric_col].iloc[idc_pb[0][mask]]\n",
    "    d = values_in_nb.max() - values_in_nb.min()\n",
    "    if d > max_d:\n",
    "        max_d = d\n",
    "        max_i = i\n",
    "max_d"
   ]
  },
  {
   "cell_type": "code",
   "execution_count": 252,
   "metadata": {},
   "outputs": [],
   "source": [
    "mask = comp_w[idc_pb[0], max_i].astype(bool)\n",
    "values_in_nb = comp_imd[metric_col].iloc[idc_pb[0][mask]]"
   ]
  },
  {
   "cell_type": "code",
   "execution_count": 256,
   "metadata": {},
   "outputs": [
    {
     "data": {
      "text/html": [
       "<div>\n",
       "<style scoped>\n",
       "    .dataframe tbody tr th:only-of-type {\n",
       "        vertical-align: middle;\n",
       "    }\n",
       "\n",
       "    .dataframe tbody tr th {\n",
       "        vertical-align: top;\n",
       "    }\n",
       "\n",
       "    .dataframe thead th {\n",
       "        text-align: right;\n",
       "    }\n",
       "</style>\n",
       "<table border=\"1\" class=\"dataframe\">\n",
       "  <thead>\n",
       "    <tr style=\"text-align: right;\">\n",
       "      <th></th>\n",
       "      <th>labels</th>\n",
       "      <th>EduScore</th>\n",
       "    </tr>\n",
       "  </thead>\n",
       "  <tbody>\n",
       "    <tr>\n",
       "      <th>4075</th>\n",
       "      <td>251</td>\n",
       "      <td>14.854</td>\n",
       "    </tr>\n",
       "    <tr>\n",
       "      <th>4085</th>\n",
       "      <td>251</td>\n",
       "      <td>7.030</td>\n",
       "    </tr>\n",
       "    <tr>\n",
       "      <th>5099</th>\n",
       "      <td>251</td>\n",
       "      <td>13.722</td>\n",
       "    </tr>\n",
       "  </tbody>\n",
       "</table>\n",
       "</div>"
      ],
      "text/plain": [
       "      labels  EduScore\n",
       "4075     251    14.854\n",
       "4085     251     7.030\n",
       "5099     251    13.722"
      ]
     },
     "execution_count": 256,
     "metadata": {},
     "output_type": "execute_result"
    }
   ],
   "source": [
    "comp_imd.iloc[[4075, 4085, 5099]][['labels', metric_col]]"
   ]
  },
  {
   "cell_type": "code",
   "execution_count": 253,
   "metadata": {},
   "outputs": [
    {
     "data": {
      "text/plain": [
       "4075    14.854\n",
       "4085     7.030\n",
       "5099    13.722\n",
       "Name: EduScore, dtype: float64"
      ]
     },
     "execution_count": 253,
     "metadata": {},
     "output_type": "execute_result"
    }
   ],
   "source": [
    "values_in_nb"
   ]
  },
  {
   "cell_type": "code",
   "execution_count": 249,
   "metadata": {},
   "outputs": [
    {
     "data": {
      "text/plain": [
       "11217    1.076\n",
       "11238    1.270\n",
       "11851    3.356\n",
       "32085    3.708\n",
       "Name: EduScore, dtype: float64"
      ]
     },
     "execution_count": 249,
     "metadata": {},
     "output_type": "execute_result"
    }
   ],
   "source": [
    "comp_imd[metric_col].iloc[idc_pb[0][mask]]"
   ]
  },
  {
   "cell_type": "code",
   "execution_count": 199,
   "metadata": {},
   "outputs": [
    {
     "data": {
      "text/plain": [
       "mean     6.808525\n",
       "min      2.884000\n",
       "max     11.566000\n",
       "size    59.000000\n",
       "Name: 223, dtype: float64"
      ]
     },
     "execution_count": 199,
     "metadata": {},
     "output_type": "execute_result"
    }
   ],
   "source": [
    "clustered_imd.iloc[223]"
   ]
  },
  {
   "cell_type": "code",
   "execution_count": 450,
   "metadata": {},
   "outputs": [],
   "source": [
    "clustered_imd = comp_imd[['labels', 'geometry']].dissolve(by='labels').join(clustered_imd)\n",
    "# weighted average (by pop) instead of normal one?"
   ]
  },
  {
   "cell_type": "code",
   "execution_count": 452,
   "metadata": {},
   "outputs": [],
   "source": [
    "map = clustered_imd.explore('mean')"
   ]
  },
  {
   "cell_type": "code",
   "execution_count": 453,
   "metadata": {},
   "outputs": [],
   "source": [
    "map.save(paths.figs / 'agg_lsoa.html')"
   ]
  },
  {
   "cell_type": "markdown",
   "metadata": {},
   "source": [
    "# Attribution"
   ]
  },
  {
   "cell_type": "markdown",
   "metadata": {},
   "source": [
    "## Get places to cells matching"
   ]
  },
  {
   "cell_type": "code",
   "execution_count": 104,
   "metadata": {},
   "outputs": [],
   "source": [
    "base_name = 'Middle_Layer_Super_Output_Areas_(December_2011)_Boundaries_Generalised_Clipped_(BGC)_EW_V3'\n",
    "cells_gdf = geopd.read_file(paths.ext_data / base_name / f'{base_name}.shp').set_index('MSOA11CD').rename_axis('cell_id').rename(columns={'Shape__Are': 'area'})"
   ]
  },
  {
   "cell_type": "code",
   "execution_count": null,
   "metadata": {},
   "outputs": [],
   "source": [
    "region_geo = cells_gdf.geometry.unary_union"
   ]
  },
  {
   "cell_type": "code",
   "execution_count": 105,
   "metadata": {},
   "outputs": [],
   "source": [
    "# area_col_mask = cells_gdf.columns.str.lower().str.endswith('area')\n",
    "# if area_col_mask.any():\n",
    "if 'area' not in cells_gdf.columns:\n",
    "    cells_gdf['area'] = cells_gdf.area\n",
    "latlon_cells_gdf = cells_gdf.to_crs('epsg:4326')"
   ]
  },
  {
   "cell_type": "code",
   "execution_count": 79,
   "metadata": {},
   "outputs": [
    {
     "name": "stderr",
     "output_type": "stream",
     "text": [
      "134923it [00:12, 10594.36it/s]\n"
     ]
    }
   ],
   "source": [
    "places_filter = qr.Filter().equals('country_code', cc)\n",
    "tweets_filter = qr.Filter().not_exists('coordinates.coordinates')\n",
    "places_gdf = data_access.agg_places_from_mongo(year_from, year_to, places_filter, tweets_colls=colls, tweets_filter=tweets_filter)"
   ]
  },
  {
   "cell_type": "code",
   "execution_count": 113,
   "metadata": {},
   "outputs": [],
   "source": [
    "point_places_mask = places_gdf.geom_type == 'Point'\n",
    "pt_places_to_cells = places_gdf.loc[point_places_mask].sjoin(latlon_cells_gdf, predicate='intersects')['index_right'].rename(latlon_cells_gdf.index.name)"
   ]
  },
  {
   "cell_type": "code",
   "execution_count": 121,
   "metadata": {},
   "outputs": [],
   "source": [
    "xy_poly_places = places_gdf.loc[~point_places_mask].to_crs(xy_proj)"
   ]
  },
  {
   "cell_type": "code",
   "execution_count": 126,
   "metadata": {},
   "outputs": [],
   "source": [
    "xy_poly_places['area'] = xy_poly_places.area"
   ]
  },
  {
   "cell_type": "markdown",
   "metadata": {},
   "source": [
    "Handle places from bordering countries in same collection, and those overlapping the sea"
   ]
  },
  {
   "cell_type": "code",
   "execution_count": 187,
   "metadata": {},
   "outputs": [],
   "source": [
    "cells_gdf['cell_id'] = cells_gdf.index\n",
    "poly_places_to_cells = xy_poly_places[['geometry', 'id', 'area']].overlay(\n",
    "    cells_gdf[['geometry', 'cell_id']], how='intersection'\n",
    ")\n",
    "poly_places_to_cells['area_overlap'] = poly_places_to_cells.area"
   ]
  },
  {
   "cell_type": "code",
   "execution_count": 195,
   "metadata": {},
   "outputs": [],
   "source": [
    "poly_places_to_cells['ratio_overlap'] = poly_places_to_cells['area_overlap'] / poly_places_to_cells['area']\n",
    "poly_places_to_cells['ratio_clipped_overlap'] = poly_places_to_cells['area_overlap'] / poly_places_to_cells.groupby('id')['area_overlap'].transform('sum')"
   ]
  },
  {
   "cell_type": "code",
   "execution_count": null,
   "metadata": {},
   "outputs": [],
   "source": [
    "poly_places_to_cells = poly_places_to_cells.set_index(['id', 'cell_id']).sort_index().drop(columns='geometry')"
   ]
  },
  {
   "cell_type": "code",
   "execution_count": 214,
   "metadata": {},
   "outputs": [],
   "source": [
    "place_reg_overlap = poly_places_to_cells.groupby('id')['ratio_overlap'].sum()\n",
    "idc_foreign_places = poly_places_to_cells.index.levels[0][place_reg_overlap < 0.6]\n",
    "poly_places_to_cells = poly_places_to_cells.drop(index=idc_foreign_places, level='id')"
   ]
  },
  {
   "cell_type": "code",
   "execution_count": 215,
   "metadata": {},
   "outputs": [
    {
     "data": {
      "text/html": [
       "<div>\n",
       "<style scoped>\n",
       "    .dataframe tbody tr th:only-of-type {\n",
       "        vertical-align: middle;\n",
       "    }\n",
       "\n",
       "    .dataframe tbody tr th {\n",
       "        vertical-align: top;\n",
       "    }\n",
       "\n",
       "    .dataframe thead th {\n",
       "        text-align: right;\n",
       "    }\n",
       "</style>\n",
       "<table border=\"1\" class=\"dataframe\">\n",
       "  <thead>\n",
       "    <tr style=\"text-align: right;\">\n",
       "      <th></th>\n",
       "      <th></th>\n",
       "      <th>area</th>\n",
       "      <th>area_overlap</th>\n",
       "      <th>ratio_overlap</th>\n",
       "      <th>ratio_clipped_overlap</th>\n",
       "    </tr>\n",
       "    <tr>\n",
       "      <th>id</th>\n",
       "      <th>cell_id</th>\n",
       "      <th></th>\n",
       "      <th></th>\n",
       "      <th></th>\n",
       "      <th></th>\n",
       "    </tr>\n",
       "  </thead>\n",
       "  <tbody>\n",
       "    <tr>\n",
       "      <th rowspan=\"2\" valign=\"top\">0001878dda20c9d3</th>\n",
       "      <th>W02000108</th>\n",
       "      <td>4.860228e+05</td>\n",
       "      <td>4.545820e+05</td>\n",
       "      <td>0.93531</td>\n",
       "      <td>0.93531</td>\n",
       "    </tr>\n",
       "    <tr>\n",
       "      <th>W02000110</th>\n",
       "      <td>4.860228e+05</td>\n",
       "      <td>3.144076e+04</td>\n",
       "      <td>0.06469</td>\n",
       "      <td>0.06469</td>\n",
       "    </tr>\n",
       "    <tr>\n",
       "      <th>000543740a1a65b5</th>\n",
       "      <th>E02005514</th>\n",
       "      <td>7.914599e+05</td>\n",
       "      <td>7.914599e+05</td>\n",
       "      <td>1.00000</td>\n",
       "      <td>1.00000</td>\n",
       "    </tr>\n",
       "    <tr>\n",
       "      <th>0008ac25d92c0023</th>\n",
       "      <th>E02006111</th>\n",
       "      <td>1.170080e+06</td>\n",
       "      <td>1.170080e+06</td>\n",
       "      <td>1.00000</td>\n",
       "      <td>1.00000</td>\n",
       "    </tr>\n",
       "    <tr>\n",
       "      <th>000ab548b8bc815c</th>\n",
       "      <th>E02006640</th>\n",
       "      <td>5.809608e+05</td>\n",
       "      <td>5.809608e+05</td>\n",
       "      <td>1.00000</td>\n",
       "      <td>1.00000</td>\n",
       "    </tr>\n",
       "  </tbody>\n",
       "</table>\n",
       "</div>"
      ],
      "text/plain": [
       "                                    area  area_overlap  ratio_overlap  \\\n",
       "id               cell_id                                                \n",
       "0001878dda20c9d3 W02000108  4.860228e+05  4.545820e+05        0.93531   \n",
       "                 W02000110  4.860228e+05  3.144076e+04        0.06469   \n",
       "000543740a1a65b5 E02005514  7.914599e+05  7.914599e+05        1.00000   \n",
       "0008ac25d92c0023 E02006111  1.170080e+06  1.170080e+06        1.00000   \n",
       "000ab548b8bc815c E02006640  5.809608e+05  5.809608e+05        1.00000   \n",
       "\n",
       "                            ratio_clipped_overlap  \n",
       "id               cell_id                           \n",
       "0001878dda20c9d3 W02000108                0.93531  \n",
       "                 W02000110                0.06469  \n",
       "000543740a1a65b5 E02005514                1.00000  \n",
       "0008ac25d92c0023 E02006111                1.00000  \n",
       "000ab548b8bc815c E02006640                1.00000  "
      ]
     },
     "execution_count": 215,
     "metadata": {},
     "output_type": "execute_result"
    }
   ],
   "source": [
    "poly_places_to_cells.head()"
   ]
  },
  {
   "cell_type": "code",
   "execution_count": 252,
   "metadata": {},
   "outputs": [],
   "source": [
    "# since groubpy preserves order within each group, the cumsum is computed from the\n",
    "# largest to the smallest value in each group. Then we take the first four (at most, if\n",
    "# there are fewer rows they are kept, unlike when using `nth`), in order to take the\n",
    "# fourth. For each place, this value then corresponds to the total ratio of overlap of\n",
    "# the place summed over the 4 cells it overlaps the most with.\n",
    "ntop = 2\n",
    "places_top_cells_cumoverlap = poly_places_to_cells.sort_values(by='ratio_overlap', ascending=False).groupby('id').cumsum().groupby('id')['ratio_clipped_overlap'].head(ntop).groupby('id').last()\n",
    "places_to_remove = places_top_cells_cumoverlap.index[places_top_cells_cumoverlap < 0.9]"
   ]
  },
  {
   "cell_type": "code",
   "execution_count": 249,
   "metadata": {},
   "outputs": [
    {
     "data": {
      "text/plain": [
       "31.886827999999998"
      ]
     },
     "execution_count": 249,
     "metadata": {},
     "output_type": "execute_result"
    }
   ],
   "source": [
    "places_gdf.loc[places_top_cells_cumoverlap.index].loc[places_top_cells_cumoverlap < 0.9, 'nr_tweets'].sum() * 1e-6"
   ]
  },
  {
   "cell_type": "code",
   "execution_count": 268,
   "metadata": {},
   "outputs": [],
   "source": [
    "places_to_cells = pd.concat([\n",
    "    pt_places_to_cells.to_frame().assign(ratio=1).set_index('cell_id', append=True),\n",
    "    poly_places_to_cells['ratio_clipped_overlap'].rename('ratio').drop(index=places_to_remove, level='id').to_frame()\n",
    "]).sort_index()"
   ]
  },
  {
   "cell_type": "code",
   "execution_count": 270,
   "metadata": {},
   "outputs": [
    {
     "data": {
      "text/html": [
       "<div>\n",
       "<style scoped>\n",
       "    .dataframe tbody tr th:only-of-type {\n",
       "        vertical-align: middle;\n",
       "    }\n",
       "\n",
       "    .dataframe tbody tr th {\n",
       "        vertical-align: top;\n",
       "    }\n",
       "\n",
       "    .dataframe thead th {\n",
       "        text-align: right;\n",
       "    }\n",
       "</style>\n",
       "<table border=\"1\" class=\"dataframe\">\n",
       "  <thead>\n",
       "    <tr style=\"text-align: right;\">\n",
       "      <th></th>\n",
       "      <th></th>\n",
       "      <th>ratio</th>\n",
       "    </tr>\n",
       "    <tr>\n",
       "      <th>id</th>\n",
       "      <th>cell_id</th>\n",
       "      <th></th>\n",
       "    </tr>\n",
       "  </thead>\n",
       "  <tbody>\n",
       "    <tr>\n",
       "      <th rowspan=\"2\" valign=\"top\">0001878dda20c9d3</th>\n",
       "      <th>W02000108</th>\n",
       "      <td>0.93531</td>\n",
       "    </tr>\n",
       "    <tr>\n",
       "      <th>W02000110</th>\n",
       "      <td>0.06469</td>\n",
       "    </tr>\n",
       "    <tr>\n",
       "      <th>000543740a1a65b5</th>\n",
       "      <th>E02005514</th>\n",
       "      <td>1.00000</td>\n",
       "    </tr>\n",
       "    <tr>\n",
       "      <th>0008ac25d92c0023</th>\n",
       "      <th>E02006111</th>\n",
       "      <td>1.00000</td>\n",
       "    </tr>\n",
       "    <tr>\n",
       "      <th>000ab548b8bc815c</th>\n",
       "      <th>E02006640</th>\n",
       "      <td>1.00000</td>\n",
       "    </tr>\n",
       "  </tbody>\n",
       "</table>\n",
       "</div>"
      ],
      "text/plain": [
       "                              ratio\n",
       "id               cell_id           \n",
       "0001878dda20c9d3 W02000108  0.93531\n",
       "                 W02000110  0.06469\n",
       "000543740a1a65b5 E02005514  1.00000\n",
       "0008ac25d92c0023 E02006111  1.00000\n",
       "000ab548b8bc815c E02006640  1.00000"
      ]
     },
     "execution_count": 270,
     "metadata": {},
     "output_type": "execute_result"
    }
   ],
   "source": [
    "places_to_cells.head()"
   ]
  },
  {
   "cell_type": "markdown",
   "metadata": {},
   "source": [
    "for each user: \n",
    " * for bots, get first and last tweet time,\n",
    " * for each place, count how many times tweeted at day/night time\n",
    " * for coordinates, do it apart? by df chunk of tweets into sjoin? this way you then aggregate by cell_id by time of day\n",
    " \n",
    "then treat user/place to go to user/cell, append gps data and finally do the attribution:\n",
    "have user / cell / is_daytime | count (float)\n",
    "take at nighttime rel frequencies of presence in cells: if entropy not too high, then take the one with highest frequency, or cell in which geometric median falls (pb: agg then pt then agg again)"
   ]
  },
  {
   "cell_type": "markdown",
   "metadata": {},
   "source": [
    "dict with for every year the ones to discard? or only global"
   ]
  },
  {
   "cell_type": "code",
   "execution_count": 561,
   "metadata": {},
   "outputs": [],
   "source": [
    "latlon_cells_gdf = cells_gdf.to_crs('epsg:4326')"
   ]
  },
  {
   "cell_type": "markdown",
   "metadata": {},
   "source": [
    "## Load user counts per cell and place"
   ]
  },
  {
   "cell_type": "code",
   "execution_count": 566,
   "metadata": {},
   "outputs": [],
   "source": [
    "save_path = paths.resident_ids\n",
    "with open(str(save_path).format(cc=cc, year_from=2015, year_to=2021), 'r') as f:\n",
    "    resident_ids = f.read().splitlines()"
   ]
  },
  {
   "cell_type": "code",
   "execution_count": 596,
   "metadata": {},
   "outputs": [
    {
     "data": {
      "text/plain": [
       "1505107"
      ]
     },
     "execution_count": 596,
     "metadata": {},
     "output_type": "execute_result"
    }
   ],
   "source": [
    "len(resident_ids)"
   ]
  },
  {
   "cell_type": "code",
   "execution_count": 273,
   "metadata": {},
   "outputs": [],
   "source": [
    "save_path = str(paths.user_cells_from_gps).format(cell_kind='LSOA_BGC')\n",
    "lsoa_user_counts = pd.read_parquet(save_path)"
   ]
  },
  {
   "cell_type": "code",
   "execution_count": 344,
   "metadata": {},
   "outputs": [
    {
     "data": {
      "text/html": [
       "<div>\n",
       "<style scoped>\n",
       "    .dataframe tbody tr th:only-of-type {\n",
       "        vertical-align: middle;\n",
       "    }\n",
       "\n",
       "    .dataframe tbody tr th {\n",
       "        vertical-align: top;\n",
       "    }\n",
       "\n",
       "    .dataframe thead th {\n",
       "        text-align: right;\n",
       "    }\n",
       "</style>\n",
       "<table border=\"1\" class=\"dataframe\">\n",
       "  <thead>\n",
       "    <tr style=\"text-align: right;\">\n",
       "      <th></th>\n",
       "      <th></th>\n",
       "      <th></th>\n",
       "      <th>count</th>\n",
       "    </tr>\n",
       "    <tr>\n",
       "      <th>user_id</th>\n",
       "      <th>cell_id</th>\n",
       "      <th>is_daytime</th>\n",
       "      <th></th>\n",
       "    </tr>\n",
       "  </thead>\n",
       "  <tbody>\n",
       "    <tr>\n",
       "      <th rowspan=\"5\" valign=\"top\">000003962867f2d312d942838cdb2535b950589f2e85f318e7565dcb45b7418fd3c9530e875ab83a28425f0748e1e0fc92959642cc470b8e0b1cbd4ddef1a8cb</th>\n",
       "      <th rowspan=\"2\" valign=\"top\">E01002819</th>\n",
       "      <th>False</th>\n",
       "      <td>2.0</td>\n",
       "    </tr>\n",
       "    <tr>\n",
       "      <th>True</th>\n",
       "      <td>1.0</td>\n",
       "    </tr>\n",
       "    <tr>\n",
       "      <th>E01002821</th>\n",
       "      <th>False</th>\n",
       "      <td>2.0</td>\n",
       "    </tr>\n",
       "    <tr>\n",
       "      <th>E01002828</th>\n",
       "      <th>True</th>\n",
       "      <td>1.0</td>\n",
       "    </tr>\n",
       "    <tr>\n",
       "      <th>E01002862</th>\n",
       "      <th>False</th>\n",
       "      <td>1.0</td>\n",
       "    </tr>\n",
       "  </tbody>\n",
       "</table>\n",
       "</div>"
      ],
      "text/plain": [
       "                                                                         count\n",
       "user_id                                            cell_id   is_daytime       \n",
       "000003962867f2d312d942838cdb2535b950589f2e85f31... E01002819 False         2.0\n",
       "                                                             True          1.0\n",
       "                                                   E01002821 False         2.0\n",
       "                                                   E01002828 True          1.0\n",
       "                                                   E01002862 False         1.0"
      ]
     },
     "execution_count": 344,
     "metadata": {},
     "output_type": "execute_result"
    }
   ],
   "source": [
    "lsoa_user_counts.head()"
   ]
  },
  {
   "cell_type": "code",
   "execution_count": 404,
   "metadata": {},
   "outputs": [
    {
     "data": {
      "text/html": [
       "<div>\n",
       "<style scoped>\n",
       "    .dataframe tbody tr th:only-of-type {\n",
       "        vertical-align: middle;\n",
       "    }\n",
       "\n",
       "    .dataframe tbody tr th {\n",
       "        vertical-align: top;\n",
       "    }\n",
       "\n",
       "    .dataframe thead th {\n",
       "        text-align: right;\n",
       "    }\n",
       "</style>\n",
       "<table border=\"1\" class=\"dataframe\">\n",
       "  <thead>\n",
       "    <tr style=\"text-align: right;\">\n",
       "      <th></th>\n",
       "      <th>msoa_id</th>\n",
       "    </tr>\n",
       "    <tr>\n",
       "      <th>lsoa11cd</th>\n",
       "      <th></th>\n",
       "    </tr>\n",
       "  </thead>\n",
       "  <tbody>\n",
       "    <tr>\n",
       "      <th>E01011969</th>\n",
       "      <td>E02002483</td>\n",
       "    </tr>\n",
       "    <tr>\n",
       "      <th>E01011949</th>\n",
       "      <td>E02002491</td>\n",
       "    </tr>\n",
       "    <tr>\n",
       "      <th>E01011970</th>\n",
       "      <td>E02002483</td>\n",
       "    </tr>\n",
       "    <tr>\n",
       "      <th>E01011971</th>\n",
       "      <td>E02002483</td>\n",
       "    </tr>\n",
       "    <tr>\n",
       "      <th>E01011950</th>\n",
       "      <td>E02002490</td>\n",
       "    </tr>\n",
       "  </tbody>\n",
       "</table>\n",
       "</div>"
      ],
      "text/plain": [
       "             msoa_id\n",
       "lsoa11cd            \n",
       "E01011969  E02002483\n",
       "E01011949  E02002491\n",
       "E01011970  E02002483\n",
       "E01011971  E02002483\n",
       "E01011950  E02002490"
      ]
     },
     "execution_count": 404,
     "metadata": {},
     "output_type": "execute_result"
    }
   ],
   "source": [
    "lsoa_to_msoa.head()"
   ]
  },
  {
   "cell_type": "code",
   "execution_count": 364,
   "metadata": {},
   "outputs": [],
   "source": [
    "user_gps_counts = lsoa_user_counts.join(lsoa_to_msoa.rename_axis('cell_id')).groupby(['user_id', 'msoa_id', 'is_daytime']).sum().rename_axis(index={'msoa_id': 'cell_id'})"
   ]
  },
  {
   "cell_type": "code",
   "execution_count": 308,
   "metadata": {},
   "outputs": [
    {
     "data": {
      "text/html": [
       "<div>\n",
       "<style scoped>\n",
       "    .dataframe tbody tr th:only-of-type {\n",
       "        vertical-align: middle;\n",
       "    }\n",
       "\n",
       "    .dataframe tbody tr th {\n",
       "        vertical-align: top;\n",
       "    }\n",
       "\n",
       "    .dataframe thead th {\n",
       "        text-align: right;\n",
       "    }\n",
       "</style>\n",
       "<table border=\"1\" class=\"dataframe\">\n",
       "  <thead>\n",
       "    <tr style=\"text-align: right;\">\n",
       "      <th></th>\n",
       "      <th></th>\n",
       "      <th></th>\n",
       "      <th>count</th>\n",
       "    </tr>\n",
       "    <tr>\n",
       "      <th>user_id</th>\n",
       "      <th>cell_id</th>\n",
       "      <th>is_daytime</th>\n",
       "      <th></th>\n",
       "    </tr>\n",
       "  </thead>\n",
       "  <tbody>\n",
       "    <tr>\n",
       "      <th rowspan=\"5\" valign=\"top\">000003962867f2d312d942838cdb2535b950589f2e85f318e7565dcb45b7418fd3c9530e875ab83a28425f0748e1e0fc92959642cc470b8e0b1cbd4ddef1a8cb</th>\n",
       "      <th rowspan=\"2\" valign=\"top\">E02000588</th>\n",
       "      <th>False</th>\n",
       "      <td>2.0</td>\n",
       "    </tr>\n",
       "    <tr>\n",
       "      <th>True</th>\n",
       "      <td>1.0</td>\n",
       "    </tr>\n",
       "    <tr>\n",
       "      <th>E02000590</th>\n",
       "      <th>False</th>\n",
       "      <td>2.0</td>\n",
       "    </tr>\n",
       "    <tr>\n",
       "      <th>E02000584</th>\n",
       "      <th>True</th>\n",
       "      <td>1.0</td>\n",
       "    </tr>\n",
       "    <tr>\n",
       "      <th>E02000590</th>\n",
       "      <th>False</th>\n",
       "      <td>1.0</td>\n",
       "    </tr>\n",
       "  </tbody>\n",
       "</table>\n",
       "</div>"
      ],
      "text/plain": [
       "                                                                         count\n",
       "user_id                                            cell_id   is_daytime       \n",
       "000003962867f2d312d942838cdb2535b950589f2e85f31... E02000588 False         2.0\n",
       "                                                             True          1.0\n",
       "                                                   E02000590 False         2.0\n",
       "                                                   E02000584 True          1.0\n",
       "                                                   E02000590 False         1.0"
      ]
     },
     "execution_count": 308,
     "metadata": {},
     "output_type": "execute_result"
    }
   ],
   "source": [
    "user_gps_counts.head()"
   ]
  },
  {
   "cell_type": "code",
   "execution_count": 311,
   "metadata": {},
   "outputs": [],
   "source": [
    "save_path = str(paths.user_places)\n",
    "user_places_counts = pd.read_parquet(save_path)"
   ]
  },
  {
   "cell_type": "code",
   "execution_count": 316,
   "metadata": {},
   "outputs": [
    {
     "data": {
      "text/html": [
       "<div>\n",
       "<style scoped>\n",
       "    .dataframe tbody tr th:only-of-type {\n",
       "        vertical-align: middle;\n",
       "    }\n",
       "\n",
       "    .dataframe tbody tr th {\n",
       "        vertical-align: top;\n",
       "    }\n",
       "\n",
       "    .dataframe thead th {\n",
       "        text-align: right;\n",
       "    }\n",
       "</style>\n",
       "<table border=\"1\" class=\"dataframe\">\n",
       "  <thead>\n",
       "    <tr style=\"text-align: right;\">\n",
       "      <th></th>\n",
       "      <th></th>\n",
       "      <th></th>\n",
       "      <th>count</th>\n",
       "    </tr>\n",
       "    <tr>\n",
       "      <th>user_id</th>\n",
       "      <th>place_id</th>\n",
       "      <th>is_daytime</th>\n",
       "      <th></th>\n",
       "    </tr>\n",
       "  </thead>\n",
       "  <tbody>\n",
       "    <tr>\n",
       "      <th rowspan=\"5\" valign=\"top\">000003962867f2d312d942838cdb2535b950589f2e85f318e7565dcb45b7418fd3c9530e875ab83a28425f0748e1e0fc92959642cc470b8e0b1cbd4ddef1a8cb</th>\n",
       "      <th rowspan=\"2\" valign=\"top\">01c7ed8caf11e8b2</th>\n",
       "      <th>False</th>\n",
       "      <td>1.0</td>\n",
       "    </tr>\n",
       "    <tr>\n",
       "      <th>True</th>\n",
       "      <td>1.0</td>\n",
       "    </tr>\n",
       "    <tr>\n",
       "      <th>151b9e91272233d1</th>\n",
       "      <th>True</th>\n",
       "      <td>1.0</td>\n",
       "    </tr>\n",
       "    <tr>\n",
       "      <th rowspan=\"2\" valign=\"top\">315b740b108481f6</th>\n",
       "      <th>False</th>\n",
       "      <td>245.0</td>\n",
       "    </tr>\n",
       "    <tr>\n",
       "      <th>True</th>\n",
       "      <td>136.0</td>\n",
       "    </tr>\n",
       "  </tbody>\n",
       "</table>\n",
       "</div>"
      ],
      "text/plain": [
       "                                                                                count\n",
       "user_id                                            place_id         is_daytime       \n",
       "000003962867f2d312d942838cdb2535b950589f2e85f31... 01c7ed8caf11e8b2 False         1.0\n",
       "                                                                    True          1.0\n",
       "                                                   151b9e91272233d1 True          1.0\n",
       "                                                   315b740b108481f6 False       245.0\n",
       "                                                                    True        136.0"
      ]
     },
     "execution_count": 316,
     "metadata": {},
     "output_type": "execute_result"
    }
   ],
   "source": [
    "user_places_counts.head()"
   ]
  },
  {
   "cell_type": "code",
   "execution_count": 374,
   "metadata": {},
   "outputs": [],
   "source": [
    "user_counts = user_places_counts.join(places_to_cells.reset_index().set_index('id'), on='place_id', how='inner').groupby(['user_id', 'cell_id', 'is_daytime']).sum()"
   ]
  },
  {
   "cell_type": "code",
   "execution_count": 375,
   "metadata": {},
   "outputs": [
    {
     "data": {
      "text/html": [
       "<div>\n",
       "<style scoped>\n",
       "    .dataframe tbody tr th:only-of-type {\n",
       "        vertical-align: middle;\n",
       "    }\n",
       "\n",
       "    .dataframe tbody tr th {\n",
       "        vertical-align: top;\n",
       "    }\n",
       "\n",
       "    .dataframe thead th {\n",
       "        text-align: right;\n",
       "    }\n",
       "</style>\n",
       "<table border=\"1\" class=\"dataframe\">\n",
       "  <thead>\n",
       "    <tr style=\"text-align: right;\">\n",
       "      <th></th>\n",
       "      <th></th>\n",
       "      <th></th>\n",
       "      <th>count</th>\n",
       "      <th>ratio</th>\n",
       "    </tr>\n",
       "    <tr>\n",
       "      <th>user_id</th>\n",
       "      <th>cell_id</th>\n",
       "      <th>is_daytime</th>\n",
       "      <th></th>\n",
       "      <th></th>\n",
       "    </tr>\n",
       "  </thead>\n",
       "  <tbody>\n",
       "    <tr>\n",
       "      <th rowspan=\"5\" valign=\"top\">000018e3a47e911eae3f9a2be451be87fefa3755b0f8b5bc9be1d83b130f4bdccb6cec0dc0934a713a99e46d96554c26e9dbdb4adf2c12f529414cc6ced1c9c4</th>\n",
       "      <th rowspan=\"2\" valign=\"top\">E02003654</th>\n",
       "      <th>False</th>\n",
       "      <td>2.0</td>\n",
       "      <td>0.025876</td>\n",
       "    </tr>\n",
       "    <tr>\n",
       "      <th>True</th>\n",
       "      <td>6.0</td>\n",
       "      <td>0.025876</td>\n",
       "    </tr>\n",
       "    <tr>\n",
       "      <th rowspan=\"2\" valign=\"top\">E02003656</th>\n",
       "      <th>False</th>\n",
       "      <td>2.0</td>\n",
       "      <td>0.974124</td>\n",
       "    </tr>\n",
       "    <tr>\n",
       "      <th>True</th>\n",
       "      <td>6.0</td>\n",
       "      <td>0.974124</td>\n",
       "    </tr>\n",
       "    <tr>\n",
       "      <th>E02006523</th>\n",
       "      <th>True</th>\n",
       "      <td>2.0</td>\n",
       "      <td>1.000000</td>\n",
       "    </tr>\n",
       "  </tbody>\n",
       "</table>\n",
       "</div>"
      ],
      "text/plain": [
       "                                                                         count  \\\n",
       "user_id                                            cell_id   is_daytime          \n",
       "000018e3a47e911eae3f9a2be451be87fefa3755b0f8b5b... E02003654 False         2.0   \n",
       "                                                             True          6.0   \n",
       "                                                   E02003656 False         2.0   \n",
       "                                                             True          6.0   \n",
       "                                                   E02006523 True          2.0   \n",
       "\n",
       "                                                                            ratio  \n",
       "user_id                                            cell_id   is_daytime            \n",
       "000018e3a47e911eae3f9a2be451be87fefa3755b0f8b5b... E02003654 False       0.025876  \n",
       "                                                             True        0.025876  \n",
       "                                                   E02003656 False       0.974124  \n",
       "                                                             True        0.974124  \n",
       "                                                   E02006523 True        1.000000  "
      ]
     },
     "execution_count": 375,
     "metadata": {},
     "output_type": "execute_result"
    }
   ],
   "source": [
    "user_counts.head()"
   ]
  },
  {
   "cell_type": "code",
   "execution_count": 327,
   "metadata": {},
   "outputs": [
    {
     "data": {
      "text/plain": [
       "(779839, 1407022)"
      ]
     },
     "execution_count": 327,
     "metadata": {},
     "output_type": "execute_result"
    }
   ],
   "source": [
    "user_counts.index.levels[0].size, user_places_counts.index.levels[0].size"
   ]
  },
  {
   "cell_type": "code",
   "execution_count": 376,
   "metadata": {},
   "outputs": [],
   "source": [
    "user_counts['count'] = user_counts['count'] * user_counts['ratio']\n",
    "user_counts = user_counts.add(user_gps_counts, fill_value=0)"
   ]
  },
  {
   "cell_type": "code",
   "execution_count": 371,
   "metadata": {},
   "outputs": [
    {
     "data": {
      "text/plain": [
       "1078550"
      ]
     },
     "execution_count": 371,
     "metadata": {},
     "output_type": "execute_result"
    }
   ],
   "source": [
    "user_counts.index.levels[0].size"
   ]
  },
  {
   "cell_type": "code",
   "execution_count": 378,
   "metadata": {},
   "outputs": [],
   "source": [
    "user_counts['prop_user'] = user_counts['count'] / user_counts.groupby('user_id')['count'].transform('sum')\n",
    "user_counts['prop_user_by_time'] = user_counts['count'] / user_counts.groupby(['user_id', 'is_daytime'])['count'].transform('sum')"
   ]
  },
  {
   "cell_type": "code",
   "execution_count": 379,
   "metadata": {},
   "outputs": [
    {
     "data": {
      "text/html": [
       "<div>\n",
       "<style scoped>\n",
       "    .dataframe tbody tr th:only-of-type {\n",
       "        vertical-align: middle;\n",
       "    }\n",
       "\n",
       "    .dataframe tbody tr th {\n",
       "        vertical-align: top;\n",
       "    }\n",
       "\n",
       "    .dataframe thead th {\n",
       "        text-align: right;\n",
       "    }\n",
       "</style>\n",
       "<table border=\"1\" class=\"dataframe\">\n",
       "  <thead>\n",
       "    <tr style=\"text-align: right;\">\n",
       "      <th></th>\n",
       "      <th></th>\n",
       "      <th></th>\n",
       "      <th>count</th>\n",
       "      <th>ratio</th>\n",
       "      <th>prop_user</th>\n",
       "      <th>prop_user_by_time</th>\n",
       "    </tr>\n",
       "    <tr>\n",
       "      <th>user_id</th>\n",
       "      <th>cell_id</th>\n",
       "      <th>is_daytime</th>\n",
       "      <th></th>\n",
       "      <th></th>\n",
       "      <th></th>\n",
       "      <th></th>\n",
       "    </tr>\n",
       "  </thead>\n",
       "  <tbody>\n",
       "    <tr>\n",
       "      <th rowspan=\"5\" valign=\"top\">000003962867f2d312d942838cdb2535b950589f2e85f318e7565dcb45b7418fd3c9530e875ab83a28425f0748e1e0fc92959642cc470b8e0b1cbd4ddef1a8cb</th>\n",
       "      <th>E02000584</th>\n",
       "      <th>True</th>\n",
       "      <td>1.0</td>\n",
       "      <td>NaN</td>\n",
       "      <td>0.014085</td>\n",
       "      <td>0.027778</td>\n",
       "    </tr>\n",
       "    <tr>\n",
       "      <th>E02000586</th>\n",
       "      <th>True</th>\n",
       "      <td>1.0</td>\n",
       "      <td>NaN</td>\n",
       "      <td>0.014085</td>\n",
       "      <td>0.027778</td>\n",
       "    </tr>\n",
       "    <tr>\n",
       "      <th rowspan=\"2\" valign=\"top\">E02000588</th>\n",
       "      <th>False</th>\n",
       "      <td>2.0</td>\n",
       "      <td>NaN</td>\n",
       "      <td>0.028169</td>\n",
       "      <td>0.057143</td>\n",
       "    </tr>\n",
       "    <tr>\n",
       "      <th>True</th>\n",
       "      <td>1.0</td>\n",
       "      <td>NaN</td>\n",
       "      <td>0.014085</td>\n",
       "      <td>0.027778</td>\n",
       "    </tr>\n",
       "    <tr>\n",
       "      <th>E02000590</th>\n",
       "      <th>False</th>\n",
       "      <td>3.0</td>\n",
       "      <td>NaN</td>\n",
       "      <td>0.042254</td>\n",
       "      <td>0.085714</td>\n",
       "    </tr>\n",
       "  </tbody>\n",
       "</table>\n",
       "</div>"
      ],
      "text/plain": [
       "                                                                         count  \\\n",
       "user_id                                            cell_id   is_daytime          \n",
       "000003962867f2d312d942838cdb2535b950589f2e85f31... E02000584 True          1.0   \n",
       "                                                   E02000586 True          1.0   \n",
       "                                                   E02000588 False         2.0   \n",
       "                                                             True          1.0   \n",
       "                                                   E02000590 False         3.0   \n",
       "\n",
       "                                                                         ratio  \\\n",
       "user_id                                            cell_id   is_daytime          \n",
       "000003962867f2d312d942838cdb2535b950589f2e85f31... E02000584 True          NaN   \n",
       "                                                   E02000586 True          NaN   \n",
       "                                                   E02000588 False         NaN   \n",
       "                                                             True          NaN   \n",
       "                                                   E02000590 False         NaN   \n",
       "\n",
       "                                                                         prop_user  \\\n",
       "user_id                                            cell_id   is_daytime              \n",
       "000003962867f2d312d942838cdb2535b950589f2e85f31... E02000584 True         0.014085   \n",
       "                                                   E02000586 True         0.014085   \n",
       "                                                   E02000588 False        0.028169   \n",
       "                                                             True         0.014085   \n",
       "                                                   E02000590 False        0.042254   \n",
       "\n",
       "                                                                         prop_user_by_time  \n",
       "user_id                                            cell_id   is_daytime                     \n",
       "000003962867f2d312d942838cdb2535b950589f2e85f31... E02000584 True                 0.027778  \n",
       "                                                   E02000586 True                 0.027778  \n",
       "                                                   E02000588 False                0.057143  \n",
       "                                                             True                 0.027778  \n",
       "                                                   E02000590 False                0.085714  "
      ]
     },
     "execution_count": 379,
     "metadata": {},
     "output_type": "execute_result"
    }
   ],
   "source": [
    "user_counts.head()"
   ]
  },
  {
   "cell_type": "code",
   "execution_count": 426,
   "metadata": {},
   "outputs": [],
   "source": [
    "user_residence_cells = user_counts.loc[(user_counts['prop_user_by_time'] > 0.5) & (user_counts['prop_user'] > 0.1)].loc[(slice(None), slice(None), False)]"
   ]
  },
  {
   "cell_type": "code",
   "execution_count": 434,
   "metadata": {},
   "outputs": [],
   "source": [
    "assign_kwargs = dict(\n",
    "    nighttime_acty_th = 0.5,\n",
    "    all_acty_th = 0.1,\n",
    "    count_th = 3,\n",
    ")\n",
    "user_residence_cells = user_residence.assign(user_counts, **assign_kwargs)"
   ]
  },
  {
   "cell_type": "code",
   "execution_count": 451,
   "metadata": {},
   "outputs": [],
   "source": [
    "paths.partial_format(**assign_kwargs)\n",
    "user_residence_cells.to_parquet(paths.user_residence_cell, index=True)"
   ]
  },
  {
   "cell_type": "code",
   "execution_count": null,
   "metadata": {},
   "outputs": [],
   "source": [
    "cells_gdf[['geometry']].join(user_residence_cells.groupby('cell_id').size().rename('count')).fillna(0).explore('count')"
   ]
  },
  {
   "cell_type": "code",
   "execution_count": 465,
   "metadata": {},
   "outputs": [],
   "source": [
    "save_path = str(paths.user_cells_from_gps).format(cell_kind='LSOA_BGC')\n",
    "a = pd.read_parquet(save_path).groupby('user_id').sum()\n",
    "save_path = str(paths.user_places)\n",
    "a = a.add(\n",
    "    pd.read_parquet(save_path).groupby('user_id').sum(),\n",
    "    fill_value=0\n",
    ")"
   ]
  },
  {
   "cell_type": "code",
   "execution_count": 546,
   "metadata": {},
   "outputs": [],
   "source": [
    "save_path = str(paths.user_cells_from_gps).format(cell_kind='LSOA_BGC')\n",
    "a = pd.read_parquet(save_path).groupby('user_id').sum()"
   ]
  },
  {
   "cell_type": "code",
   "execution_count": 476,
   "metadata": {},
   "outputs": [],
   "source": [
    "x = a.loc[user_residence_cells.index, 'count'].sort_values(ascending=False)"
   ]
  },
  {
   "cell_type": "code",
   "execution_count": 478,
   "metadata": {},
   "outputs": [],
   "source": [
    "cumsum = x.cumsum()\n",
    "idx_split = (cumsum > 0.5 * cumsum[-1]).argmax()\n",
    "max_chunk = 5e6\n",
    "list_chunks = []\n",
    "reverse_cumsum = cumsum[:idx_split:-1]"
   ]
  },
  {
   "cell_type": "code",
   "execution_count": 477,
   "metadata": {},
   "outputs": [
    {
     "data": {
      "text/plain": [
       "14233"
      ]
     },
     "execution_count": 477,
     "metadata": {},
     "output_type": "execute_result"
    }
   ],
   "source": [
    "cumsum = x.cumsum()\n",
    "idx_split = (cumsum > 0.5 * cumsum[-1]).argmax()\n",
    "max_chunk = 5e6\n",
    "list_chunks = []\n",
    "reverse_cumsum = cumsum[-1] - cumsum[:idx_split:-1]\n",
    "start_idx = 0\n",
    "for i in range(idx_split):\n",
    "    list_chunks.append(i)\n",
    "    stop_idx = start_idx + (reverse_cumsum[start_idx:] - reverse_cumsum[start_idx:][0] > max_chunk).argmax()\n",
    "    \n",
    "    start_idx = stop_idx "
   ]
  },
  {
   "cell_type": "code",
   "execution_count": 509,
   "metadata": {},
   "outputs": [],
   "source": [
    "cumsum = x.cumsum()\n",
    "idx_split = (cumsum > 0.5 * cumsum[-1]).argmax()\n",
    "max_chunk = 5e6\n",
    "list_chunks = []\n",
    "reverse_cumsum = cumsum[-1] - cumsum[:idx_split-1:-1]\n",
    "user_chunks = pd.concat([\n",
    "    cumsum[:idx_split] // (max_chunk / 2),\n",
    "    reverse_cumsum // (max_chunk / 2)\n",
    "]).astype(int).sort_values()\n",
    "nr_users = x.shape[0]\n",
    "obj_chunk_size = nr_users // user_chunks.values[-1]"
   ]
  },
  {
   "cell_type": "code",
   "execution_count": 515,
   "metadata": {},
   "outputs": [],
   "source": [
    "user_chunk_df = pd.concat([x, user_chunks.rename('chunk')], axis=1)\n",
    "chunks_df = pd.concat(\n",
    "    [\n",
    "        user_chunk_df.groupby('chunk').size().rename('nr_users'),\n",
    "        user_chunk_df.groupby('chunk')['count'].sum().rename('nr_tweets')\n",
    "    ],\n",
    "    axis=1,\n",
    ")\n",
    "    "
   ]
  },
  {
   "cell_type": "code",
   "execution_count": 538,
   "metadata": {},
   "outputs": [],
   "source": [
    "user_chunk_df['rand_chunk'] = (np.random.random(nr_users) * (cumsum[-1] // max_chunk)).astype(int)"
   ]
  },
  {
   "cell_type": "code",
   "execution_count": 539,
   "metadata": {},
   "outputs": [],
   "source": [
    "rand_chunks_df = pd.concat(\n",
    "    [\n",
    "        user_chunk_df.groupby('rand_chunk').size().rename('nr_users'),\n",
    "        user_chunk_df.groupby('rand_chunk')['count'].sum().rename('nr_tweets')\n",
    "    ],\n",
    "    axis=1,\n",
    ")"
   ]
  },
  {
   "cell_type": "code",
   "execution_count": 543,
   "metadata": {},
   "outputs": [
    {
     "data": {
      "text/plain": [
       "201974.35186885946"
      ]
     },
     "execution_count": 543,
     "metadata": {},
     "output_type": "execute_result"
    }
   ],
   "source": [
    "user_chunk_df['rand_chunk'] = (np.random.random(nr_users) * (cumsum[-1] // max_chunk)).astype(int)\n",
    "rand_chunks_df = pd.concat(\n",
    "    [\n",
    "        user_chunk_df.groupby('rand_chunk').size().rename('nr_users'),\n",
    "        user_chunk_df.groupby('rand_chunk')['count'].sum().rename('nr_tweets')\n",
    "    ],\n",
    "    axis=1,\n",
    ")\n",
    "std = rand_chunks_df['nr_tweets'].std()\n",
    "while std > 0.1 * max_chunk:\n",
    "    user_chunk_df['rand_chunk'] = (np.random.random(nr_users) * (cumsum[-1] // max_chunk)).astype(int)\n",
    "    rand_chunks_df = pd.concat(\n",
    "        [\n",
    "            user_chunk_df.groupby('rand_chunk').size().rename('nr_users'),\n",
    "            user_chunk_df.groupby('rand_chunk')['count'].sum().rename('nr_tweets')\n",
    "        ],\n",
    "        axis=1,\n",
    "    )\n",
    "    std = rand_chunks_df['nr_tweets'].std()"
   ]
  }
 ],
 "metadata": {
  "interpreter": {
   "hash": "f7027f8bd9b329046d703d8e8e57ca0bd4d4f03545e5af8317399a95dc5037ac"
  },
  "kernelspec": {
   "display_name": "Python 3 (ipykernel)",
   "language": "python",
   "name": "python3"
  },
  "orig_nbformat": 4
 },
 "nbformat": 4,
 "nbformat_minor": 2
}
